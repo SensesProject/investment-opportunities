{
 "cells": [
  {
   "cell_type": "markdown",
   "metadata": {},
   "source": [
    "# Investment Opportunities and Alignment"
   ]
  },
  {
   "cell_type": "markdown",
   "metadata": {},
   "source": [
    "- how investments consistent with the Paris Agreement Long-term target look like\n",
    "- the investments of today determine to a large extent the emissions of tomorrow"
   ]
  },
  {
   "cell_type": "code",
   "execution_count": 126,
   "metadata": {},
   "outputs": [],
   "source": [
    "using CSV\n",
    "using Statistics\n",
    "using JSON"
   ]
  },
  {
   "cell_type": "markdown",
   "metadata": {},
   "source": [
    "## Helper functions"
   ]
  },
  {
   "cell_type": "code",
   "execution_count": 193,
   "metadata": {},
   "outputs": [
    {
     "data": {
      "text/plain": [
       "averageYears (generic function with 1 method)"
      ]
     },
     "execution_count": 193,
     "metadata": {},
     "output_type": "execute_result"
    }
   ],
   "source": [
    "function averageYears(row, years)\n",
    "    # We loop over the years and get the value for each year from the row\n",
    "    # Since the column name of the years are in Symbols we need to convert the String-year\n",
    "    # From this new array we calculate the mean and cound it with 3 digits\n",
    "    function getYear(year)\n",
    "        value = row[1, Symbol(year)]\n",
    "        if (typeof(value) === String) # In some cases we need to convert the data from the csv to a number\n",
    "           parse(Float64, replace(value, \",\" => \".\")) \n",
    "        else\n",
    "            value\n",
    "        end\n",
    "    end\n",
    "    round(mean(getYear, years), digits=3)\n",
    "end"
   ]
  },
  {
   "cell_type": "markdown",
   "metadata": {},
   "source": [
    "## Getting the historic data"
   ]
  },
  {
   "cell_type": "code",
   "execution_count": 128,
   "metadata": {},
   "outputs": [
    {
     "data": {
      "text/html": [
       "<table class=\"data-frame\"><thead><tr><th></th><th>Model</th><th>Scenario</th><th>Region</th><th>Variable</th></tr><tr><th></th><th>String</th><th>String</th><th>String</th><th>String</th></tr></thead><tbody><p>9 rows × 19 columns (omitted printing of 15 columns)</p><tr><th>1</th><td>Reference</td><td>IEA-WEI </td><td>World</td><td>Investment|Energy Supply|Extraction|Coal</td></tr><tr><th>2</th><td>Reference</td><td>IEA-WEI </td><td>World</td><td>Investment|Energy Supply|Extraction|Fossil</td></tr><tr><th>3</th><td>Reference</td><td>IEA-WEI </td><td>World</td><td>Investment|Energy Supply|Electricity|Nuclear</td></tr><tr><th>4</th><td>Reference</td><td>IEA-WEI </td><td>World</td><td>Investment|Energy Supply|Electricity|Fossil</td></tr><tr><th>5</th><td>Reference</td><td>IEA-WEI </td><td>World</td><td>Investment|Energy Supply|Electricity|Transmission and Distribution</td></tr><tr><th>6</th><td>Reference</td><td>BNEF</td><td>World</td><td>Investment|Energy Supply|Electricity|Solar</td></tr><tr><th>7</th><td>Reference</td><td>BNEF</td><td>World</td><td>Investment|Energy Supply|Electricity|Wind</td></tr><tr><th>8</th><td>Reference</td><td>IEA-WEI </td><td>World</td><td>Investment|Energy Efficiency</td></tr><tr><th>9</th><td>Reference</td><td>IEA-WEI </td><td>World</td><td>Investment|Energy Supply|Extraction|Biomass</td></tr></tbody></table>"
      ],
      "text/latex": [
       "\\begin{tabular}{r|ccccc}\n",
       "\t& Model & Scenario & Region & Variable & \\\\\n",
       "\t\\hline\n",
       "\t& String & String & String & String & \\\\\n",
       "\t\\hline\n",
       "\t1 & Reference & IEA-WEI  & World & Investment|Energy Supply|Extraction|Coal & $\\dots$ \\\\\n",
       "\t2 & Reference & IEA-WEI  & World & Investment|Energy Supply|Extraction|Fossil & $\\dots$ \\\\\n",
       "\t3 & Reference & IEA-WEI  & World & Investment|Energy Supply|Electricity|Nuclear & $\\dots$ \\\\\n",
       "\t4 & Reference & IEA-WEI  & World & Investment|Energy Supply|Electricity|Fossil & $\\dots$ \\\\\n",
       "\t5 & Reference & IEA-WEI  & World & Investment|Energy Supply|Electricity|Transmission and Distribution & $\\dots$ \\\\\n",
       "\t6 & Reference & BNEF & World & Investment|Energy Supply|Electricity|Solar & $\\dots$ \\\\\n",
       "\t7 & Reference & BNEF & World & Investment|Energy Supply|Electricity|Wind & $\\dots$ \\\\\n",
       "\t8 & Reference & IEA-WEI  & World & Investment|Energy Efficiency & $\\dots$ \\\\\n",
       "\t9 & Reference & IEA-WEI  & World & Investment|Energy Supply|Extraction|Biomass & $\\dots$ \\\\\n",
       "\\end{tabular}\n"
      ],
      "text/plain": [
       "9×19 DataFrames.DataFrame. Omitted printing of 16 columns\n",
       "│ Row │ Model     │ Scenario │ Region │\n",
       "│     │ \u001b[90mString\u001b[39m    │ \u001b[90mString\u001b[39m   │ \u001b[90mString\u001b[39m │\n",
       "├─────┼───────────┼──────────┼────────┤\n",
       "│ 1   │ Reference │ IEA-WEI  │ World  │\n",
       "│ 2   │ Reference │ IEA-WEI  │ World  │\n",
       "│ 3   │ Reference │ IEA-WEI  │ World  │\n",
       "│ 4   │ Reference │ IEA-WEI  │ World  │\n",
       "│ 5   │ Reference │ IEA-WEI  │ World  │\n",
       "│ 6   │ Reference │ BNEF     │ World  │\n",
       "│ 7   │ Reference │ BNEF     │ World  │\n",
       "│ 8   │ Reference │ IEA-WEI  │ World  │\n",
       "│ 9   │ Reference │ IEA-WEI  │ World  │"
      ]
     },
     "execution_count": 128,
     "metadata": {},
     "output_type": "execute_result"
    }
   ],
   "source": [
    "historicData = CSV.read(\"source/WEI2020-DataTables_supplytimeseries_BNEF.csv\", decimal='.')"
   ]
  },
  {
   "cell_type": "markdown",
   "metadata": {},
   "source": []
  },
  {
   "cell_type": "code",
   "execution_count": null,
   "metadata": {},
   "outputs": [],
   "source": []
  },
  {
   "cell_type": "markdown",
   "metadata": {},
   "source": [
    "### Coresponding key names"
   ]
  },
  {
   "cell_type": "code",
   "execution_count": 129,
   "metadata": {},
   "outputs": [
    {
     "data": {
      "text/plain": [
       "Dict{String,String} with 9 entries:\n",
       "  \"Energy Efficiency\"       => \"Investment|Energy Efficiency\"\n",
       "  \"Extraction and Conversi… => \"Investment|Energy Supply|Extraction|Fossil\"\n",
       "  \"Extraction and Conversi… => \"Investment|Energy Supply|Extraction|Biomass\"\n",
       "  \"Coal\"                    => \"Investment|Energy Supply|Extraction|Coal\"\n",
       "  \"Extraction and Conversi… => \"Investment|Energy Supply|Electricity|Nuclear\"\n",
       "  \"Electricity - Fossil Fu… => \"Investment|Energy Supply|Electricity|Fossil\"\n",
       "  \"Energy Supply|Electrici… => \"Investment|Energy Supply|Electricity|Solar\"\n",
       "  \"Energy Supply|Electrici… => \"Investment|Energy Supply|Electricity|Wind\"\n",
       "  \"Electricity - T&D and S… => \"Investment|Energy Supply|Electricity|Transmissi…"
      ]
     },
     "execution_count": 129,
     "metadata": {},
     "output_type": "execute_result"
    }
   ],
   "source": [
    "VARIABLE_MAPPING = Dict{String,String}(\n",
    "    \"Energy Efficiency\" => \"Investment|Energy Efficiency\",\n",
    "    \"Electricity - T&D and Storage\" => \"Investment|Energy Supply|Electricity|Transmission and Distribution\",\n",
    "    \"Extraction and Conversion - Nuclear\" => \"Investment|Energy Supply|Electricity|Nuclear\",\n",
    "    \"Extraction and Conversion - Bioenergy\" => \"Investment|Energy Supply|Extraction|Biomass\",\n",
    "    \"Energy Supply|Electricity|Solar\" => \"Investment|Energy Supply|Electricity|Solar\",\n",
    "    \"Energy Supply|Electricity|Wind\" => \"Investment|Energy Supply|Electricity|Wind\",\n",
    "    \"Electricity - Fossil Fuels w/o CCS\" => \"Investment|Energy Supply|Electricity|Fossil\",\n",
    "    \"Extraction and Conversion - Fossil Fuels\" => \"Investment|Energy Supply|Extraction|Fossil\",\n",
    "    \"Coal\" => \"Investment|Energy Supply|Extraction|Coal\"\n",
    ")"
   ]
  },
  {
   "cell_type": "markdown",
   "metadata": {},
   "source": [
    "### Relevant historic years"
   ]
  },
  {
   "cell_type": "code",
   "execution_count": 130,
   "metadata": {},
   "outputs": [
    {
     "data": {
      "text/plain": [
       "(2017, 2018, 2019)"
      ]
     },
     "execution_count": 130,
     "metadata": {},
     "output_type": "execute_result"
    }
   ],
   "source": [
    "HISTORIC_YEARS = (2017, 2018, 2019)"
   ]
  },
  {
   "cell_type": "code",
   "execution_count": 131,
   "metadata": {},
   "outputs": [
    {
     "data": {
      "text/plain": [
       "findHistoricData (generic function with 1 method)"
      ]
     },
     "execution_count": 131,
     "metadata": {},
     "output_type": "execute_result"
    }
   ],
   "source": [
    "function findHistoricData(variable)\n",
    "    row = filter(row -> row[:Variable] == variable, historicData)\n",
    "    averageYears(row, HISTORIC_YEARS)\n",
    "end"
   ]
  },
  {
   "cell_type": "code",
   "execution_count": null,
   "metadata": {},
   "outputs": [],
   "source": []
  },
  {
   "cell_type": "code",
   "execution_count": 132,
   "metadata": {},
   "outputs": [
    {
     "data": {
      "text/plain": [
       "213.765"
      ]
     },
     "execution_count": 132,
     "metadata": {},
     "output_type": "execute_result"
    }
   ],
   "source": [
    "# Test function\n",
    "begin\n",
    "    findHistoricData(\"Investment|Energy Efficiency\")\n",
    "end"
   ]
  },
  {
   "cell_type": "code",
   "execution_count": 188,
   "metadata": {},
   "outputs": [
    {
     "data": {
      "text/plain": [
       "getHistoricData (generic function with 1 method)"
      ]
     },
     "execution_count": 188,
     "metadata": {},
     "output_type": "execute_result"
    }
   ],
   "source": [
    "function getHistoricData(variable)\n",
    "    dict = Dict{String, Float64}()\n",
    "    dict[\"Reference\"] = 0 # Some variable are not present in the historic data so we use 0 for that.\n",
    "    \n",
    "    if (haskey(VARIABLE_MAPPING, variable)) # Some variables have different names in the historic data so we map the keys to the corresponding ones.\n",
    "        dict[\"Reference\"] = findHistoricData(VARIABLE_MAPPING[variable])\n",
    "    elseif (variable === \"Oil and Gas\") # Some variables need to be specificly calculated\n",
    "        fossil = findHistoricData(\"Investment|Energy Supply|Extraction|Fossil\")\n",
    "        coal = findHistoricData(\"Investment|Energy Supply|Extraction|Coal\")\n",
    "        dict[\"Reference\"] = fossil - coal\n",
    "    end\n",
    "    \n",
    "    # println(variable, \"->\", dict[\"Reference\"])\n",
    "    dict[\"Reference\"] = round(dict[\"Reference\"], digits=3)\n",
    "    dict[\"average\"] = dict[\"Reference\"] # Since we don’t have any models for the historic data, the average is the same\n",
    "    dict[\"max\"] = dict[\"Reference\"] # The same applies for the maximum value\n",
    "    return dict\n",
    "end"
   ]
  },
  {
   "cell_type": "code",
   "execution_count": null,
   "metadata": {},
   "outputs": [],
   "source": []
  },
  {
   "cell_type": "code",
   "execution_count": 134,
   "metadata": {},
   "outputs": [
    {
     "data": {
      "text/html": [
       "<table class=\"data-frame\"><thead><tr><th></th><th>Model</th><th>Region</th><th>Scenario</th><th>Variable</th></tr><tr><th></th><th>String</th><th>String</th><th>String</th><th>String</th></tr></thead><tbody><p>7,432 rows × 23 columns (omitted printing of 19 columns)</p><tr><th>1</th><td>AIM/CGE</td><td>World</td><td>CPol</td><td>Total energy investment</td></tr><tr><th>2</th><td>AIM/CGE</td><td>World</td><td>CPol</td><td>Total energy investment (supply side)</td></tr><tr><th>3</th><td>AIM/CGE</td><td>World</td><td>CPol</td><td>Low carbon investment</td></tr><tr><th>4</th><td>AIM/CGE</td><td>World</td><td>CPol</td><td>Low carbon investment (supply side)</td></tr><tr><th>5</th><td>AIM/CGE</td><td>World</td><td>CPol</td><td>Total_inv/GDP</td></tr><tr><th>6</th><td>AIM/CGE</td><td>World</td><td>CPol</td><td>LC_inv/GDP</td></tr><tr><th>7</th><td>AIM/CGE</td><td>World</td><td>CPol</td><td>Extraction and Conversion - Fossil Fuels</td></tr><tr><th>8</th><td>AIM/CGE</td><td>World</td><td>CPol</td><td>Electricity - Fossil Fuels w/o CCS</td></tr><tr><th>9</th><td>AIM/CGE</td><td>World</td><td>CPol</td><td>Hydrogen - Fossil</td></tr><tr><th>10</th><td>AIM/CGE</td><td>World</td><td>CPol</td><td>Electricity - Non-bio Renewables</td></tr><tr><th>11</th><td>AIM/CGE</td><td>World</td><td>CPol</td><td>Hydrogen - Non-fossil</td></tr><tr><th>12</th><td>AIM/CGE</td><td>World</td><td>CPol</td><td>Extraction and Conversion - Bioenergy</td></tr><tr><th>13</th><td>AIM/CGE</td><td>World</td><td>CPol</td><td>Extraction and Conversion - Nuclear</td></tr><tr><th>14</th><td>AIM/CGE</td><td>World</td><td>CPol</td><td>Electricity - T&amp;D and Storage</td></tr><tr><th>15</th><td>AIM/CGE</td><td>World</td><td>CPol</td><td>CCS</td></tr><tr><th>16</th><td>AIM/CGE</td><td>World</td><td>CPol</td><td>Energy Efficiency</td></tr><tr><th>17</th><td>AIM/CGE</td><td>World</td><td>CPol</td><td>Energy Supply|Electricity|Coal|w/ CCS</td></tr><tr><th>18</th><td>AIM/CGE</td><td>World</td><td>CPol</td><td>Energy Supply|Electricity|Coal|w/o CCS</td></tr><tr><th>19</th><td>AIM/CGE</td><td>World</td><td>CPol</td><td>Energy Supply|Electricity|Gas|w/ CCS</td></tr><tr><th>20</th><td>AIM/CGE</td><td>World</td><td>CPol</td><td>Energy Supply|Electricity|Gas|w/o CCS</td></tr><tr><th>21</th><td>AIM/CGE</td><td>World</td><td>CPol</td><td>Energy Supply|Electricity|Oil|w/ CCS</td></tr><tr><th>22</th><td>AIM/CGE</td><td>World</td><td>CPol</td><td>Energy Supply|Electricity|Biomass|w/ CCS</td></tr><tr><th>23</th><td>AIM/CGE</td><td>World</td><td>CPol</td><td>Energy Supply|Electricity|Biomass|w/o CCS</td></tr><tr><th>24</th><td>AIM/CGE</td><td>World</td><td>CPol</td><td>Energy Supply|Electricity|Nuclear</td></tr><tr><th>25</th><td>AIM/CGE</td><td>World</td><td>CPol</td><td>Energy Supply|Electricity|Hydro</td></tr><tr><th>26</th><td>AIM/CGE</td><td>World</td><td>CPol</td><td>Energy Supply|Electricity|Solar</td></tr><tr><th>27</th><td>AIM/CGE</td><td>World</td><td>CPol</td><td>Energy Supply|Electricity|Wind</td></tr><tr><th>28</th><td>AIM/CGE</td><td>World</td><td>CPol</td><td>Energy Supply|Electricity|Geothermal</td></tr><tr><th>29</th><td>AIM/CGE</td><td>World</td><td>CPol</td><td>Energy Supply|Electricity|Ocean</td></tr><tr><th>30</th><td>AIM/CGE</td><td>World</td><td>CPol</td><td>Energy Supply|Electricity|Transmission and Distribution</td></tr><tr><th>&vellip;</th><td>&vellip;</td><td>&vellip;</td><td>&vellip;</td><td>&vellip;</td></tr></tbody></table>"
      ],
      "text/latex": [
       "\\begin{tabular}{r|ccccc}\n",
       "\t& Model & Region & Scenario & Variable & \\\\\n",
       "\t\\hline\n",
       "\t& String & String & String & String & \\\\\n",
       "\t\\hline\n",
       "\t1 & AIM/CGE & World & CPol & Total energy investment & $\\dots$ \\\\\n",
       "\t2 & AIM/CGE & World & CPol & Total energy investment (supply side) & $\\dots$ \\\\\n",
       "\t3 & AIM/CGE & World & CPol & Low carbon investment & $\\dots$ \\\\\n",
       "\t4 & AIM/CGE & World & CPol & Low carbon investment (supply side) & $\\dots$ \\\\\n",
       "\t5 & AIM/CGE & World & CPol & Total\\_inv/GDP & $\\dots$ \\\\\n",
       "\t6 & AIM/CGE & World & CPol & LC\\_inv/GDP & $\\dots$ \\\\\n",
       "\t7 & AIM/CGE & World & CPol & Extraction and Conversion - Fossil Fuels & $\\dots$ \\\\\n",
       "\t8 & AIM/CGE & World & CPol & Electricity - Fossil Fuels w/o CCS & $\\dots$ \\\\\n",
       "\t9 & AIM/CGE & World & CPol & Hydrogen - Fossil & $\\dots$ \\\\\n",
       "\t10 & AIM/CGE & World & CPol & Electricity - Non-bio Renewables & $\\dots$ \\\\\n",
       "\t11 & AIM/CGE & World & CPol & Hydrogen - Non-fossil & $\\dots$ \\\\\n",
       "\t12 & AIM/CGE & World & CPol & Extraction and Conversion - Bioenergy & $\\dots$ \\\\\n",
       "\t13 & AIM/CGE & World & CPol & Extraction and Conversion - Nuclear & $\\dots$ \\\\\n",
       "\t14 & AIM/CGE & World & CPol & Electricity - T\\&D and Storage & $\\dots$ \\\\\n",
       "\t15 & AIM/CGE & World & CPol & CCS & $\\dots$ \\\\\n",
       "\t16 & AIM/CGE & World & CPol & Energy Efficiency & $\\dots$ \\\\\n",
       "\t17 & AIM/CGE & World & CPol & Energy Supply|Electricity|Coal|w/ CCS & $\\dots$ \\\\\n",
       "\t18 & AIM/CGE & World & CPol & Energy Supply|Electricity|Coal|w/o CCS & $\\dots$ \\\\\n",
       "\t19 & AIM/CGE & World & CPol & Energy Supply|Electricity|Gas|w/ CCS & $\\dots$ \\\\\n",
       "\t20 & AIM/CGE & World & CPol & Energy Supply|Electricity|Gas|w/o CCS & $\\dots$ \\\\\n",
       "\t21 & AIM/CGE & World & CPol & Energy Supply|Electricity|Oil|w/ CCS & $\\dots$ \\\\\n",
       "\t22 & AIM/CGE & World & CPol & Energy Supply|Electricity|Biomass|w/ CCS & $\\dots$ \\\\\n",
       "\t23 & AIM/CGE & World & CPol & Energy Supply|Electricity|Biomass|w/o CCS & $\\dots$ \\\\\n",
       "\t24 & AIM/CGE & World & CPol & Energy Supply|Electricity|Nuclear & $\\dots$ \\\\\n",
       "\t25 & AIM/CGE & World & CPol & Energy Supply|Electricity|Hydro & $\\dots$ \\\\\n",
       "\t26 & AIM/CGE & World & CPol & Energy Supply|Electricity|Solar & $\\dots$ \\\\\n",
       "\t27 & AIM/CGE & World & CPol & Energy Supply|Electricity|Wind & $\\dots$ \\\\\n",
       "\t28 & AIM/CGE & World & CPol & Energy Supply|Electricity|Geothermal & $\\dots$ \\\\\n",
       "\t29 & AIM/CGE & World & CPol & Energy Supply|Electricity|Ocean & $\\dots$ \\\\\n",
       "\t30 & AIM/CGE & World & CPol & Energy Supply|Electricity|Transmission and Distribution & $\\dots$ \\\\\n",
       "\t$\\dots$ & $\\dots$ & $\\dots$ & $\\dots$ & $\\dots$ &  \\\\\n",
       "\\end{tabular}\n"
      ],
      "text/plain": [
       "7432×23 DataFrames.DataFrame. Omitted printing of 20 columns\n",
       "│ Row  │ Model         │ Region │ Scenario │\n",
       "│      │ \u001b[90mString\u001b[39m        │ \u001b[90mString\u001b[39m │ \u001b[90mString\u001b[39m   │\n",
       "├──────┼───────────────┼────────┼──────────┤\n",
       "│ 1    │ AIM/CGE       │ World  │ CPol     │\n",
       "│ 2    │ AIM/CGE       │ World  │ CPol     │\n",
       "│ 3    │ AIM/CGE       │ World  │ CPol     │\n",
       "│ 4    │ AIM/CGE       │ World  │ CPol     │\n",
       "│ 5    │ AIM/CGE       │ World  │ CPol     │\n",
       "│ 6    │ AIM/CGE       │ World  │ CPol     │\n",
       "│ 7    │ AIM/CGE       │ World  │ CPol     │\n",
       "│ 8    │ AIM/CGE       │ World  │ CPol     │\n",
       "│ 9    │ AIM/CGE       │ World  │ CPol     │\n",
       "│ 10   │ AIM/CGE       │ World  │ CPol     │\n",
       "⋮\n",
       "│ 7422 │ WITCH-GLOBIOM │ R5LAM  │ 1.5C     │\n",
       "│ 7423 │ WITCH-GLOBIOM │ R5LAM  │ 1.5C     │\n",
       "│ 7424 │ WITCH-GLOBIOM │ R5LAM  │ 1.5C     │\n",
       "│ 7425 │ WITCH-GLOBIOM │ R5LAM  │ 1.5C     │\n",
       "│ 7426 │ WITCH-GLOBIOM │ R5LAM  │ 1.5C     │\n",
       "│ 7427 │ WITCH-GLOBIOM │ R5LAM  │ 1.5C     │\n",
       "│ 7428 │ WITCH-GLOBIOM │ R5LAM  │ 1.5C     │\n",
       "│ 7429 │ WITCH-GLOBIOM │ R5LAM  │ 1.5C     │\n",
       "│ 7430 │ WITCH-GLOBIOM │ R5LAM  │ 1.5C     │\n",
       "│ 7431 │ WITCH-GLOBIOM │ R5LAM  │ 1.5C     │\n",
       "│ 7432 │ WITCH-GLOBIOM │ R5LAM  │ 1.5C     │"
      ]
     },
     "execution_count": 134,
     "metadata": {},
     "output_type": "execute_result"
    }
   ],
   "source": [
    "scenarioRuns = CSV.read(\"source/41560_2018_179_MOESM2_ESM-1.csv\", decimal=',')"
   ]
  },
  {
   "cell_type": "code",
   "execution_count": 135,
   "metadata": {},
   "outputs": [
    {
     "data": {
      "text/plain": [
       "31-element Array{String,1}:\n",
       " \"Total energy investment\"                                \n",
       " \"Total energy investment (supply side)\"                  \n",
       " \"Low carbon investment\"                                  \n",
       " \"Low carbon investment (supply side)\"                    \n",
       " \"Total_inv/GDP\"                                          \n",
       " \"LC_inv/GDP\"                                             \n",
       " \"Extraction and Conversion - Fossil Fuels\"               \n",
       " \"Electricity - Fossil Fuels w/o CCS\"                     \n",
       " \"Hydrogen - Fossil\"                                      \n",
       " \"Electricity - Non-bio Renewables\"                       \n",
       " \"Hydrogen - Non-fossil\"                                  \n",
       " \"Extraction and Conversion - Bioenergy\"                  \n",
       " \"Extraction and Conversion - Nuclear\"                    \n",
       " ⋮                                                        \n",
       " \"Energy Supply|Electricity|Gas|w/o CCS\"                  \n",
       " \"Energy Supply|Electricity|Oil|w/ CCS\"                   \n",
       " \"Energy Supply|Electricity|Biomass|w/ CCS\"               \n",
       " \"Energy Supply|Electricity|Biomass|w/o CCS\"              \n",
       " \"Energy Supply|Electricity|Nuclear\"                      \n",
       " \"Energy Supply|Electricity|Hydro\"                        \n",
       " \"Energy Supply|Electricity|Solar\"                        \n",
       " \"Energy Supply|Electricity|Wind\"                         \n",
       " \"Energy Supply|Electricity|Geothermal\"                   \n",
       " \"Energy Supply|Electricity|Ocean\"                        \n",
       " \"Energy Supply|Electricity|Transmission and Distribution\"\n",
       " \"Energy Supply|Electricity|Electricity Storage\"          "
      ]
     },
     "execution_count": 135,
     "metadata": {},
     "output_type": "execute_result"
    }
   ],
   "source": [
    "unique(scenarioRuns[!,:Variable])"
   ]
  },
  {
   "cell_type": "markdown",
   "metadata": {},
   "source": [
    "## Defining valid values"
   ]
  },
  {
   "cell_type": "code",
   "execution_count": 136,
   "metadata": {},
   "outputs": [
    {
     "data": {
      "text/plain": [
       "(\"Energy Efficiency\", \"CCS\", \"Electricity - T&D and Storage\", \"Extraction and Conversion - Nuclear\", \"Extraction and Conversion - Bioenergy\", \"Hydrogen - Non-fossil\", \"Electricity - Non-bio Renewables\", \"Energy Supply|Electricity|Solar\", \"Energy Supply|Electricity|Wind\", \"Hydrogen - Fossil\", \"Electricity - Fossil Fuels w/o CCS\", \"Extraction and Conversion - Fossil Fuels\", \"other renewables\", \"Coal\", \"Oil and Gas\")"
      ]
     },
     "execution_count": 136,
     "metadata": {},
     "output_type": "execute_result"
    }
   ],
   "source": [
    "VARIABLES = (\n",
    "  \"Energy Efficiency\",\n",
    "  \"CCS\",\n",
    "  \"Electricity - T&D and Storage\",\n",
    "  \"Extraction and Conversion - Nuclear\",\n",
    "  \"Extraction and Conversion - Bioenergy\",\n",
    "  \"Hydrogen - Non-fossil\",\n",
    "  \"Electricity - Non-bio Renewables\", # This will only be used to calculate other values. See getValues function\n",
    "  \"Energy Supply|Electricity|Solar\",\n",
    "  \"Energy Supply|Electricity|Wind\",\n",
    "  \"Hydrogen - Fossil\",\n",
    "  \"Electricity - Fossil Fuels w/o CCS\",\n",
    "  \"Extraction and Conversion - Fossil Fuels\", # This will only be used to calculate other values. See getValues function\n",
    "  \"other renewables\", # This is not in the data and will be calculated by \"Electricity - Non-bio Renewables\" minus \"Energy Supply|Electricity|Solar\" and \"Energy Supply|Electricity|Wind\". See getValues function\n",
    "  \"Coal\", # This is not in the data and will be calculated by \"Extraction and Conversion - Fossil Fuels\" * 0.1. See getValues function\n",
    "  \"Oil and Gas\" # This is not in the data and will be calculated by \"Extraction and Conversion - Fossil Fuels\" * 0.9. See getValues function\n",
    ")"
   ]
  },
  {
   "cell_type": "code",
   "execution_count": 137,
   "metadata": {},
   "outputs": [
    {
     "data": {
      "text/plain": [
       "(\"AIM/CGE\", \"IMAGE\", \"MESSAGEix-GLOBIOM\", \"POLES\", \"REMIND-MAgPIE\")"
      ]
     },
     "execution_count": 137,
     "metadata": {},
     "output_type": "execute_result"
    }
   ],
   "source": [
    "MODELS = (\n",
    "  \"AIM/CGE\",\n",
    "  \"IMAGE\",\n",
    "  \"MESSAGEix-GLOBIOM\",\n",
    "  \"POLES\",\n",
    "  \"REMIND-MAgPIE\"\n",
    ")"
   ]
  },
  {
   "cell_type": "code",
   "execution_count": 138,
   "metadata": {},
   "outputs": [
    {
     "data": {
      "text/plain": [
       "(\"World\", \"CHN\", \"IND\", \"USA\", \"R5OECD90+EU\", \"R5REF\", \"R5ASIA\", \"R5MAF\", \"R5LAM\", \"EU\")"
      ]
     },
     "execution_count": 138,
     "metadata": {},
     "output_type": "execute_result"
    }
   ],
   "source": [
    "REGIONS = (\n",
    "  \"World\",\n",
    "  \"CHN\",\n",
    "  \"IND\",\n",
    "  \"USA\",\n",
    "  \"R5OECD90+EU\",\n",
    "  \"R5REF\",\n",
    "  \"R5ASIA\",\n",
    "  \"R5MAF\",\n",
    "  \"R5LAM\",\n",
    "  \"EU\"\n",
    ")"
   ]
  },
  {
   "cell_type": "code",
   "execution_count": 139,
   "metadata": {},
   "outputs": [
    {
     "data": {
      "text/plain": [
       "(\"1.5C\", \"NDC\", \"2C\", \"CPol\")"
      ]
     },
     "execution_count": 139,
     "metadata": {},
     "output_type": "execute_result"
    }
   ],
   "source": [
    "SCENARIOS = (\n",
    "  \"1.5C\",\n",
    "  \"NDC\",\n",
    "  \"2C\",\n",
    "  \"CPol\"\n",
    ")"
   ]
  },
  {
   "cell_type": "markdown",
   "metadata": {},
   "source": [
    "The `in` function checks if the first parameter is in second parameter."
   ]
  },
  {
   "cell_type": "markdown",
   "metadata": {},
   "source": [
    "## Filtering runs\n",
    "\n",
    "After defining the valid values, we filter the runs by checking if each attributes is present in the value tuples."
   ]
  },
  {
   "cell_type": "code",
   "execution_count": 140,
   "metadata": {},
   "outputs": [
    {
     "data": {
      "text/html": [
       "<table class=\"data-frame\"><thead><tr><th></th><th>Model</th><th>Region</th><th>Scenario</th><th>Variable</th><th>Unit</th></tr><tr><th></th><th>String</th><th>String</th><th>String</th><th>String</th><th>String</th></tr></thead><tbody><p>2,400 rows × 23 columns (omitted printing of 18 columns)</p><tr><th>1</th><td>AIM/CGE</td><td>World</td><td>CPol</td><td>Extraction and Conversion - Fossil Fuels</td><td>Billion US$2015/yr</td></tr><tr><th>2</th><td>AIM/CGE</td><td>World</td><td>CPol</td><td>Electricity - Fossil Fuels w/o CCS</td><td>Billion US$2015/yr</td></tr><tr><th>3</th><td>AIM/CGE</td><td>World</td><td>CPol</td><td>Hydrogen - Fossil</td><td>Billion US$2015/yr</td></tr><tr><th>4</th><td>AIM/CGE</td><td>World</td><td>CPol</td><td>Electricity - Non-bio Renewables</td><td>Billion US$2015/yr</td></tr><tr><th>5</th><td>AIM/CGE</td><td>World</td><td>CPol</td><td>Hydrogen - Non-fossil</td><td>Billion US$2015/yr</td></tr><tr><th>6</th><td>AIM/CGE</td><td>World</td><td>CPol</td><td>Extraction and Conversion - Bioenergy</td><td>Billion US$2015/yr</td></tr><tr><th>7</th><td>AIM/CGE</td><td>World</td><td>CPol</td><td>Extraction and Conversion - Nuclear</td><td>Billion US$2015/yr</td></tr><tr><th>8</th><td>AIM/CGE</td><td>World</td><td>CPol</td><td>Electricity - T&amp;D and Storage</td><td>Billion US$2015/yr</td></tr><tr><th>9</th><td>AIM/CGE</td><td>World</td><td>CPol</td><td>CCS</td><td>Billion US$2015/yr</td></tr><tr><th>10</th><td>AIM/CGE</td><td>World</td><td>CPol</td><td>Energy Efficiency</td><td>Billion US$2015/yr</td></tr><tr><th>11</th><td>AIM/CGE</td><td>World</td><td>CPol</td><td>Energy Supply|Electricity|Solar</td><td>Billion US$2015/yr</td></tr><tr><th>12</th><td>AIM/CGE</td><td>World</td><td>CPol</td><td>Energy Supply|Electricity|Wind</td><td>Billion US$2015/yr</td></tr><tr><th>13</th><td>AIM/CGE</td><td>World</td><td>NDC</td><td>Extraction and Conversion - Fossil Fuels</td><td>Billion US$2015/yr</td></tr><tr><th>14</th><td>AIM/CGE</td><td>World</td><td>NDC</td><td>Electricity - Fossil Fuels w/o CCS</td><td>Billion US$2015/yr</td></tr><tr><th>15</th><td>AIM/CGE</td><td>World</td><td>NDC</td><td>Hydrogen - Fossil</td><td>Billion US$2015/yr</td></tr><tr><th>16</th><td>AIM/CGE</td><td>World</td><td>NDC</td><td>Electricity - Non-bio Renewables</td><td>Billion US$2015/yr</td></tr><tr><th>17</th><td>AIM/CGE</td><td>World</td><td>NDC</td><td>Hydrogen - Non-fossil</td><td>Billion US$2015/yr</td></tr><tr><th>18</th><td>AIM/CGE</td><td>World</td><td>NDC</td><td>Extraction and Conversion - Bioenergy</td><td>Billion US$2015/yr</td></tr><tr><th>19</th><td>AIM/CGE</td><td>World</td><td>NDC</td><td>Extraction and Conversion - Nuclear</td><td>Billion US$2015/yr</td></tr><tr><th>20</th><td>AIM/CGE</td><td>World</td><td>NDC</td><td>Electricity - T&amp;D and Storage</td><td>Billion US$2015/yr</td></tr><tr><th>21</th><td>AIM/CGE</td><td>World</td><td>NDC</td><td>CCS</td><td>Billion US$2015/yr</td></tr><tr><th>22</th><td>AIM/CGE</td><td>World</td><td>NDC</td><td>Energy Efficiency</td><td>Billion US$2015/yr</td></tr><tr><th>23</th><td>AIM/CGE</td><td>World</td><td>NDC</td><td>Energy Supply|Electricity|Solar</td><td>Billion US$2015/yr</td></tr><tr><th>24</th><td>AIM/CGE</td><td>World</td><td>NDC</td><td>Energy Supply|Electricity|Wind</td><td>Billion US$2015/yr</td></tr><tr><th>25</th><td>AIM/CGE</td><td>World</td><td>2C</td><td>Extraction and Conversion - Fossil Fuels</td><td>Billion US$2015/yr</td></tr><tr><th>26</th><td>AIM/CGE</td><td>World</td><td>2C</td><td>Electricity - Fossil Fuels w/o CCS</td><td>Billion US$2015/yr</td></tr><tr><th>27</th><td>AIM/CGE</td><td>World</td><td>2C</td><td>Hydrogen - Fossil</td><td>Billion US$2015/yr</td></tr><tr><th>28</th><td>AIM/CGE</td><td>World</td><td>2C</td><td>Electricity - Non-bio Renewables</td><td>Billion US$2015/yr</td></tr><tr><th>29</th><td>AIM/CGE</td><td>World</td><td>2C</td><td>Hydrogen - Non-fossil</td><td>Billion US$2015/yr</td></tr><tr><th>30</th><td>AIM/CGE</td><td>World</td><td>2C</td><td>Extraction and Conversion - Bioenergy</td><td>Billion US$2015/yr</td></tr><tr><th>&vellip;</th><td>&vellip;</td><td>&vellip;</td><td>&vellip;</td><td>&vellip;</td><td>&vellip;</td></tr></tbody></table>"
      ],
      "text/latex": [
       "\\begin{tabular}{r|cccccc}\n",
       "\t& Model & Region & Scenario & Variable & Unit & \\\\\n",
       "\t\\hline\n",
       "\t& String & String & String & String & String & \\\\\n",
       "\t\\hline\n",
       "\t1 & AIM/CGE & World & CPol & Extraction and Conversion - Fossil Fuels & Billion US\\$2015/yr & $\\dots$ \\\\\n",
       "\t2 & AIM/CGE & World & CPol & Electricity - Fossil Fuels w/o CCS & Billion US\\$2015/yr & $\\dots$ \\\\\n",
       "\t3 & AIM/CGE & World & CPol & Hydrogen - Fossil & Billion US\\$2015/yr & $\\dots$ \\\\\n",
       "\t4 & AIM/CGE & World & CPol & Electricity - Non-bio Renewables & Billion US\\$2015/yr & $\\dots$ \\\\\n",
       "\t5 & AIM/CGE & World & CPol & Hydrogen - Non-fossil & Billion US\\$2015/yr & $\\dots$ \\\\\n",
       "\t6 & AIM/CGE & World & CPol & Extraction and Conversion - Bioenergy & Billion US\\$2015/yr & $\\dots$ \\\\\n",
       "\t7 & AIM/CGE & World & CPol & Extraction and Conversion - Nuclear & Billion US\\$2015/yr & $\\dots$ \\\\\n",
       "\t8 & AIM/CGE & World & CPol & Electricity - T\\&D and Storage & Billion US\\$2015/yr & $\\dots$ \\\\\n",
       "\t9 & AIM/CGE & World & CPol & CCS & Billion US\\$2015/yr & $\\dots$ \\\\\n",
       "\t10 & AIM/CGE & World & CPol & Energy Efficiency & Billion US\\$2015/yr & $\\dots$ \\\\\n",
       "\t11 & AIM/CGE & World & CPol & Energy Supply|Electricity|Solar & Billion US\\$2015/yr & $\\dots$ \\\\\n",
       "\t12 & AIM/CGE & World & CPol & Energy Supply|Electricity|Wind & Billion US\\$2015/yr & $\\dots$ \\\\\n",
       "\t13 & AIM/CGE & World & NDC & Extraction and Conversion - Fossil Fuels & Billion US\\$2015/yr & $\\dots$ \\\\\n",
       "\t14 & AIM/CGE & World & NDC & Electricity - Fossil Fuels w/o CCS & Billion US\\$2015/yr & $\\dots$ \\\\\n",
       "\t15 & AIM/CGE & World & NDC & Hydrogen - Fossil & Billion US\\$2015/yr & $\\dots$ \\\\\n",
       "\t16 & AIM/CGE & World & NDC & Electricity - Non-bio Renewables & Billion US\\$2015/yr & $\\dots$ \\\\\n",
       "\t17 & AIM/CGE & World & NDC & Hydrogen - Non-fossil & Billion US\\$2015/yr & $\\dots$ \\\\\n",
       "\t18 & AIM/CGE & World & NDC & Extraction and Conversion - Bioenergy & Billion US\\$2015/yr & $\\dots$ \\\\\n",
       "\t19 & AIM/CGE & World & NDC & Extraction and Conversion - Nuclear & Billion US\\$2015/yr & $\\dots$ \\\\\n",
       "\t20 & AIM/CGE & World & NDC & Electricity - T\\&D and Storage & Billion US\\$2015/yr & $\\dots$ \\\\\n",
       "\t21 & AIM/CGE & World & NDC & CCS & Billion US\\$2015/yr & $\\dots$ \\\\\n",
       "\t22 & AIM/CGE & World & NDC & Energy Efficiency & Billion US\\$2015/yr & $\\dots$ \\\\\n",
       "\t23 & AIM/CGE & World & NDC & Energy Supply|Electricity|Solar & Billion US\\$2015/yr & $\\dots$ \\\\\n",
       "\t24 & AIM/CGE & World & NDC & Energy Supply|Electricity|Wind & Billion US\\$2015/yr & $\\dots$ \\\\\n",
       "\t25 & AIM/CGE & World & 2C & Extraction and Conversion - Fossil Fuels & Billion US\\$2015/yr & $\\dots$ \\\\\n",
       "\t26 & AIM/CGE & World & 2C & Electricity - Fossil Fuels w/o CCS & Billion US\\$2015/yr & $\\dots$ \\\\\n",
       "\t27 & AIM/CGE & World & 2C & Hydrogen - Fossil & Billion US\\$2015/yr & $\\dots$ \\\\\n",
       "\t28 & AIM/CGE & World & 2C & Electricity - Non-bio Renewables & Billion US\\$2015/yr & $\\dots$ \\\\\n",
       "\t29 & AIM/CGE & World & 2C & Hydrogen - Non-fossil & Billion US\\$2015/yr & $\\dots$ \\\\\n",
       "\t30 & AIM/CGE & World & 2C & Extraction and Conversion - Bioenergy & Billion US\\$2015/yr & $\\dots$ \\\\\n",
       "\t$\\dots$ & $\\dots$ & $\\dots$ & $\\dots$ & $\\dots$ & $\\dots$ &  \\\\\n",
       "\\end{tabular}\n"
      ],
      "text/plain": [
       "2400×23 DataFrames.DataFrame. Omitted printing of 20 columns\n",
       "│ Row  │ Model         │ Region │ Scenario │\n",
       "│      │ \u001b[90mString\u001b[39m        │ \u001b[90mString\u001b[39m │ \u001b[90mString\u001b[39m   │\n",
       "├──────┼───────────────┼────────┼──────────┤\n",
       "│ 1    │ AIM/CGE       │ World  │ CPol     │\n",
       "│ 2    │ AIM/CGE       │ World  │ CPol     │\n",
       "│ 3    │ AIM/CGE       │ World  │ CPol     │\n",
       "│ 4    │ AIM/CGE       │ World  │ CPol     │\n",
       "│ 5    │ AIM/CGE       │ World  │ CPol     │\n",
       "│ 6    │ AIM/CGE       │ World  │ CPol     │\n",
       "│ 7    │ AIM/CGE       │ World  │ CPol     │\n",
       "│ 8    │ AIM/CGE       │ World  │ CPol     │\n",
       "│ 9    │ AIM/CGE       │ World  │ CPol     │\n",
       "│ 10   │ AIM/CGE       │ World  │ CPol     │\n",
       "⋮\n",
       "│ 2390 │ REMIND-MAgPIE │ R5LAM  │ 1.5C     │\n",
       "│ 2391 │ REMIND-MAgPIE │ R5LAM  │ 1.5C     │\n",
       "│ 2392 │ REMIND-MAgPIE │ R5LAM  │ 1.5C     │\n",
       "│ 2393 │ REMIND-MAgPIE │ R5LAM  │ 1.5C     │\n",
       "│ 2394 │ REMIND-MAgPIE │ R5LAM  │ 1.5C     │\n",
       "│ 2395 │ REMIND-MAgPIE │ R5LAM  │ 1.5C     │\n",
       "│ 2396 │ REMIND-MAgPIE │ R5LAM  │ 1.5C     │\n",
       "│ 2397 │ REMIND-MAgPIE │ R5LAM  │ 1.5C     │\n",
       "│ 2398 │ REMIND-MAgPIE │ R5LAM  │ 1.5C     │\n",
       "│ 2399 │ REMIND-MAgPIE │ R5LAM  │ 1.5C     │\n",
       "│ 2400 │ REMIND-MAgPIE │ R5LAM  │ 1.5C     │"
      ]
     },
     "execution_count": 140,
     "metadata": {},
     "output_type": "execute_result"
    }
   ],
   "source": [
    "function included(d)\n",
    "    return in(d[:Variable], VARIABLES) && in(d[:Model], MODELS) && in(d[:Region], REGIONS) && in(d[:Scenario], SCENARIOS)\n",
    "end\n",
    "\n",
    "datum = filter(included, scenarioRuns)"
   ]
  },
  {
   "cell_type": "markdown",
   "metadata": {},
   "source": [
    "## Prepare functions\n",
    "\n",
    "### Summing up values\n",
    "\n",
    "Each year has it own column in the source data and we want to sum it up as one value.\n",
    "Additionally, we need to parse the value and convert it from German notation to English."
   ]
  },
  {
   "cell_type": "code",
   "execution_count": 141,
   "metadata": {},
   "outputs": [
    {
     "data": {
      "text/plain": [
       "(2025, 2030, 2035, 2040, 2045, 2050)"
      ]
     },
     "execution_count": 141,
     "metadata": {},
     "output_type": "execute_result"
    }
   ],
   "source": [
    "NEAR_TERM_YEARS = (2020, 2025, 2030)\n",
    "MEDIUM_TERM_YEARS = (2025, 2030, 2035, 2040, 2045, 2050)"
   ]
  },
  {
   "cell_type": "markdown",
   "metadata": {},
   "source": [
    "To get a value in a DataFrame we use [x, y], where `x` is the row number and `y` the cell id. This would usually look something like `[1, :Region]`, but in this special case the id of the column is a `Symbol` with the name of the year. So we use `Symbol(year)`."
   ]
  },
  {
   "cell_type": "code",
   "execution_count": 142,
   "metadata": {},
   "outputs": [
    {
     "data": {
      "text/plain": [
       "sumYears (generic function with 1 method)"
      ]
     },
     "execution_count": 142,
     "metadata": {},
     "output_type": "execute_result"
    }
   ],
   "source": [
    "function sumYears(row)\n",
    "    sum = 0\n",
    "    for year in YEARS\n",
    "        raw = row[1, Symbol(year)]\n",
    "        value = parse(Float64, replace(raw, \",\" => \".\"))\n",
    "        sum += value\n",
    "    end\n",
    "    return round(sum, digits=3)\n",
    "end"
   ]
  },
  {
   "cell_type": "markdown",
   "metadata": {},
   "source": [
    "### GetValues\n",
    "This function finds the rows in the DataFrame, gets every value and calculates the average.\n",
    "\n",
    "First, we create an empty Dictionary with `Strings` as keys and `Float64` as numbers.\n",
    "We loop over the `MODELS` and search for each row with the current model.\n",
    "If we found one, we summarise the years and add the result to the Dictionary\n",
    "\n",
    "After the loop, we get the values of the dictionary and calculate the mean value."
   ]
  },
  {
   "cell_type": "code",
   "execution_count": 187,
   "metadata": {},
   "outputs": [
    {
     "data": {
      "text/plain": [
       "getValues (generic function with 1 method)"
      ]
     },
     "execution_count": 187,
     "metadata": {},
     "output_type": "execute_result"
    }
   ],
   "source": [
    "function getValues(scenario, variable, region)\n",
    "    dict = Dict{String, Float64}()\n",
    "    \n",
    "    for model in MODELS\n",
    "        # In some cases we need to calculate the values\n",
    "        if (variable === \"other renewables\")\n",
    "            renewables = findScenarioData(scenario, \"Electricity - Non-bio Renewables\", region, model)\n",
    "            wind = findScenarioData(scenario, \"Energy Supply|Electricity|Wind\", region, model)\n",
    "            solar = findScenarioData(scenario, \"Energy Supply|Electricity|Solar\", region, model)\n",
    "            dict[model] = renewables - wind - solar\n",
    "        elseif (variable === \"Coal\")\n",
    "            fossilFuels = findScenarioData(scenario, \"Extraction and Conversion - Fossil Fuels\", region, model)\n",
    "            dict[model] = dict[model] = fossilFuels * 0.1\n",
    "        elseif (variable === \"Oil and Gas\")\n",
    "            fossilFuels = findScenarioData(scenario, \"Extraction and Conversion - Fossil Fuels\", region, model)\n",
    "            dict[model] = fossilFuels * 0.9\n",
    "        else # End of the special cases\n",
    "            dict[model] = findScenarioData(scenario, variable, region, model)\n",
    "        end\n",
    "    end\n",
    "    \n",
    "    dict[\"average\"] = round(mean(values(dict)), digits=3) # We calculate the average by simply getting the mean of all values\n",
    "    dict[\"max\"] = maximum(values(dict)) # We calculate the maximum value from all values\n",
    "    return dict\n",
    "end"
   ]
  },
  {
   "cell_type": "markdown",
   "metadata": {},
   "source": [
    "### Filter function\n",
    "The filter function takes two parameter: a function returning true or false for each item; and a list of items."
   ]
  },
  {
   "cell_type": "code",
   "execution_count": 186,
   "metadata": {},
   "outputs": [
    {
     "data": {
      "text/plain": [
       "findScenarioData (generic function with 2 methods)"
      ]
     },
     "execution_count": 186,
     "metadata": {},
     "output_type": "execute_result"
    }
   ],
   "source": [
    "function findScenarioData(scenario, variable, region, model)\n",
    "    row = filter(row -> row[:Scenario] == scenario && row[:Region] == region && row[:Variable] == variable && row[:Model] == model, datum)\n",
    "    if (size(row, 1) > 0)\n",
    "        return averageYears(row, MEDIUM_TERM_YEARS)\n",
    "    else\n",
    "        return 0\n",
    "    end\n",
    "end"
   ]
  },
  {
   "cell_type": "code",
   "execution_count": 145,
   "metadata": {},
   "outputs": [
    {
     "name": "stdout",
     "output_type": "stream",
     "text": [
      "NDC\n"
     ]
    },
    {
     "data": {
      "text/plain": [
       "99.884"
      ]
     },
     "execution_count": 145,
     "metadata": {},
     "output_type": "execute_result"
    }
   ],
   "source": [
    "begin\n",
    "    findScenarioData(\"NDC\", \"Extraction and Conversion - Nuclear\", \"World\", \"AIM/CGE\")\n",
    "end"
   ]
  },
  {
   "cell_type": "markdown",
   "metadata": {},
   "source": [
    "### Calculating the change\n",
    "\n",
    "Function to calculate the change between two values.\n",
    "We calculate the absolute change and if its positive or negative. This makes it easier to process later."
   ]
  },
  {
   "cell_type": "code",
   "execution_count": 146,
   "metadata": {},
   "outputs": [
    {
     "data": {
      "text/plain": [
       "calcChange (generic function with 1 method)"
      ]
     },
     "execution_count": 146,
     "metadata": {},
     "output_type": "execute_result"
    }
   ],
   "source": [
    "function calcChange(reference, value)\n",
    "    if (reference === value)\n",
    "       return (0, true) \n",
    "    end\n",
    "    ref = reference === 0.0 ? 1 : reference # In order to prevent the value from being Infinity, we change the value to 1 if it is 0\n",
    "    change = round(abs(ref - value) / ref, digits = 3)\n",
    "    # change = round(abs(reference - value) / max(reference, value), digits=3)\n",
    "    isPositive = ref >= value\n",
    "    # if (reference === 0.0)\n",
    "    #    println(\"reference: \", reference, \" value:\", value, \" change: \", change)\n",
    "    # end\n",
    "    return (min(200, change), isPositive) # We limit the change to 200 percent\n",
    "end"
   ]
  },
  {
   "cell_type": "markdown",
   "metadata": {},
   "source": [
    "### Calculating the changes\n",
    "\n",
    "This function iterates over all values, gets its refeference value and saves the change in the dictionary."
   ]
  },
  {
   "cell_type": "code",
   "execution_count": 147,
   "metadata": {},
   "outputs": [
    {
     "data": {
      "text/plain": [
       "calcChanges (generic function with 1 method)"
      ]
     },
     "execution_count": 147,
     "metadata": {},
     "output_type": "execute_result"
    }
   ],
   "source": [
    "function calcChanges(vals, refs)\n",
    "    changes = Dict{String, Any}()\n",
    "    for (key, val) in vals\n",
    "        ref = refs[\"Reference\"]\n",
    "        changes[key] = calcChange(ref, val)\n",
    "    end\n",
    "    changes\n",
    "end"
   ]
  },
  {
   "cell_type": "markdown",
   "metadata": {},
   "source": [
    "## Build the final data set\n",
    "\n",
    "Finally, we loop over all scenarios, variables and regions and calculate everything."
   ]
  },
  {
   "cell_type": "code",
   "execution_count": 191,
   "metadata": {},
   "outputs": [],
   "source": [
    "runs = []\n",
    "\n",
    "for scenario in SCENARIOS\n",
    "    for variable in VARIABLES\n",
    "        if (variable !== \"Electricity - Non-bio Renewables\" && variable !== \"Extraction and Conversion - Fossil Fuels\")\n",
    "            for region in REGIONS\n",
    "                vals = getValues(scenario, variable, region)\n",
    "                refs = getHistoricData(variable)\n",
    "                changes = calcChanges(vals, refs)\n",
    "                push!(runs, (scenario = scenario, variable = variable, region = region, values = vals, reference = refs, changes = changes))\n",
    "            end\n",
    "        end\n",
    "    end\n",
    "end"
   ]
  },
  {
   "cell_type": "markdown",
   "metadata": {},
   "source": [
    "## Export the dataset\n",
    "\n",
    "`JSON.json` takes two arguments: a Dict and the indent."
   ]
  },
  {
   "cell_type": "code",
   "execution_count": 192,
   "metadata": {},
   "outputs": [],
   "source": [
    "open(\"../static/data/investments.json\", \"w\") do io\n",
    "   write(io, JSON.json(runs, 2));\n",
    "end;"
   ]
  },
  {
   "cell_type": "code",
   "execution_count": null,
   "metadata": {},
   "outputs": [],
   "source": []
  },
  {
   "cell_type": "code",
   "execution_count": null,
   "metadata": {},
   "outputs": [],
   "source": []
  }
 ],
 "metadata": {
  "kernelspec": {
   "display_name": "Julia 1.1.0",
   "language": "julia",
   "name": "julia-1.1"
  },
  "language_info": {
   "file_extension": ".jl",
   "mimetype": "application/julia",
   "name": "julia",
   "version": "1.1.0"
  }
 },
 "nbformat": 4,
 "nbformat_minor": 4
}
