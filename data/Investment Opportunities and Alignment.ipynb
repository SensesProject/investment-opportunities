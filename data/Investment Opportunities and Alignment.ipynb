{
 "cells": [
  {
   "cell_type": "markdown",
   "metadata": {},
   "source": [
    "# Investment Opportunities and Alignment"
   ]
  },
  {
   "cell_type": "markdown",
   "metadata": {},
   "source": [
    "- how investments consistent with the Paris Agreement Long-term target look like\n",
    "- the investments of today determine to a large extent the emissions of tomorrow"
   ]
  },
  {
   "cell_type": "code",
   "execution_count": 84,
   "metadata": {},
   "outputs": [],
   "source": [
    "using CSV\n",
    "using Statistics\n",
    "using JSON\n",
    "using DataFrames"
   ]
  },
  {
   "cell_type": "markdown",
   "metadata": {},
   "source": [
    "## Helper functions\n",
    "\n",
    "### Average years\n",
    "This function is used to get the average of a given array of years. We use this later on."
   ]
  },
  {
   "cell_type": "code",
   "execution_count": 236,
   "metadata": {},
   "outputs": [
    {
     "data": {
      "text/plain": [
       "averageYears (generic function with 1 method)"
      ]
     },
     "execution_count": 236,
     "metadata": {},
     "output_type": "execute_result"
    }
   ],
   "source": [
    "function averageYears(row, years)\n",
    "    # We loop over the years and get the value for each year from the row\n",
    "    # Since the column name of the years are in Symbols we need to convert the String-year\n",
    "    # From this new array we calculate the mean and cound it with 3 digits\n",
    "    function getYear(year)\n",
    "        value = row[1, Symbol(year)]\n",
    "        if (typeof(value) === String) # In some cases we need to convert the data from the csv to a number\n",
    "           parse(Float64, replace(value, \",\" => \".\")) \n",
    "        else\n",
    "            value\n",
    "        end\n",
    "    end\n",
    "    round(mean(getYear, years), digits=3)\n",
    "end"
   ]
  },
  {
   "cell_type": "markdown",
   "metadata": {},
   "source": [
    "## Mappings\n",
    "Some variables have different names in the historic data set. Also, some regions might have a different name."
   ]
  },
  {
   "cell_type": "code",
   "execution_count": 237,
   "metadata": {},
   "outputs": [
    {
     "data": {
      "text/plain": [
       "Dict{String,String} with 11 entries:\n",
       "  \"Bioenergy\"                     => \"Extraction and Conversion - Bioenergy\"\n",
       "  \"Fossil power generation\"       => \"Electricity - Fossil Fuels w/o CCS\"\n",
       "  \"Solar\"                         => \"Energy Supply|Electricity|Solar\"\n",
       "  \"Transmission and Distribution\" => \"Electricity - T&D and Storage\"\n",
       "  \"Hydrogen - Fossil\"             => \"Hydrogen - Fossil\"\n",
       "  \"Wind\"                          => \"Energy Supply|Electricity|Wind\"\n",
       "  \"Nuclear\"                       => \"Extraction and Conversion - Nuclear\"\n",
       "  \"Storage\"                       => \"Energy Supply|Electricity|Electricity Storage\"\n",
       "  \"Hydrogen - Non-fossil\"         => \"Hydrogen - Non-fossil\"\n",
       "  \"CCS\"                           => \"CCS\"\n",
       "  \"Energy Efficiency\"             => \"Energy Efficiency\""
      ]
     },
     "execution_count": 237,
     "metadata": {},
     "output_type": "execute_result"
    }
   ],
   "source": [
    "HISTORIC_VARIABLE_MAPPING = Dict{String,String}(\n",
    "    \"Energy Efficiency\" => \"Investment|Energy Efficiency\",\n",
    "    \"Transmission and Distribution\" => \"Investment|Energy Supply|Electricity|Transmission and Distribution\",\n",
    "    \"Nuclear\" => \"Investment|Energy Supply|Electricity|Nuclear\",\n",
    "    \"Bioenergy\" => \"Investment|Energy Supply|Extraction|Biomass\",\n",
    "    \"Solar\" => \"Investment|Energy Supply|Electricity|Solar\",\n",
    "    \"Wind\" => \"Investment|Energy Supply|Electricity|Wind\",\n",
    "    \"Fossil power generation\" => \"Investment|Energy Supply|Electricity|Fossil\",\n",
    "    \"Coal extraction\" => \"Investment|Energy Supply|Extraction|Coal\",\n",
    "    \"Storage\" => \"Investment|Energy Supply|Electricity|Battery storage\",\n",
    "    \"other renewables\" => \"Investment|Energy Supply|Electricity|Other renewables\"\n",
    ")\n",
    "\n",
    "HISTORIC_REGION_MAPPING = Dict{String,String}(\n",
    "    \"EU\" => \"EUR\"\n",
    ")\n",
    "\n",
    "SCENARIO_VARIABLE_MAPPING = Dict{String,String}(\n",
    "    \"Energy Efficiency\" => \"Energy Efficiency\",\n",
    "    \"Transmission and Distribution\" => \"Electricity - T&D and Storage\",\n",
    "    \"Nuclear\" => \"Extraction and Conversion - Nuclear\",\n",
    "    \"Bioenergy\" => \"Extraction and Conversion - Bioenergy\",\n",
    "    \"Solar\" => \"Energy Supply|Electricity|Solar\",\n",
    "    \"Wind\" => \"Energy Supply|Electricity|Wind\",\n",
    "    \"Fossil power generation\" => \"Electricity - Fossil Fuels w/o CCS\",\n",
    "    \"Hydrogen - Fossil\" => \"Hydrogen - Fossil\",\n",
    "    \"Hydrogen - Non-fossil\" => \"Hydrogen - Non-fossil\",\n",
    "    \"CCS\" => \"CCS\",\n",
    "    \"Storage\" => \"Energy Supply|Electricity|Electricity Storage\"\n",
    ")\n"
   ]
  },
  {
   "cell_type": "markdown",
   "metadata": {},
   "source": [
    "## Getting the historic data"
   ]
  },
  {
   "cell_type": "code",
   "execution_count": 238,
   "metadata": {},
   "outputs": [],
   "source": [
    "# historicData = CSV.read(\"source/WEI2020-DataTables_supplytimeseries_BNEF.csv\", decimal='.')"
   ]
  },
  {
   "cell_type": "code",
   "execution_count": 239,
   "metadata": {},
   "outputs": [
    {
     "data": {
      "text/plain": [
       "12-element Array{String,1}:\n",
       " \"R5LAM\"      \n",
       " \"R5ASIA\"     \n",
       " \"R5MAF\"      \n",
       " \"R5OECD90+EU\"\n",
       " \"R5REF\"      \n",
       " \"USA\"        \n",
       " \"CHN\"        \n",
       " \"IND\"        \n",
       " \"RUS\"        \n",
       " \"JPN\"        \n",
       " \"EUR\"        \n",
       " \"World\"      "
      ]
     },
     "execution_count": 239,
     "metadata": {},
     "output_type": "execute_result"
    }
   ],
   "source": [
    "historicData = CSV.read(\"source/report_SENSES.csv\"; delim=\";\")\n",
    "\n",
    "unique(historicData[!,:Region])"
   ]
  },
  {
   "cell_type": "code",
   "execution_count": null,
   "metadata": {},
   "outputs": [],
   "source": []
  },
  {
   "cell_type": "code",
   "execution_count": null,
   "metadata": {},
   "outputs": [],
   "source": []
  },
  {
   "cell_type": "code",
   "execution_count": null,
   "metadata": {},
   "outputs": [],
   "source": []
  },
  {
   "cell_type": "code",
   "execution_count": null,
   "metadata": {},
   "outputs": [],
   "source": []
  },
  {
   "cell_type": "code",
   "execution_count": null,
   "metadata": {},
   "outputs": [],
   "source": []
  },
  {
   "cell_type": "code",
   "execution_count": null,
   "metadata": {},
   "outputs": [],
   "source": []
  },
  {
   "cell_type": "markdown",
   "metadata": {},
   "source": [
    "### Relevant historic years\n",
    "We extract a average of three historic years from the data."
   ]
  },
  {
   "cell_type": "code",
   "execution_count": 240,
   "metadata": {},
   "outputs": [
    {
     "data": {
      "text/plain": [
       "(2017, 2018, 2019)"
      ]
     },
     "execution_count": 240,
     "metadata": {},
     "output_type": "execute_result"
    }
   ],
   "source": [
    "HISTORIC_YEARS = (2017, 2018, 2019)"
   ]
  },
  {
   "cell_type": "markdown",
   "metadata": {},
   "source": [
    "### Find historic data\n",
    "We search for historic data by variable and region."
   ]
  },
  {
   "cell_type": "code",
   "execution_count": 241,
   "metadata": {},
   "outputs": [
    {
     "data": {
      "text/plain": [
       "findHistoricData (generic function with 1 method)"
      ]
     },
     "execution_count": 241,
     "metadata": {},
     "output_type": "execute_result"
    }
   ],
   "source": [
    "function findHistoricData(variable, region)\n",
    "    row = filter(row -> row[:Variable] == variable && row[:Region] == region, historicData)\n",
    "    if (nrow(row) === 0)\n",
    "        println(\"$variable in $region was not found in historic data. Maybe variable name or region is spelled differently in the data set. Will use 0 as value.\")\n",
    "        return 0\n",
    "    else\n",
    "        return averageYears(row, HISTORIC_YEARS)\n",
    "    end    \n",
    "end"
   ]
  },
  {
   "cell_type": "code",
   "execution_count": null,
   "metadata": {},
   "outputs": [],
   "source": []
  },
  {
   "cell_type": "code",
   "execution_count": 242,
   "metadata": {},
   "outputs": [
    {
     "data": {
      "text/plain": [
       "48.822"
      ]
     },
     "execution_count": 242,
     "metadata": {},
     "output_type": "execute_result"
    }
   ],
   "source": [
    "# Test function\n",
    "findHistoricData(\"Investment|Energy Efficiency\", \"CHN\")"
   ]
  },
  {
   "cell_type": "markdown",
   "metadata": {},
   "source": [
    "### Get historic data\n",
    "We need an additional function to get the correct historic data as some variable need some extra processing."
   ]
  },
  {
   "cell_type": "code",
   "execution_count": 243,
   "metadata": {},
   "outputs": [
    {
     "data": {
      "text/plain": [
       "getHistoricData (generic function with 2 methods)"
      ]
     },
     "execution_count": 243,
     "metadata": {},
     "output_type": "execute_result"
    }
   ],
   "source": [
    "function getHistoricData(variable)\n",
    "    dictRegion = Dict{String, Dict}()\n",
    "    \n",
    "    for region in REGIONS\n",
    "        # Use region mapping if region is available for that.\n",
    "        _region = haskey(HISTORIC_REGION_MAPPING, region) ? HISTORIC_REGION_MAPPING[region] : region\n",
    "        \n",
    "        dict = Dict{String, Float64}()\n",
    "        dict[\"Reference\"] = 0\n",
    "\n",
    "        if (haskey(HISTORIC_VARIABLE_MAPPING, variable)) # Some variables have different names in the historic data so we map the keys to the corresponding ones.\n",
    "            dict[\"Reference\"] = findHistoricData(HISTORIC_VARIABLE_MAPPING[variable], _region)\n",
    "        elseif (variable === \"Oil and Gas extraction\") # Some variables need to be specificly calculated\n",
    "            oil = findHistoricData(\"Investment|Energy Supply|Extraction|Oil\", _region)\n",
    "            gas = findHistoricData(\"Investment|Energy Supply|Extraction|Gas\", _region)\n",
    "            dict[\"Reference\"] = oil + gas\n",
    "        elseif (variable == \"Hydrogen - Fossil\" || variable == \"Hydrogen - Non-fossil\" || variable == \"CCS\") # Some variables are just 0\n",
    "            dict[\"Reference\"] = 0\n",
    "        else # Some variables are the same as in the historic data set\n",
    "            dict[\"Reference\"] = findHistoricData(variable, _region)\n",
    "        end\n",
    "\n",
    "        dict[\"Reference\"] = round(dict[\"Reference\"], digits=3)\n",
    "        for model in MODELS\n",
    "            dict[model] = dict[\"Reference\"]\n",
    "        end\n",
    "        dict[\"median\"] = dict[\"Reference\"] # Since we don’t have any models for the historic data, the median is the same\n",
    "        dict[\"max\"] = dict[\"Reference\"] # The same applies for the maximum value\n",
    "        \n",
    "        dictRegion[region] = dict\n",
    "    end\n",
    "\n",
    "    return dictRegion\n",
    "end"
   ]
  },
  {
   "cell_type": "markdown",
   "metadata": {},
   "source": [
    "## Scenario data\n",
    "We now load the scenario data set."
   ]
  },
  {
   "cell_type": "code",
   "execution_count": 244,
   "metadata": {},
   "outputs": [
    {
     "data": {
      "text/html": [
       "<table class=\"data-frame\"><thead><tr><th></th><th>Model</th><th>Region</th><th>Scenario</th><th>Variable</th><th>Unit</th></tr><tr><th></th><th>String</th><th>String</th><th>String</th><th>String</th><th>String</th></tr></thead><tbody><p>7,432 rows × 23 columns (omitted printing of 18 columns)</p><tr><th>1</th><td>AIM/CGE</td><td>World</td><td>CPol</td><td>Total energy investment</td><td>Billion US$2015/yr</td></tr><tr><th>2</th><td>AIM/CGE</td><td>World</td><td>CPol</td><td>Total energy investment (supply side)</td><td>Billion US$2015/yr</td></tr><tr><th>3</th><td>AIM/CGE</td><td>World</td><td>CPol</td><td>Low carbon investment</td><td>Billion US$2015/yr</td></tr><tr><th>4</th><td>AIM/CGE</td><td>World</td><td>CPol</td><td>Low carbon investment (supply side)</td><td>Billion US$2015/yr</td></tr><tr><th>5</th><td>AIM/CGE</td><td>World</td><td>CPol</td><td>Total_inv/GDP</td><td>--</td></tr><tr><th>6</th><td>AIM/CGE</td><td>World</td><td>CPol</td><td>LC_inv/GDP</td><td>--</td></tr><tr><th>7</th><td>AIM/CGE</td><td>World</td><td>CPol</td><td>Extraction and Conversion - Fossil Fuels</td><td>Billion US$2015/yr</td></tr><tr><th>8</th><td>AIM/CGE</td><td>World</td><td>CPol</td><td>Electricity - Fossil Fuels w/o CCS</td><td>Billion US$2015/yr</td></tr><tr><th>9</th><td>AIM/CGE</td><td>World</td><td>CPol</td><td>Hydrogen - Fossil</td><td>Billion US$2015/yr</td></tr><tr><th>10</th><td>AIM/CGE</td><td>World</td><td>CPol</td><td>Electricity - Non-bio Renewables</td><td>Billion US$2015/yr</td></tr><tr><th>11</th><td>AIM/CGE</td><td>World</td><td>CPol</td><td>Hydrogen - Non-fossil</td><td>Billion US$2015/yr</td></tr><tr><th>12</th><td>AIM/CGE</td><td>World</td><td>CPol</td><td>Extraction and Conversion - Bioenergy</td><td>Billion US$2015/yr</td></tr><tr><th>13</th><td>AIM/CGE</td><td>World</td><td>CPol</td><td>Extraction and Conversion - Nuclear</td><td>Billion US$2015/yr</td></tr><tr><th>14</th><td>AIM/CGE</td><td>World</td><td>CPol</td><td>Electricity - T&amp;D and Storage</td><td>Billion US$2015/yr</td></tr><tr><th>15</th><td>AIM/CGE</td><td>World</td><td>CPol</td><td>CCS</td><td>Billion US$2015/yr</td></tr><tr><th>16</th><td>AIM/CGE</td><td>World</td><td>CPol</td><td>Energy Efficiency</td><td>Billion US$2015/yr</td></tr><tr><th>17</th><td>AIM/CGE</td><td>World</td><td>CPol</td><td>Energy Supply|Electricity|Coal|w/ CCS</td><td>Billion US$2015/yr</td></tr><tr><th>18</th><td>AIM/CGE</td><td>World</td><td>CPol</td><td>Energy Supply|Electricity|Coal|w/o CCS</td><td>Billion US$2015/yr</td></tr><tr><th>19</th><td>AIM/CGE</td><td>World</td><td>CPol</td><td>Energy Supply|Electricity|Gas|w/ CCS</td><td>Billion US$2015/yr</td></tr><tr><th>20</th><td>AIM/CGE</td><td>World</td><td>CPol</td><td>Energy Supply|Electricity|Gas|w/o CCS</td><td>Billion US$2015/yr</td></tr><tr><th>21</th><td>AIM/CGE</td><td>World</td><td>CPol</td><td>Energy Supply|Electricity|Oil|w/ CCS</td><td>Billion US$2015/yr</td></tr><tr><th>22</th><td>AIM/CGE</td><td>World</td><td>CPol</td><td>Energy Supply|Electricity|Biomass|w/ CCS</td><td>Billion US$2015/yr</td></tr><tr><th>23</th><td>AIM/CGE</td><td>World</td><td>CPol</td><td>Energy Supply|Electricity|Biomass|w/o CCS</td><td>Billion US$2015/yr</td></tr><tr><th>24</th><td>AIM/CGE</td><td>World</td><td>CPol</td><td>Energy Supply|Electricity|Nuclear</td><td>Billion US$2015/yr</td></tr><tr><th>25</th><td>AIM/CGE</td><td>World</td><td>CPol</td><td>Energy Supply|Electricity|Hydro</td><td>Billion US$2015/yr</td></tr><tr><th>26</th><td>AIM/CGE</td><td>World</td><td>CPol</td><td>Energy Supply|Electricity|Solar</td><td>Billion US$2015/yr</td></tr><tr><th>27</th><td>AIM/CGE</td><td>World</td><td>CPol</td><td>Energy Supply|Electricity|Wind</td><td>Billion US$2015/yr</td></tr><tr><th>28</th><td>AIM/CGE</td><td>World</td><td>CPol</td><td>Energy Supply|Electricity|Geothermal</td><td>Billion US$2015/yr</td></tr><tr><th>29</th><td>AIM/CGE</td><td>World</td><td>CPol</td><td>Energy Supply|Electricity|Ocean</td><td>Billion US$2015/yr</td></tr><tr><th>30</th><td>AIM/CGE</td><td>World</td><td>CPol</td><td>Energy Supply|Electricity|Transmission and Distribution</td><td>Billion US$2015/yr</td></tr><tr><th>&vellip;</th><td>&vellip;</td><td>&vellip;</td><td>&vellip;</td><td>&vellip;</td><td>&vellip;</td></tr></tbody></table>"
      ],
      "text/latex": [
       "\\begin{tabular}{r|cccccc}\n",
       "\t& Model & Region & Scenario & Variable & Unit & \\\\\n",
       "\t\\hline\n",
       "\t& String & String & String & String & String & \\\\\n",
       "\t\\hline\n",
       "\t1 & AIM/CGE & World & CPol & Total energy investment & Billion US\\$2015/yr & $\\dots$ \\\\\n",
       "\t2 & AIM/CGE & World & CPol & Total energy investment (supply side) & Billion US\\$2015/yr & $\\dots$ \\\\\n",
       "\t3 & AIM/CGE & World & CPol & Low carbon investment & Billion US\\$2015/yr & $\\dots$ \\\\\n",
       "\t4 & AIM/CGE & World & CPol & Low carbon investment (supply side) & Billion US\\$2015/yr & $\\dots$ \\\\\n",
       "\t5 & AIM/CGE & World & CPol & Total\\_inv/GDP & -- & $\\dots$ \\\\\n",
       "\t6 & AIM/CGE & World & CPol & LC\\_inv/GDP & -- & $\\dots$ \\\\\n",
       "\t7 & AIM/CGE & World & CPol & Extraction and Conversion - Fossil Fuels & Billion US\\$2015/yr & $\\dots$ \\\\\n",
       "\t8 & AIM/CGE & World & CPol & Electricity - Fossil Fuels w/o CCS & Billion US\\$2015/yr & $\\dots$ \\\\\n",
       "\t9 & AIM/CGE & World & CPol & Hydrogen - Fossil & Billion US\\$2015/yr & $\\dots$ \\\\\n",
       "\t10 & AIM/CGE & World & CPol & Electricity - Non-bio Renewables & Billion US\\$2015/yr & $\\dots$ \\\\\n",
       "\t11 & AIM/CGE & World & CPol & Hydrogen - Non-fossil & Billion US\\$2015/yr & $\\dots$ \\\\\n",
       "\t12 & AIM/CGE & World & CPol & Extraction and Conversion - Bioenergy & Billion US\\$2015/yr & $\\dots$ \\\\\n",
       "\t13 & AIM/CGE & World & CPol & Extraction and Conversion - Nuclear & Billion US\\$2015/yr & $\\dots$ \\\\\n",
       "\t14 & AIM/CGE & World & CPol & Electricity - T\\&D and Storage & Billion US\\$2015/yr & $\\dots$ \\\\\n",
       "\t15 & AIM/CGE & World & CPol & CCS & Billion US\\$2015/yr & $\\dots$ \\\\\n",
       "\t16 & AIM/CGE & World & CPol & Energy Efficiency & Billion US\\$2015/yr & $\\dots$ \\\\\n",
       "\t17 & AIM/CGE & World & CPol & Energy Supply|Electricity|Coal|w/ CCS & Billion US\\$2015/yr & $\\dots$ \\\\\n",
       "\t18 & AIM/CGE & World & CPol & Energy Supply|Electricity|Coal|w/o CCS & Billion US\\$2015/yr & $\\dots$ \\\\\n",
       "\t19 & AIM/CGE & World & CPol & Energy Supply|Electricity|Gas|w/ CCS & Billion US\\$2015/yr & $\\dots$ \\\\\n",
       "\t20 & AIM/CGE & World & CPol & Energy Supply|Electricity|Gas|w/o CCS & Billion US\\$2015/yr & $\\dots$ \\\\\n",
       "\t21 & AIM/CGE & World & CPol & Energy Supply|Electricity|Oil|w/ CCS & Billion US\\$2015/yr & $\\dots$ \\\\\n",
       "\t22 & AIM/CGE & World & CPol & Energy Supply|Electricity|Biomass|w/ CCS & Billion US\\$2015/yr & $\\dots$ \\\\\n",
       "\t23 & AIM/CGE & World & CPol & Energy Supply|Electricity|Biomass|w/o CCS & Billion US\\$2015/yr & $\\dots$ \\\\\n",
       "\t24 & AIM/CGE & World & CPol & Energy Supply|Electricity|Nuclear & Billion US\\$2015/yr & $\\dots$ \\\\\n",
       "\t25 & AIM/CGE & World & CPol & Energy Supply|Electricity|Hydro & Billion US\\$2015/yr & $\\dots$ \\\\\n",
       "\t26 & AIM/CGE & World & CPol & Energy Supply|Electricity|Solar & Billion US\\$2015/yr & $\\dots$ \\\\\n",
       "\t27 & AIM/CGE & World & CPol & Energy Supply|Electricity|Wind & Billion US\\$2015/yr & $\\dots$ \\\\\n",
       "\t28 & AIM/CGE & World & CPol & Energy Supply|Electricity|Geothermal & Billion US\\$2015/yr & $\\dots$ \\\\\n",
       "\t29 & AIM/CGE & World & CPol & Energy Supply|Electricity|Ocean & Billion US\\$2015/yr & $\\dots$ \\\\\n",
       "\t30 & AIM/CGE & World & CPol & Energy Supply|Electricity|Transmission and Distribution & Billion US\\$2015/yr & $\\dots$ \\\\\n",
       "\t$\\dots$ & $\\dots$ & $\\dots$ & $\\dots$ & $\\dots$ & $\\dots$ &  \\\\\n",
       "\\end{tabular}\n"
      ],
      "text/plain": [
       "7432×23 DataFrame. Omitted printing of 20 columns\n",
       "│ Row  │ Model         │ Region │ Scenario │\n",
       "│      │ \u001b[90mString\u001b[39m        │ \u001b[90mString\u001b[39m │ \u001b[90mString\u001b[39m   │\n",
       "├──────┼───────────────┼────────┼──────────┤\n",
       "│ 1    │ AIM/CGE       │ World  │ CPol     │\n",
       "│ 2    │ AIM/CGE       │ World  │ CPol     │\n",
       "│ 3    │ AIM/CGE       │ World  │ CPol     │\n",
       "│ 4    │ AIM/CGE       │ World  │ CPol     │\n",
       "│ 5    │ AIM/CGE       │ World  │ CPol     │\n",
       "│ 6    │ AIM/CGE       │ World  │ CPol     │\n",
       "│ 7    │ AIM/CGE       │ World  │ CPol     │\n",
       "│ 8    │ AIM/CGE       │ World  │ CPol     │\n",
       "│ 9    │ AIM/CGE       │ World  │ CPol     │\n",
       "│ 10   │ AIM/CGE       │ World  │ CPol     │\n",
       "⋮\n",
       "│ 7422 │ WITCH-GLOBIOM │ R5LAM  │ 1.5C     │\n",
       "│ 7423 │ WITCH-GLOBIOM │ R5LAM  │ 1.5C     │\n",
       "│ 7424 │ WITCH-GLOBIOM │ R5LAM  │ 1.5C     │\n",
       "│ 7425 │ WITCH-GLOBIOM │ R5LAM  │ 1.5C     │\n",
       "│ 7426 │ WITCH-GLOBIOM │ R5LAM  │ 1.5C     │\n",
       "│ 7427 │ WITCH-GLOBIOM │ R5LAM  │ 1.5C     │\n",
       "│ 7428 │ WITCH-GLOBIOM │ R5LAM  │ 1.5C     │\n",
       "│ 7429 │ WITCH-GLOBIOM │ R5LAM  │ 1.5C     │\n",
       "│ 7430 │ WITCH-GLOBIOM │ R5LAM  │ 1.5C     │\n",
       "│ 7431 │ WITCH-GLOBIOM │ R5LAM  │ 1.5C     │\n",
       "│ 7432 │ WITCH-GLOBIOM │ R5LAM  │ 1.5C     │"
      ]
     },
     "execution_count": 244,
     "metadata": {},
     "output_type": "execute_result"
    }
   ],
   "source": [
    "scenarioRuns = CSV.read(\"source/41560_2018_179_MOESM2_ESM-1.csv\", decimal=',')"
   ]
  },
  {
   "cell_type": "code",
   "execution_count": null,
   "metadata": {},
   "outputs": [],
   "source": []
  },
  {
   "cell_type": "code",
   "execution_count": 245,
   "metadata": {},
   "outputs": [
    {
     "data": {
      "text/plain": [
       "10-element Array{String,1}:\n",
       " \"World\"      \n",
       " \"CHN\"        \n",
       " \"EU\"         \n",
       " \"IND\"        \n",
       " \"USA\"        \n",
       " \"R5OECD90+EU\"\n",
       " \"R5REF\"      \n",
       " \"R5ASIA\"     \n",
       " \"R5MAF\"      \n",
       " \"R5LAM\"      "
      ]
     },
     "execution_count": 245,
     "metadata": {},
     "output_type": "execute_result"
    }
   ],
   "source": [
    "# unique(scenarioRuns[!,:Variable])\n",
    "unique(scenarioRuns[!,:Region])"
   ]
  },
  {
   "cell_type": "markdown",
   "metadata": {},
   "source": [
    "## Defining valid values"
   ]
  },
  {
   "cell_type": "code",
   "execution_count": 246,
   "metadata": {},
   "outputs": [
    {
     "data": {
      "text/plain": [
       "(\"1.5C\", \"NDC\", \"2C\", \"historic\")"
      ]
     },
     "execution_count": 246,
     "metadata": {},
     "output_type": "execute_result"
    }
   ],
   "source": [
    "VARIABLES = (\n",
    "    \"Oil and Gas extraction\",\n",
    "    \"Coal extraction\",\n",
    "    \"Fossil power generation\",\n",
    "    \"Hydrogen - Fossil\",\n",
    "    \"Nuclear\",\n",
    "    \"Bioenergy\",\n",
    "    \"Hydrogen - Non-fossil\",\n",
    "    \"Solar\",\n",
    "    \"Wind\",\n",
    "    \"other renewables\",\n",
    "    \"Transmission and Distribution\",\n",
    "    \"Energy Efficiency\",\n",
    "    \"CCS\",\n",
    "    \"Storage\"\n",
    ")\n",
    "\n",
    "MODELS = (\n",
    "    \"AIM/CGE\",\n",
    "    \"IMAGE\",\n",
    "    \"MESSAGEix-GLOBIOM\",\n",
    "    \"POLES\",\n",
    "    \"REMIND-MAgPIE\",\n",
    "    \"WITCH-GLOBIOM\"\n",
    ")\n",
    "\n",
    "REGIONS = (\n",
    "    \"World\", # Julia thing: we actually need a comma if we have just one item in the tuple\n",
    "    \"CHN\",\n",
    "    \"IND\",\n",
    "    \"USA\",\n",
    "    \"R5OECD90+EU\",\n",
    "    \"R5REF\",\n",
    "    \"R5ASIA\",\n",
    "    \"R5MAF\",\n",
    "    \"R5LAM\",\n",
    "    \"EU\"\n",
    ")\n",
    "\n",
    "SCENARIOS = (\n",
    "    \"1.5C\",\n",
    "    \"NDC\",\n",
    "    \"2C\",\n",
    "    \"historic\"\n",
    "  # \"CPol\"\n",
    ")"
   ]
  },
  {
   "cell_type": "markdown",
   "metadata": {},
   "source": [
    "## Filtering runs\n",
    "\n",
    "After defining the valid values, we filter the runs by checking if each attributes is present in the value tuples."
   ]
  },
  {
   "cell_type": "markdown",
   "metadata": {},
   "source": [
    "The `in` function checks if the first parameter is in second parameter."
   ]
  },
  {
   "cell_type": "code",
   "execution_count": 247,
   "metadata": {},
   "outputs": [
    {
     "data": {
      "text/html": [
       "<table class=\"data-frame\"><thead><tr><th></th><th>Model</th><th>Region</th><th>Scenario</th><th>Variable</th><th>Unit</th></tr><tr><th></th><th>String</th><th>String</th><th>String</th><th>String</th><th>String</th></tr></thead><tbody><p>5,574 rows × 23 columns (omitted printing of 18 columns)</p><tr><th>1</th><td>AIM/CGE</td><td>World</td><td>NDC</td><td>Total energy investment</td><td>Billion US$2015/yr</td></tr><tr><th>2</th><td>AIM/CGE</td><td>World</td><td>NDC</td><td>Total energy investment (supply side)</td><td>Billion US$2015/yr</td></tr><tr><th>3</th><td>AIM/CGE</td><td>World</td><td>NDC</td><td>Low carbon investment</td><td>Billion US$2015/yr</td></tr><tr><th>4</th><td>AIM/CGE</td><td>World</td><td>NDC</td><td>Low carbon investment (supply side)</td><td>Billion US$2015/yr</td></tr><tr><th>5</th><td>AIM/CGE</td><td>World</td><td>NDC</td><td>Total_inv/GDP</td><td>--</td></tr><tr><th>6</th><td>AIM/CGE</td><td>World</td><td>NDC</td><td>LC_inv/GDP</td><td>--</td></tr><tr><th>7</th><td>AIM/CGE</td><td>World</td><td>NDC</td><td>Extraction and Conversion - Fossil Fuels</td><td>Billion US$2015/yr</td></tr><tr><th>8</th><td>AIM/CGE</td><td>World</td><td>NDC</td><td>Electricity - Fossil Fuels w/o CCS</td><td>Billion US$2015/yr</td></tr><tr><th>9</th><td>AIM/CGE</td><td>World</td><td>NDC</td><td>Hydrogen - Fossil</td><td>Billion US$2015/yr</td></tr><tr><th>10</th><td>AIM/CGE</td><td>World</td><td>NDC</td><td>Electricity - Non-bio Renewables</td><td>Billion US$2015/yr</td></tr><tr><th>11</th><td>AIM/CGE</td><td>World</td><td>NDC</td><td>Hydrogen - Non-fossil</td><td>Billion US$2015/yr</td></tr><tr><th>12</th><td>AIM/CGE</td><td>World</td><td>NDC</td><td>Extraction and Conversion - Bioenergy</td><td>Billion US$2015/yr</td></tr><tr><th>13</th><td>AIM/CGE</td><td>World</td><td>NDC</td><td>Extraction and Conversion - Nuclear</td><td>Billion US$2015/yr</td></tr><tr><th>14</th><td>AIM/CGE</td><td>World</td><td>NDC</td><td>Electricity - T&amp;D and Storage</td><td>Billion US$2015/yr</td></tr><tr><th>15</th><td>AIM/CGE</td><td>World</td><td>NDC</td><td>CCS</td><td>Billion US$2015/yr</td></tr><tr><th>16</th><td>AIM/CGE</td><td>World</td><td>NDC</td><td>Energy Efficiency</td><td>Billion US$2015/yr</td></tr><tr><th>17</th><td>AIM/CGE</td><td>World</td><td>NDC</td><td>Energy Supply|Electricity|Coal|w/ CCS</td><td>Billion US$2015/yr</td></tr><tr><th>18</th><td>AIM/CGE</td><td>World</td><td>NDC</td><td>Energy Supply|Electricity|Coal|w/o CCS</td><td>Billion US$2015/yr</td></tr><tr><th>19</th><td>AIM/CGE</td><td>World</td><td>NDC</td><td>Energy Supply|Electricity|Gas|w/ CCS</td><td>Billion US$2015/yr</td></tr><tr><th>20</th><td>AIM/CGE</td><td>World</td><td>NDC</td><td>Energy Supply|Electricity|Gas|w/o CCS</td><td>Billion US$2015/yr</td></tr><tr><th>21</th><td>AIM/CGE</td><td>World</td><td>NDC</td><td>Energy Supply|Electricity|Oil|w/ CCS</td><td>Billion US$2015/yr</td></tr><tr><th>22</th><td>AIM/CGE</td><td>World</td><td>NDC</td><td>Energy Supply|Electricity|Biomass|w/ CCS</td><td>Billion US$2015/yr</td></tr><tr><th>23</th><td>AIM/CGE</td><td>World</td><td>NDC</td><td>Energy Supply|Electricity|Biomass|w/o CCS</td><td>Billion US$2015/yr</td></tr><tr><th>24</th><td>AIM/CGE</td><td>World</td><td>NDC</td><td>Energy Supply|Electricity|Nuclear</td><td>Billion US$2015/yr</td></tr><tr><th>25</th><td>AIM/CGE</td><td>World</td><td>NDC</td><td>Energy Supply|Electricity|Hydro</td><td>Billion US$2015/yr</td></tr><tr><th>26</th><td>AIM/CGE</td><td>World</td><td>NDC</td><td>Energy Supply|Electricity|Solar</td><td>Billion US$2015/yr</td></tr><tr><th>27</th><td>AIM/CGE</td><td>World</td><td>NDC</td><td>Energy Supply|Electricity|Wind</td><td>Billion US$2015/yr</td></tr><tr><th>28</th><td>AIM/CGE</td><td>World</td><td>NDC</td><td>Energy Supply|Electricity|Geothermal</td><td>Billion US$2015/yr</td></tr><tr><th>29</th><td>AIM/CGE</td><td>World</td><td>NDC</td><td>Energy Supply|Electricity|Ocean</td><td>Billion US$2015/yr</td></tr><tr><th>30</th><td>AIM/CGE</td><td>World</td><td>NDC</td><td>Energy Supply|Electricity|Transmission and Distribution</td><td>Billion US$2015/yr</td></tr><tr><th>&vellip;</th><td>&vellip;</td><td>&vellip;</td><td>&vellip;</td><td>&vellip;</td><td>&vellip;</td></tr></tbody></table>"
      ],
      "text/latex": [
       "\\begin{tabular}{r|cccccc}\n",
       "\t& Model & Region & Scenario & Variable & Unit & \\\\\n",
       "\t\\hline\n",
       "\t& String & String & String & String & String & \\\\\n",
       "\t\\hline\n",
       "\t1 & AIM/CGE & World & NDC & Total energy investment & Billion US\\$2015/yr & $\\dots$ \\\\\n",
       "\t2 & AIM/CGE & World & NDC & Total energy investment (supply side) & Billion US\\$2015/yr & $\\dots$ \\\\\n",
       "\t3 & AIM/CGE & World & NDC & Low carbon investment & Billion US\\$2015/yr & $\\dots$ \\\\\n",
       "\t4 & AIM/CGE & World & NDC & Low carbon investment (supply side) & Billion US\\$2015/yr & $\\dots$ \\\\\n",
       "\t5 & AIM/CGE & World & NDC & Total\\_inv/GDP & -- & $\\dots$ \\\\\n",
       "\t6 & AIM/CGE & World & NDC & LC\\_inv/GDP & -- & $\\dots$ \\\\\n",
       "\t7 & AIM/CGE & World & NDC & Extraction and Conversion - Fossil Fuels & Billion US\\$2015/yr & $\\dots$ \\\\\n",
       "\t8 & AIM/CGE & World & NDC & Electricity - Fossil Fuels w/o CCS & Billion US\\$2015/yr & $\\dots$ \\\\\n",
       "\t9 & AIM/CGE & World & NDC & Hydrogen - Fossil & Billion US\\$2015/yr & $\\dots$ \\\\\n",
       "\t10 & AIM/CGE & World & NDC & Electricity - Non-bio Renewables & Billion US\\$2015/yr & $\\dots$ \\\\\n",
       "\t11 & AIM/CGE & World & NDC & Hydrogen - Non-fossil & Billion US\\$2015/yr & $\\dots$ \\\\\n",
       "\t12 & AIM/CGE & World & NDC & Extraction and Conversion - Bioenergy & Billion US\\$2015/yr & $\\dots$ \\\\\n",
       "\t13 & AIM/CGE & World & NDC & Extraction and Conversion - Nuclear & Billion US\\$2015/yr & $\\dots$ \\\\\n",
       "\t14 & AIM/CGE & World & NDC & Electricity - T\\&D and Storage & Billion US\\$2015/yr & $\\dots$ \\\\\n",
       "\t15 & AIM/CGE & World & NDC & CCS & Billion US\\$2015/yr & $\\dots$ \\\\\n",
       "\t16 & AIM/CGE & World & NDC & Energy Efficiency & Billion US\\$2015/yr & $\\dots$ \\\\\n",
       "\t17 & AIM/CGE & World & NDC & Energy Supply|Electricity|Coal|w/ CCS & Billion US\\$2015/yr & $\\dots$ \\\\\n",
       "\t18 & AIM/CGE & World & NDC & Energy Supply|Electricity|Coal|w/o CCS & Billion US\\$2015/yr & $\\dots$ \\\\\n",
       "\t19 & AIM/CGE & World & NDC & Energy Supply|Electricity|Gas|w/ CCS & Billion US\\$2015/yr & $\\dots$ \\\\\n",
       "\t20 & AIM/CGE & World & NDC & Energy Supply|Electricity|Gas|w/o CCS & Billion US\\$2015/yr & $\\dots$ \\\\\n",
       "\t21 & AIM/CGE & World & NDC & Energy Supply|Electricity|Oil|w/ CCS & Billion US\\$2015/yr & $\\dots$ \\\\\n",
       "\t22 & AIM/CGE & World & NDC & Energy Supply|Electricity|Biomass|w/ CCS & Billion US\\$2015/yr & $\\dots$ \\\\\n",
       "\t23 & AIM/CGE & World & NDC & Energy Supply|Electricity|Biomass|w/o CCS & Billion US\\$2015/yr & $\\dots$ \\\\\n",
       "\t24 & AIM/CGE & World & NDC & Energy Supply|Electricity|Nuclear & Billion US\\$2015/yr & $\\dots$ \\\\\n",
       "\t25 & AIM/CGE & World & NDC & Energy Supply|Electricity|Hydro & Billion US\\$2015/yr & $\\dots$ \\\\\n",
       "\t26 & AIM/CGE & World & NDC & Energy Supply|Electricity|Solar & Billion US\\$2015/yr & $\\dots$ \\\\\n",
       "\t27 & AIM/CGE & World & NDC & Energy Supply|Electricity|Wind & Billion US\\$2015/yr & $\\dots$ \\\\\n",
       "\t28 & AIM/CGE & World & NDC & Energy Supply|Electricity|Geothermal & Billion US\\$2015/yr & $\\dots$ \\\\\n",
       "\t29 & AIM/CGE & World & NDC & Energy Supply|Electricity|Ocean & Billion US\\$2015/yr & $\\dots$ \\\\\n",
       "\t30 & AIM/CGE & World & NDC & Energy Supply|Electricity|Transmission and Distribution & Billion US\\$2015/yr & $\\dots$ \\\\\n",
       "\t$\\dots$ & $\\dots$ & $\\dots$ & $\\dots$ & $\\dots$ & $\\dots$ &  \\\\\n",
       "\\end{tabular}\n"
      ],
      "text/plain": [
       "5574×23 DataFrame. Omitted printing of 20 columns\n",
       "│ Row  │ Model         │ Region │ Scenario │\n",
       "│      │ \u001b[90mString\u001b[39m        │ \u001b[90mString\u001b[39m │ \u001b[90mString\u001b[39m   │\n",
       "├──────┼───────────────┼────────┼──────────┤\n",
       "│ 1    │ AIM/CGE       │ World  │ NDC      │\n",
       "│ 2    │ AIM/CGE       │ World  │ NDC      │\n",
       "│ 3    │ AIM/CGE       │ World  │ NDC      │\n",
       "│ 4    │ AIM/CGE       │ World  │ NDC      │\n",
       "│ 5    │ AIM/CGE       │ World  │ NDC      │\n",
       "│ 6    │ AIM/CGE       │ World  │ NDC      │\n",
       "│ 7    │ AIM/CGE       │ World  │ NDC      │\n",
       "│ 8    │ AIM/CGE       │ World  │ NDC      │\n",
       "│ 9    │ AIM/CGE       │ World  │ NDC      │\n",
       "│ 10   │ AIM/CGE       │ World  │ NDC      │\n",
       "⋮\n",
       "│ 5564 │ WITCH-GLOBIOM │ R5LAM  │ 1.5C     │\n",
       "│ 5565 │ WITCH-GLOBIOM │ R5LAM  │ 1.5C     │\n",
       "│ 5566 │ WITCH-GLOBIOM │ R5LAM  │ 1.5C     │\n",
       "│ 5567 │ WITCH-GLOBIOM │ R5LAM  │ 1.5C     │\n",
       "│ 5568 │ WITCH-GLOBIOM │ R5LAM  │ 1.5C     │\n",
       "│ 5569 │ WITCH-GLOBIOM │ R5LAM  │ 1.5C     │\n",
       "│ 5570 │ WITCH-GLOBIOM │ R5LAM  │ 1.5C     │\n",
       "│ 5571 │ WITCH-GLOBIOM │ R5LAM  │ 1.5C     │\n",
       "│ 5572 │ WITCH-GLOBIOM │ R5LAM  │ 1.5C     │\n",
       "│ 5573 │ WITCH-GLOBIOM │ R5LAM  │ 1.5C     │\n",
       "│ 5574 │ WITCH-GLOBIOM │ R5LAM  │ 1.5C     │"
      ]
     },
     "execution_count": 247,
     "metadata": {},
     "output_type": "execute_result"
    }
   ],
   "source": [
    "function included(d)\n",
    "    return in(d[:Model], MODELS) && in(d[:Region], REGIONS) && in(d[:Scenario], SCENARIOS)\n",
    "end\n",
    "\n",
    "datum = filter(included, scenarioRuns)"
   ]
  },
  {
   "cell_type": "code",
   "execution_count": 248,
   "metadata": {},
   "outputs": [
    {
     "data": {
      "text/plain": [
       "31-element Array{String,1}:\n",
       " \"Total energy investment\"                                \n",
       " \"Total energy investment (supply side)\"                  \n",
       " \"Low carbon investment\"                                  \n",
       " \"Low carbon investment (supply side)\"                    \n",
       " \"Total_inv/GDP\"                                          \n",
       " \"LC_inv/GDP\"                                             \n",
       " \"Extraction and Conversion - Fossil Fuels\"               \n",
       " \"Electricity - Fossil Fuels w/o CCS\"                     \n",
       " \"Hydrogen - Fossil\"                                      \n",
       " \"Electricity - Non-bio Renewables\"                       \n",
       " \"Hydrogen - Non-fossil\"                                  \n",
       " \"Extraction and Conversion - Bioenergy\"                  \n",
       " \"Extraction and Conversion - Nuclear\"                    \n",
       " ⋮                                                        \n",
       " \"Energy Supply|Electricity|Gas|w/o CCS\"                  \n",
       " \"Energy Supply|Electricity|Oil|w/ CCS\"                   \n",
       " \"Energy Supply|Electricity|Biomass|w/ CCS\"               \n",
       " \"Energy Supply|Electricity|Biomass|w/o CCS\"              \n",
       " \"Energy Supply|Electricity|Nuclear\"                      \n",
       " \"Energy Supply|Electricity|Hydro\"                        \n",
       " \"Energy Supply|Electricity|Solar\"                        \n",
       " \"Energy Supply|Electricity|Wind\"                         \n",
       " \"Energy Supply|Electricity|Geothermal\"                   \n",
       " \"Energy Supply|Electricity|Ocean\"                        \n",
       " \"Energy Supply|Electricity|Transmission and Distribution\"\n",
       " \"Energy Supply|Electricity|Electricity Storage\"          "
      ]
     },
     "execution_count": 248,
     "metadata": {},
     "output_type": "execute_result"
    }
   ],
   "source": [
    "unique(datum[!,:Variable])"
   ]
  },
  {
   "cell_type": "markdown",
   "metadata": {},
   "source": [
    "## Prepare functions\n",
    "\n",
    "### Summing up values\n",
    "\n",
    "Each year has it own column in the source data and we want to sum it up as one value.\n",
    "Additionally, we need to parse the value and convert it from German notation to English."
   ]
  },
  {
   "cell_type": "code",
   "execution_count": 249,
   "metadata": {},
   "outputs": [
    {
     "data": {
      "text/plain": [
       "(2025, 2030)"
      ]
     },
     "execution_count": 249,
     "metadata": {},
     "output_type": "execute_result"
    }
   ],
   "source": [
    "NEAR_TERM_YEARS = (2025, 2030)\n",
    "# MEDIUM_TERM_YEARS = (2025, 2030, 2035, 2040, 2045, 2050)"
   ]
  },
  {
   "cell_type": "markdown",
   "metadata": {},
   "source": [
    "To get a value in a DataFrame we use [x, y], where `x` is the row number and `y` the cell id. This would usually look something like `[1, :Region]`, but in this special case the id of the column is a `Symbol` with the name of the year. So we use `Symbol(year)`."
   ]
  },
  {
   "cell_type": "code",
   "execution_count": null,
   "metadata": {},
   "outputs": [],
   "source": []
  },
  {
   "cell_type": "markdown",
   "metadata": {},
   "source": [
    "### GetValues\n",
    "This function finds the rows in the DataFrame, gets every value and calculates the median.\n",
    "\n",
    "First, we create an empty Dictionary with `Strings` as keys and `Float64` as numbers.\n",
    "We loop over the `MODELS` and search for each row with the current model.\n",
    "If we found one, we summarise the years and add the result to the Dictionary\n",
    "\n",
    "After the loop, we get the values of the dictionary and calculate the mean value."
   ]
  },
  {
   "cell_type": "code",
   "execution_count": 250,
   "metadata": {},
   "outputs": [
    {
     "data": {
      "text/plain": [
       "getValues (generic function with 2 methods)"
      ]
     },
     "execution_count": 250,
     "metadata": {},
     "output_type": "execute_result"
    }
   ],
   "source": [
    "function getValues(scenario, variable)\n",
    "    dictRegion = Dict{String, Dict}()\n",
    "\n",
    "    for region in REGIONS\n",
    "        dictModel = Dict{String, Float64}()\n",
    "\n",
    "        for model in MODELS\n",
    "            if (haskey(SCENARIO_VARIABLE_MAPPING, variable)) # Some variables have different names in the scenario data so we map the keys to the corresponding ones.\n",
    "                dictModel[model] = findScenarioData(scenario, SCENARIO_VARIABLE_MAPPING[variable], region, model)\n",
    "            elseif (variable == \"Oil and Gas extraction\") # Some variables need to be specificly calculated\n",
    "                dictModel[model] = findScenarioData(scenario, \"Extraction and Conversion - Fossil Fuels\", region, model) * 0.9\n",
    "            elseif (variable == \"Coal extraction\")\n",
    "                dictModel[model] = findScenarioData(scenario, \"Extraction and Conversion - Fossil Fuels\", region, model) * 0.1\n",
    "            elseif (variable == \"other renewables\")\n",
    "                hydro = findScenarioData(scenario, \"Energy Supply|Electricity|Hydro\", region, model)\n",
    "                ocean = findScenarioData(scenario, \"Energy Supply|Electricity|Ocean\", region, model)\n",
    "                geo = findScenarioData(scenario, \"Energy Supply|Electricity|Geothermal\", region, model)\n",
    "                dictModel[model] = hydro + ocean + geo\n",
    "            else # Some variables are the same as in the historic data set\n",
    "                dictModel[model] = findScenarioData(scenario, variable, region, model)\n",
    "            end\n",
    "            dictModel[model] = round(dictModel[model], digits=3)\n",
    "        end\n",
    "        \n",
    "        dictModel[\"median\"] = round(median(values(dictModel)), digits=3) # We calculate the median by simply getting the median of all values\n",
    "        dictModel[\"max\"] = maximum(values(dictModel)) # We calculate the maximum value from all values\n",
    "\n",
    "        dictRegion[region] = dictModel\n",
    "    end\n",
    "    \n",
    "    return dictRegion\n",
    "end"
   ]
  },
  {
   "cell_type": "code",
   "execution_count": 254,
   "metadata": {},
   "outputs": [
    {
     "data": {
      "text/plain": [
       "Dict{String,Float64} with 8 entries:\n",
       "  \"average\"           => 0.0\n",
       "  \"POLES\"             => 0.0\n",
       "  \"max\"               => 0.728\n",
       "  \"REMIND-MAgPIE\"     => 0.0\n",
       "  \"WITCH-GLOBIOM\"     => 0.0\n",
       "  \"AIM/CGE\"           => 0.728\n",
       "  \"IMAGE\"             => 0.002\n",
       "  \"MESSAGEix-GLOBIOM\" => 0.0"
      ]
     },
     "execution_count": 254,
     "metadata": {},
     "output_type": "execute_result"
    }
   ],
   "source": [
    "getValues(\"NDC\", \"Energy Supply|Electricity|Oil|w/ CCS\", \"World\")"
   ]
  },
  {
   "cell_type": "code",
   "execution_count": 252,
   "metadata": {},
   "outputs": [
    {
     "data": {
      "text/plain": [
       "100"
      ]
     },
     "execution_count": 252,
     "metadata": {},
     "output_type": "execute_result"
    }
   ],
   "source": [
    "ENV[\"COLUMNS\"] = 100"
   ]
  },
  {
   "cell_type": "code",
   "execution_count": 253,
   "metadata": {},
   "outputs": [
    {
     "data": {
      "text/html": [
       "<table class=\"data-frame\"><thead><tr><th></th><th>Model</th><th>Region</th><th>Scenario</th><th>Variable</th><th>Unit</th><th>2015</th></tr><tr><th></th><th>String</th><th>String</th><th>String</th><th>String</th><th>String</th><th>String</th></tr></thead><tbody><p>6 rows × 23 columns (omitted printing of 17 columns)</p><tr><th>1</th><td>AIM/CGE</td><td>World</td><td>NDC</td><td>Energy Supply|Electricity|Oil|w/ CCS</td><td>Billion US$2015/yr</td><td>0</td></tr><tr><th>2</th><td>IMAGE</td><td>World</td><td>NDC</td><td>Energy Supply|Electricity|Oil|w/ CCS</td><td>Billion US$2015/yr</td><td>0,002757331</td></tr><tr><th>3</th><td>MESSAGEix-GLOBIOM</td><td>World</td><td>NDC</td><td>Energy Supply|Electricity|Oil|w/ CCS</td><td>Billion US$2015/yr</td><td>0</td></tr><tr><th>4</th><td>POLES</td><td>World</td><td>NDC</td><td>Energy Supply|Electricity|Oil|w/ CCS</td><td>Billion US$2015/yr</td><td>0</td></tr><tr><th>5</th><td>REMIND-MAgPIE</td><td>World</td><td>NDC</td><td>Energy Supply|Electricity|Oil|w/ CCS</td><td>Billion US$2015/yr</td><td>0</td></tr><tr><th>6</th><td>WITCH-GLOBIOM</td><td>World</td><td>NDC</td><td>Energy Supply|Electricity|Oil|w/ CCS</td><td>Billion US$2015/yr</td><td>0</td></tr></tbody></table>"
      ],
      "text/latex": [
       "\\begin{tabular}{r|ccccccc}\n",
       "\t& Model & Region & Scenario & Variable & Unit & 2015 & \\\\\n",
       "\t\\hline\n",
       "\t& String & String & String & String & String & String & \\\\\n",
       "\t\\hline\n",
       "\t1 & AIM/CGE & World & NDC & Energy Supply|Electricity|Oil|w/ CCS & Billion US\\$2015/yr & 0 & $\\dots$ \\\\\n",
       "\t2 & IMAGE & World & NDC & Energy Supply|Electricity|Oil|w/ CCS & Billion US\\$2015/yr & 0,002757331 & $\\dots$ \\\\\n",
       "\t3 & MESSAGEix-GLOBIOM & World & NDC & Energy Supply|Electricity|Oil|w/ CCS & Billion US\\$2015/yr & 0 & $\\dots$ \\\\\n",
       "\t4 & POLES & World & NDC & Energy Supply|Electricity|Oil|w/ CCS & Billion US\\$2015/yr & 0 & $\\dots$ \\\\\n",
       "\t5 & REMIND-MAgPIE & World & NDC & Energy Supply|Electricity|Oil|w/ CCS & Billion US\\$2015/yr & 0 & $\\dots$ \\\\\n",
       "\t6 & WITCH-GLOBIOM & World & NDC & Energy Supply|Electricity|Oil|w/ CCS & Billion US\\$2015/yr & 0 & $\\dots$ \\\\\n",
       "\\end{tabular}\n"
      ],
      "text/plain": [
       "6×23 DataFrame. Omitted printing of 19 columns\n",
       "│ Row │ Model             │ Region │ Scenario │ Variable                             │\n",
       "│     │ \u001b[90mString\u001b[39m            │ \u001b[90mString\u001b[39m │ \u001b[90mString\u001b[39m   │ \u001b[90mString\u001b[39m                               │\n",
       "├─────┼───────────────────┼────────┼──────────┼──────────────────────────────────────┤\n",
       "│ 1   │ AIM/CGE           │ World  │ NDC      │ Energy Supply|Electricity|Oil|w/ CCS │\n",
       "│ 2   │ IMAGE             │ World  │ NDC      │ Energy Supply|Electricity|Oil|w/ CCS │\n",
       "│ 3   │ MESSAGEix-GLOBIOM │ World  │ NDC      │ Energy Supply|Electricity|Oil|w/ CCS │\n",
       "│ 4   │ POLES             │ World  │ NDC      │ Energy Supply|Electricity|Oil|w/ CCS │\n",
       "│ 5   │ REMIND-MAgPIE     │ World  │ NDC      │ Energy Supply|Electricity|Oil|w/ CCS │\n",
       "│ 6   │ WITCH-GLOBIOM     │ World  │ NDC      │ Energy Supply|Electricity|Oil|w/ CCS │"
      ]
     },
     "execution_count": 253,
     "metadata": {},
     "output_type": "execute_result"
    }
   ],
   "source": [
    "row = filter(row -> row[:Scenario] == \"NDC\" && row[:Region] == \"World\" && row[:Variable] == \"Energy Supply|Electricity|Oil|w/ CCS\", datum)"
   ]
  },
  {
   "cell_type": "markdown",
   "metadata": {},
   "source": [
    "### Filter function\n",
    "The filter function takes two parameter: a function returning true or false for each item; and a list of items."
   ]
  },
  {
   "cell_type": "code",
   "execution_count": 214,
   "metadata": {},
   "outputs": [
    {
     "data": {
      "text/plain": [
       "findScenarioData (generic function with 1 method)"
      ]
     },
     "execution_count": 214,
     "metadata": {},
     "output_type": "execute_result"
    }
   ],
   "source": [
    "function findScenarioData(scenario, variable, region, model)\n",
    "    row = filter(row -> row[:Scenario] == scenario && row[:Region] == region && row[:Variable] == variable && row[:Model] == model, datum)\n",
    "    if (size(row, 1) > 0)\n",
    "        return averageYears(row, NEAR_TERM_YEARS)\n",
    "    else\n",
    "        println(\"$variable in $region for $model and $scenario was not found in scenario data. Maybe variable name or region is spelled differently in the data set. Will use 0 as value.\")\n",
    "        return 0\n",
    "    end\n",
    "end"
   ]
  },
  {
   "cell_type": "code",
   "execution_count": 118,
   "metadata": {},
   "outputs": [
    {
     "data": {
      "text/plain": [
       "1.241"
      ]
     },
     "execution_count": 118,
     "metadata": {},
     "output_type": "execute_result"
    }
   ],
   "source": [
    "begin\n",
    "    findScenarioData(\"NDC\", \"Energy Supply|Electricity|Oil|w/ CCS\", \"World\", \"AIM/CGE\")\n",
    "end"
   ]
  },
  {
   "cell_type": "markdown",
   "metadata": {},
   "source": [
    "### Calculating the change\n",
    "\n",
    "Function to calculate the change between two values.\n",
    "We calculate the absolute change and if its positive or negative. This makes it easier to process later."
   ]
  },
  {
   "cell_type": "code",
   "execution_count": 221,
   "metadata": {},
   "outputs": [
    {
     "data": {
      "text/plain": [
       "calcChange (generic function with 1 method)"
      ]
     },
     "execution_count": 221,
     "metadata": {},
     "output_type": "execute_result"
    }
   ],
   "source": [
    "function calcChange(reference, value)\n",
    "    if (reference === value)\n",
    "       return (0, true) \n",
    "    end\n",
    "    ref = reference === 0.0 ? 1 : reference # In order to prevent the value from being Infinity, we change the value to 1 if it is 0\n",
    "    diff = ref - value\n",
    "    change = round(abs(diff) / ref, digits = 3)\n",
    "    # change = round(abs(reference - value) / max(reference, value), digits=3)\n",
    "    isPositive = ref <= value\n",
    "\n",
    "    return (change, isPositive, abs(round(diff, digits = 3)))\n",
    "end"
   ]
  },
  {
   "cell_type": "markdown",
   "metadata": {},
   "source": [
    "### Calculating the changes\n",
    "\n",
    "This function iterates over all values, gets its refeference value and saves the change in the dictionary."
   ]
  },
  {
   "cell_type": "code",
   "execution_count": 232,
   "metadata": {},
   "outputs": [
    {
     "data": {
      "text/plain": [
       "calcChanges (generic function with 1 method)"
      ]
     },
     "execution_count": 232,
     "metadata": {},
     "output_type": "execute_result"
    }
   ],
   "source": [
    "function calcChanges(vals, refs)\n",
    "    dictRegion = Dict{String, Dict}()\n",
    "\n",
    "    for region in REGIONS\n",
    "        changes = Dict{String, Any}()\n",
    "        ref = refs[region][\"median\"]\n",
    "        for (key, val) in vals[region]\n",
    "            changes[key] = calcChange(ref, val)\n",
    "        end\n",
    "        dictRegion[region] = changes\n",
    "    end\n",
    "    return dictRegion\n",
    "end"
   ]
  },
  {
   "cell_type": "markdown",
   "metadata": {},
   "source": [
    "## Build the final data set\n",
    "\n",
    "Finally, we loop over all scenarios, variables and regions and calculate everything."
   ]
  },
  {
   "cell_type": "code",
   "execution_count": 222,
   "metadata": {},
   "outputs": [],
   "source": [
    "runs = []\n",
    "\n",
    "for scenario in SCENARIOS\n",
    "    for variable in VARIABLES\n",
    "        if (scenario == \"historic\")\n",
    "            vals = getHistoricData(variable)\n",
    "            refs = vals\n",
    "            changes = calcChanges(vals, refs)\n",
    "        else\n",
    "            vals = getValues(scenario, variable)\n",
    "            refs = getHistoricData(variable)\n",
    "            changes = calcChanges(vals, refs)\n",
    "        end\n",
    "        push!(runs, (scenario = scenario, variable = variable, values = vals, reference = refs, changes = changes))\n",
    "    end\n",
    "end"
   ]
  },
  {
   "cell_type": "markdown",
   "metadata": {},
   "source": [
    "## Export the dataset\n",
    "\n",
    "`JSON.json` takes two arguments: a Dict and the indent."
   ]
  },
  {
   "cell_type": "code",
   "execution_count": 223,
   "metadata": {},
   "outputs": [],
   "source": [
    "open(\"../static/data/investments.json\", \"w\") do io\n",
    "   write(io, JSON.json(runs, 2));\n",
    "end;"
   ]
  },
  {
   "cell_type": "code",
   "execution_count": null,
   "metadata": {},
   "outputs": [],
   "source": []
  },
  {
   "cell_type": "code",
   "execution_count": null,
   "metadata": {},
   "outputs": [],
   "source": []
  }
 ],
 "metadata": {
  "kernelspec": {
   "display_name": "Julia 1.1.0",
   "language": "julia",
   "name": "julia-1.1"
  },
  "language_info": {
   "file_extension": ".jl",
   "mimetype": "application/julia",
   "name": "julia",
   "version": "1.1.0"
  }
 },
 "nbformat": 4,
 "nbformat_minor": 4
}
