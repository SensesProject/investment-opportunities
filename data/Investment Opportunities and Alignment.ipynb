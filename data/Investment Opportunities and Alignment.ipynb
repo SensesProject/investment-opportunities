{
 "cells": [
  {
   "cell_type": "markdown",
   "metadata": {},
   "source": [
    "# Investment Opportunities and Alignment"
   ]
  },
  {
   "cell_type": "markdown",
   "metadata": {},
   "source": [
    "- how investments consistent with the Paris Agreement Long-term target look like\n",
    "- the investments of today determine to a large extent the emissions of tomorrow"
   ]
  },
  {
   "cell_type": "code",
   "execution_count": 84,
   "metadata": {},
   "outputs": [],
   "source": [
    "using CSV\n",
    "using Statistics\n",
    "using JSON\n",
    "using DataFrames"
   ]
  },
  {
   "cell_type": "markdown",
   "metadata": {},
   "source": [
    "## Helper functions\n",
    "\n",
    "### Average years\n",
    "This function is used to get the average of a given array of years. We use this later on."
   ]
  },
  {
   "cell_type": "code",
   "execution_count": 85,
   "metadata": {},
   "outputs": [
    {
     "data": {
      "text/plain": [
       "averageYears (generic function with 1 method)"
      ]
     },
     "execution_count": 85,
     "metadata": {},
     "output_type": "execute_result"
    }
   ],
   "source": [
    "function averageYears(row, years)\n",
    "    # We loop over the years and get the value for each year from the row\n",
    "    # Since the column name of the years are in Symbols we need to convert the String-year\n",
    "    # From this new array we calculate the mean and cound it with 3 digits\n",
    "    function getYear(year)\n",
    "        value = row[1, Symbol(year)]\n",
    "        if (typeof(value) === String) # In some cases we need to convert the data from the csv to a number\n",
    "           parse(Float64, replace(value, \",\" => \".\")) \n",
    "        else\n",
    "            value\n",
    "        end\n",
    "    end\n",
    "    round(mean(getYear, years), digits=3)\n",
    "end"
   ]
  },
  {
   "cell_type": "markdown",
   "metadata": {},
   "source": [
    "## Mappings\n",
    "Some variables have different names in the historic data set. Also, some regions might have a different name."
   ]
  },
  {
   "cell_type": "code",
   "execution_count": 155,
   "metadata": {},
   "outputs": [
    {
     "data": {
      "text/plain": [
       "Dict{String,String} with 11 entries:\n",
       "  \"Bioenergy\"                     => \"Extraction and Conversion - Bioenergy\"\n",
       "  \"Fossil power generation\"       => \"Electricity - Fossil Fuels w/o CCS\"\n",
       "  \"Solar\"                         => \"Energy Supply|Electricity|Solar\"\n",
       "  \"Transmission and Distribution\" => \"Electricity - T&D and Storage\"\n",
       "  \"Hydrogen - Fossil\"             => \"Hydrogen - Fossil\"\n",
       "  \"Wind\"                          => \"Energy Supply|Electricity|Wind\"\n",
       "  \"Nuclear\"                       => \"Extraction and Conversion - Nuclear\"\n",
       "  \"Storage\"                       => \"Energy Supply|Electricity|Electricity Storage\"\n",
       "  \"Hydrogen - Non-fossil\"         => \"Hydrogen - Non-fossil\"\n",
       "  \"CCS\"                           => \"CCS\"\n",
       "  \"Energy Efficiency\"             => \"Energy Efficiency\""
      ]
     },
     "execution_count": 155,
     "metadata": {},
     "output_type": "execute_result"
    }
   ],
   "source": [
    "HISTORIC_VARIABLE_MAPPING = Dict{String,String}(\n",
    "    \"Energy Efficiency\" => \"Investment|Energy Efficiency\",\n",
    "    \"Transmission and Distribution\" => \"Investment|Energy Supply|Electricity|Transmission and Distribution\",\n",
    "    \"Nuclear\" => \"Investment|Energy Supply|Electricity|Nuclear\",\n",
    "    \"Bioenergy\" => \"Investment|Energy Supply|Extraction|Biomass\",\n",
    "    \"Solar\" => \"Investment|Energy Supply|Electricity|Solar\",\n",
    "    \"Wind\" => \"Investment|Energy Supply|Electricity|Wind\",\n",
    "    \"Fossil power generation\" => \"Investment|Energy Supply|Electricity|Fossil\",\n",
    "    \"Coal extraction\" => \"Investment|Energy Supply|Extraction|Coal\",\n",
    "    \"Storage\" => \"Investment|Energy Supply|Electricity|Battery storage\",\n",
    "    \"other renewables\" => \"Investment|Energy Supply|Electricity|Other renewables\"\n",
    ")\n",
    "\n",
    "HISTORIC_REGION_MAPPING = Dict{String,String}(\n",
    "    \"EU\" => \"EUR\"\n",
    ")\n",
    "\n",
    "SCENARIO_VARIABLE_MAPPING = Dict{String,String}(\n",
    "    \"Energy Efficiency\" => \"Energy Efficiency\",\n",
    "    \"Transmission and Distribution\" => \"Electricity - T&D and Storage\",\n",
    "    \"Nuclear\" => \"Extraction and Conversion - Nuclear\",\n",
    "    \"Bioenergy\" => \"Extraction and Conversion - Bioenergy\",\n",
    "    \"Solar\" => \"Energy Supply|Electricity|Solar\",\n",
    "    \"Wind\" => \"Energy Supply|Electricity|Wind\",\n",
    "    \"Fossil power generation\" => \"Electricity - Fossil Fuels w/o CCS\",\n",
    "    \"Hydrogen - Fossil\" => \"Hydrogen - Fossil\",\n",
    "    \"Hydrogen - Non-fossil\" => \"Hydrogen - Non-fossil\",\n",
    "    \"CCS\" => \"CCS\",\n",
    "    \"Storage\" => \"Energy Supply|Electricity|Electricity Storage\"\n",
    ")\n"
   ]
  },
  {
   "cell_type": "markdown",
   "metadata": {},
   "source": [
    "## Getting the historic data"
   ]
  },
  {
   "cell_type": "code",
   "execution_count": 87,
   "metadata": {},
   "outputs": [],
   "source": [
    "# historicData = CSV.read(\"source/WEI2020-DataTables_supplytimeseries_BNEF.csv\", decimal='.')"
   ]
  },
  {
   "cell_type": "code",
   "execution_count": 88,
   "metadata": {},
   "outputs": [
    {
     "data": {
      "text/plain": [
       "12-element Array{String,1}:\n",
       " \"R5LAM\"      \n",
       " \"R5ASIA\"     \n",
       " \"R5MAF\"      \n",
       " \"R5OECD90+EU\"\n",
       " \"R5REF\"      \n",
       " \"USA\"        \n",
       " \"CHN\"        \n",
       " \"IND\"        \n",
       " \"RUS\"        \n",
       " \"JPN\"        \n",
       " \"EUR\"        \n",
       " \"World\"      "
      ]
     },
     "execution_count": 88,
     "metadata": {},
     "output_type": "execute_result"
    }
   ],
   "source": [
    "historicData = CSV.read(\"source/report_SENSES.csv\"; delim=\";\")\n",
    "\n",
    "unique(historicData[!,:Region])"
   ]
  },
  {
   "cell_type": "code",
   "execution_count": null,
   "metadata": {},
   "outputs": [],
   "source": []
  },
  {
   "cell_type": "markdown",
   "metadata": {},
   "source": []
  },
  {
   "cell_type": "code",
   "execution_count": null,
   "metadata": {},
   "outputs": [],
   "source": []
  },
  {
   "cell_type": "code",
   "execution_count": null,
   "metadata": {},
   "outputs": [],
   "source": []
  },
  {
   "cell_type": "code",
   "execution_count": null,
   "metadata": {},
   "outputs": [],
   "source": []
  },
  {
   "cell_type": "code",
   "execution_count": null,
   "metadata": {},
   "outputs": [],
   "source": []
  },
  {
   "cell_type": "markdown",
   "metadata": {},
   "source": [
    "### Relevant historic years\n",
    "We extract a average of three historic years from the data."
   ]
  },
  {
   "cell_type": "code",
   "execution_count": 89,
   "metadata": {},
   "outputs": [
    {
     "data": {
      "text/plain": [
       "(2017, 2018, 2019)"
      ]
     },
     "execution_count": 89,
     "metadata": {},
     "output_type": "execute_result"
    }
   ],
   "source": [
    "HISTORIC_YEARS = (2017, 2018, 2019)"
   ]
  },
  {
   "cell_type": "markdown",
   "metadata": {},
   "source": [
    "### Find historic data\n",
    "We search for historic data by variable and region."
   ]
  },
  {
   "cell_type": "code",
   "execution_count": 90,
   "metadata": {},
   "outputs": [
    {
     "data": {
      "text/plain": [
       "findHistoricData (generic function with 1 method)"
      ]
     },
     "execution_count": 90,
     "metadata": {},
     "output_type": "execute_result"
    }
   ],
   "source": [
    "function findHistoricData(variable, region)\n",
    "    row = filter(row -> row[:Variable] == variable && row[:Region] == region, historicData)\n",
    "    if (nrow(row) === 0)\n",
    "        println(\"$variable in $region was not found in historic data. Maybe variable name or region is spelled differently in the data set. Will use 0 as value.\")\n",
    "        return 0\n",
    "    else\n",
    "        return averageYears(row, HISTORIC_YEARS)\n",
    "    end    \n",
    "end"
   ]
  },
  {
   "cell_type": "code",
   "execution_count": null,
   "metadata": {},
   "outputs": [],
   "source": []
  },
  {
   "cell_type": "code",
   "execution_count": 91,
   "metadata": {},
   "outputs": [
    {
     "data": {
      "text/plain": [
       "48.822"
      ]
     },
     "execution_count": 91,
     "metadata": {},
     "output_type": "execute_result"
    }
   ],
   "source": [
    "# Test function\n",
    "findHistoricData(\"Investment|Energy Efficiency\", \"CHN\")"
   ]
  },
  {
   "cell_type": "markdown",
   "metadata": {},
   "source": [
    "### Get historic data\n",
    "We need an additional function to get the correct historic data as some variable need some extra processing."
   ]
  },
  {
   "cell_type": "code",
   "execution_count": 161,
   "metadata": {},
   "outputs": [
    {
     "data": {
      "text/plain": [
       "getHistoricData (generic function with 1 method)"
      ]
     },
     "execution_count": 161,
     "metadata": {},
     "output_type": "execute_result"
    }
   ],
   "source": [
    "function getHistoricData(variable, region)\n",
    "    dict = Dict{String, Float64}()\n",
    "    dict[\"Reference\"] = 0\n",
    "\n",
    "    # Use region mapping if region is available for that.\n",
    "    region = haskey(HISTORIC_REGION_MAPPING, region) ? HISTORIC_REGION_MAPPING[region] : region\n",
    "    \n",
    "    if (haskey(HISTORIC_VARIABLE_MAPPING, variable)) # Some variables have different names in the historic data so we map the keys to the corresponding ones.\n",
    "        dict[\"Reference\"] = findHistoricData(HISTORIC_VARIABLE_MAPPING[variable], region)\n",
    "    elseif (variable === \"Oil and Gas extraction\") # Some variables need to be specificly calculated\n",
    "        oil = findHistoricData(\"Investment|Energy Supply|Extraction|Oil\", region)\n",
    "        gas = findHistoricData(\"Investment|Energy Supply|Extraction|Gas\", region)\n",
    "        dict[\"Reference\"] = oil + gas\n",
    "    else # Some variables are the same as in the historic data set\n",
    "        dict[\"Reference\"] = findHistoricData(variable, region)\n",
    "    end\n",
    "    \n",
    "    dict[\"Reference\"] = round(dict[\"Reference\"], digits=3)\n",
    "    for model in MODELS\n",
    "        dict[model] = dict[\"Reference\"]\n",
    "    end\n",
    "    dict[\"average\"] = dict[\"Reference\"] # Since we don’t have any models for the historic data, the average is the same\n",
    "    dict[\"max\"] = dict[\"Reference\"] # The same applies for the maximum value\n",
    "    return dict\n",
    "end"
   ]
  },
  {
   "cell_type": "markdown",
   "metadata": {},
   "source": [
    "## Scenario data\n",
    "We now load the scenario data set."
   ]
  },
  {
   "cell_type": "code",
   "execution_count": 93,
   "metadata": {},
   "outputs": [
    {
     "data": {
      "text/html": [
       "<table class=\"data-frame\"><thead><tr><th></th><th>Model</th><th>Region</th><th>Scenario</th><th>Variable</th></tr><tr><th></th><th>String</th><th>String</th><th>String</th><th>String</th></tr></thead><tbody><p>7,432 rows × 23 columns (omitted printing of 19 columns)</p><tr><th>1</th><td>AIM/CGE</td><td>World</td><td>CPol</td><td>Total energy investment</td></tr><tr><th>2</th><td>AIM/CGE</td><td>World</td><td>CPol</td><td>Total energy investment (supply side)</td></tr><tr><th>3</th><td>AIM/CGE</td><td>World</td><td>CPol</td><td>Low carbon investment</td></tr><tr><th>4</th><td>AIM/CGE</td><td>World</td><td>CPol</td><td>Low carbon investment (supply side)</td></tr><tr><th>5</th><td>AIM/CGE</td><td>World</td><td>CPol</td><td>Total_inv/GDP</td></tr><tr><th>6</th><td>AIM/CGE</td><td>World</td><td>CPol</td><td>LC_inv/GDP</td></tr><tr><th>7</th><td>AIM/CGE</td><td>World</td><td>CPol</td><td>Extraction and Conversion - Fossil Fuels</td></tr><tr><th>8</th><td>AIM/CGE</td><td>World</td><td>CPol</td><td>Electricity - Fossil Fuels w/o CCS</td></tr><tr><th>9</th><td>AIM/CGE</td><td>World</td><td>CPol</td><td>Hydrogen - Fossil</td></tr><tr><th>10</th><td>AIM/CGE</td><td>World</td><td>CPol</td><td>Electricity - Non-bio Renewables</td></tr><tr><th>11</th><td>AIM/CGE</td><td>World</td><td>CPol</td><td>Hydrogen - Non-fossil</td></tr><tr><th>12</th><td>AIM/CGE</td><td>World</td><td>CPol</td><td>Extraction and Conversion - Bioenergy</td></tr><tr><th>13</th><td>AIM/CGE</td><td>World</td><td>CPol</td><td>Extraction and Conversion - Nuclear</td></tr><tr><th>14</th><td>AIM/CGE</td><td>World</td><td>CPol</td><td>Electricity - T&amp;D and Storage</td></tr><tr><th>15</th><td>AIM/CGE</td><td>World</td><td>CPol</td><td>CCS</td></tr><tr><th>16</th><td>AIM/CGE</td><td>World</td><td>CPol</td><td>Energy Efficiency</td></tr><tr><th>17</th><td>AIM/CGE</td><td>World</td><td>CPol</td><td>Energy Supply|Electricity|Coal|w/ CCS</td></tr><tr><th>18</th><td>AIM/CGE</td><td>World</td><td>CPol</td><td>Energy Supply|Electricity|Coal|w/o CCS</td></tr><tr><th>19</th><td>AIM/CGE</td><td>World</td><td>CPol</td><td>Energy Supply|Electricity|Gas|w/ CCS</td></tr><tr><th>20</th><td>AIM/CGE</td><td>World</td><td>CPol</td><td>Energy Supply|Electricity|Gas|w/o CCS</td></tr><tr><th>21</th><td>AIM/CGE</td><td>World</td><td>CPol</td><td>Energy Supply|Electricity|Oil|w/ CCS</td></tr><tr><th>22</th><td>AIM/CGE</td><td>World</td><td>CPol</td><td>Energy Supply|Electricity|Biomass|w/ CCS</td></tr><tr><th>23</th><td>AIM/CGE</td><td>World</td><td>CPol</td><td>Energy Supply|Electricity|Biomass|w/o CCS</td></tr><tr><th>24</th><td>AIM/CGE</td><td>World</td><td>CPol</td><td>Energy Supply|Electricity|Nuclear</td></tr><tr><th>25</th><td>AIM/CGE</td><td>World</td><td>CPol</td><td>Energy Supply|Electricity|Hydro</td></tr><tr><th>26</th><td>AIM/CGE</td><td>World</td><td>CPol</td><td>Energy Supply|Electricity|Solar</td></tr><tr><th>27</th><td>AIM/CGE</td><td>World</td><td>CPol</td><td>Energy Supply|Electricity|Wind</td></tr><tr><th>28</th><td>AIM/CGE</td><td>World</td><td>CPol</td><td>Energy Supply|Electricity|Geothermal</td></tr><tr><th>29</th><td>AIM/CGE</td><td>World</td><td>CPol</td><td>Energy Supply|Electricity|Ocean</td></tr><tr><th>30</th><td>AIM/CGE</td><td>World</td><td>CPol</td><td>Energy Supply|Electricity|Transmission and Distribution</td></tr><tr><th>&vellip;</th><td>&vellip;</td><td>&vellip;</td><td>&vellip;</td><td>&vellip;</td></tr></tbody></table>"
      ],
      "text/latex": [
       "\\begin{tabular}{r|ccccc}\n",
       "\t& Model & Region & Scenario & Variable & \\\\\n",
       "\t\\hline\n",
       "\t& String & String & String & String & \\\\\n",
       "\t\\hline\n",
       "\t1 & AIM/CGE & World & CPol & Total energy investment & $\\dots$ \\\\\n",
       "\t2 & AIM/CGE & World & CPol & Total energy investment (supply side) & $\\dots$ \\\\\n",
       "\t3 & AIM/CGE & World & CPol & Low carbon investment & $\\dots$ \\\\\n",
       "\t4 & AIM/CGE & World & CPol & Low carbon investment (supply side) & $\\dots$ \\\\\n",
       "\t5 & AIM/CGE & World & CPol & Total\\_inv/GDP & $\\dots$ \\\\\n",
       "\t6 & AIM/CGE & World & CPol & LC\\_inv/GDP & $\\dots$ \\\\\n",
       "\t7 & AIM/CGE & World & CPol & Extraction and Conversion - Fossil Fuels & $\\dots$ \\\\\n",
       "\t8 & AIM/CGE & World & CPol & Electricity - Fossil Fuels w/o CCS & $\\dots$ \\\\\n",
       "\t9 & AIM/CGE & World & CPol & Hydrogen - Fossil & $\\dots$ \\\\\n",
       "\t10 & AIM/CGE & World & CPol & Electricity - Non-bio Renewables & $\\dots$ \\\\\n",
       "\t11 & AIM/CGE & World & CPol & Hydrogen - Non-fossil & $\\dots$ \\\\\n",
       "\t12 & AIM/CGE & World & CPol & Extraction and Conversion - Bioenergy & $\\dots$ \\\\\n",
       "\t13 & AIM/CGE & World & CPol & Extraction and Conversion - Nuclear & $\\dots$ \\\\\n",
       "\t14 & AIM/CGE & World & CPol & Electricity - T\\&D and Storage & $\\dots$ \\\\\n",
       "\t15 & AIM/CGE & World & CPol & CCS & $\\dots$ \\\\\n",
       "\t16 & AIM/CGE & World & CPol & Energy Efficiency & $\\dots$ \\\\\n",
       "\t17 & AIM/CGE & World & CPol & Energy Supply|Electricity|Coal|w/ CCS & $\\dots$ \\\\\n",
       "\t18 & AIM/CGE & World & CPol & Energy Supply|Electricity|Coal|w/o CCS & $\\dots$ \\\\\n",
       "\t19 & AIM/CGE & World & CPol & Energy Supply|Electricity|Gas|w/ CCS & $\\dots$ \\\\\n",
       "\t20 & AIM/CGE & World & CPol & Energy Supply|Electricity|Gas|w/o CCS & $\\dots$ \\\\\n",
       "\t21 & AIM/CGE & World & CPol & Energy Supply|Electricity|Oil|w/ CCS & $\\dots$ \\\\\n",
       "\t22 & AIM/CGE & World & CPol & Energy Supply|Electricity|Biomass|w/ CCS & $\\dots$ \\\\\n",
       "\t23 & AIM/CGE & World & CPol & Energy Supply|Electricity|Biomass|w/o CCS & $\\dots$ \\\\\n",
       "\t24 & AIM/CGE & World & CPol & Energy Supply|Electricity|Nuclear & $\\dots$ \\\\\n",
       "\t25 & AIM/CGE & World & CPol & Energy Supply|Electricity|Hydro & $\\dots$ \\\\\n",
       "\t26 & AIM/CGE & World & CPol & Energy Supply|Electricity|Solar & $\\dots$ \\\\\n",
       "\t27 & AIM/CGE & World & CPol & Energy Supply|Electricity|Wind & $\\dots$ \\\\\n",
       "\t28 & AIM/CGE & World & CPol & Energy Supply|Electricity|Geothermal & $\\dots$ \\\\\n",
       "\t29 & AIM/CGE & World & CPol & Energy Supply|Electricity|Ocean & $\\dots$ \\\\\n",
       "\t30 & AIM/CGE & World & CPol & Energy Supply|Electricity|Transmission and Distribution & $\\dots$ \\\\\n",
       "\t$\\dots$ & $\\dots$ & $\\dots$ & $\\dots$ & $\\dots$ &  \\\\\n",
       "\\end{tabular}\n"
      ],
      "text/plain": [
       "7432×23 DataFrame. Omitted printing of 20 columns\n",
       "│ Row  │ Model         │ Region │ Scenario │\n",
       "│      │ \u001b[90mString\u001b[39m        │ \u001b[90mString\u001b[39m │ \u001b[90mString\u001b[39m   │\n",
       "├──────┼───────────────┼────────┼──────────┤\n",
       "│ 1    │ AIM/CGE       │ World  │ CPol     │\n",
       "│ 2    │ AIM/CGE       │ World  │ CPol     │\n",
       "│ 3    │ AIM/CGE       │ World  │ CPol     │\n",
       "│ 4    │ AIM/CGE       │ World  │ CPol     │\n",
       "│ 5    │ AIM/CGE       │ World  │ CPol     │\n",
       "│ 6    │ AIM/CGE       │ World  │ CPol     │\n",
       "│ 7    │ AIM/CGE       │ World  │ CPol     │\n",
       "│ 8    │ AIM/CGE       │ World  │ CPol     │\n",
       "│ 9    │ AIM/CGE       │ World  │ CPol     │\n",
       "│ 10   │ AIM/CGE       │ World  │ CPol     │\n",
       "⋮\n",
       "│ 7422 │ WITCH-GLOBIOM │ R5LAM  │ 1.5C     │\n",
       "│ 7423 │ WITCH-GLOBIOM │ R5LAM  │ 1.5C     │\n",
       "│ 7424 │ WITCH-GLOBIOM │ R5LAM  │ 1.5C     │\n",
       "│ 7425 │ WITCH-GLOBIOM │ R5LAM  │ 1.5C     │\n",
       "│ 7426 │ WITCH-GLOBIOM │ R5LAM  │ 1.5C     │\n",
       "│ 7427 │ WITCH-GLOBIOM │ R5LAM  │ 1.5C     │\n",
       "│ 7428 │ WITCH-GLOBIOM │ R5LAM  │ 1.5C     │\n",
       "│ 7429 │ WITCH-GLOBIOM │ R5LAM  │ 1.5C     │\n",
       "│ 7430 │ WITCH-GLOBIOM │ R5LAM  │ 1.5C     │\n",
       "│ 7431 │ WITCH-GLOBIOM │ R5LAM  │ 1.5C     │\n",
       "│ 7432 │ WITCH-GLOBIOM │ R5LAM  │ 1.5C     │"
      ]
     },
     "execution_count": 93,
     "metadata": {},
     "output_type": "execute_result"
    }
   ],
   "source": [
    "scenarioRuns = CSV.read(\"source/41560_2018_179_MOESM2_ESM-1.csv\", decimal=',')"
   ]
  },
  {
   "cell_type": "code",
   "execution_count": null,
   "metadata": {},
   "outputs": [],
   "source": []
  },
  {
   "cell_type": "code",
   "execution_count": 166,
   "metadata": {},
   "outputs": [
    {
     "data": {
      "text/plain": [
       "6-element Array{String,1}:\n",
       " \"AIM/CGE\"          \n",
       " \"IMAGE\"            \n",
       " \"MESSAGEix-GLOBIOM\"\n",
       " \"POLES\"            \n",
       " \"REMIND-MAgPIE\"    \n",
       " \"WITCH-GLOBIOM\"    "
      ]
     },
     "execution_count": 166,
     "metadata": {},
     "output_type": "execute_result"
    }
   ],
   "source": [
    "# unique(scenarioRuns[!,:Variable])\n",
    "unique(scenarioRuns[!,:Model])"
   ]
  },
  {
   "cell_type": "markdown",
   "metadata": {},
   "source": [
    "## Defining valid values"
   ]
  },
  {
   "cell_type": "code",
   "execution_count": 169,
   "metadata": {},
   "outputs": [
    {
     "data": {
      "text/plain": [
       "(\"1.5C\", \"NDC\", \"2C\", \"historic\")"
      ]
     },
     "execution_count": 169,
     "metadata": {},
     "output_type": "execute_result"
    }
   ],
   "source": [
    "VARIABLES = (\n",
    "    \"Oil and Gas extraction\",\n",
    "    \"Coal extraction\",\n",
    "    \"Fossil power generation\",\n",
    "    \"Hydrogen - Fossil\",\n",
    "    \"Nuclear\",\n",
    "    \"Bioenergy\",\n",
    "    \"Hydrogen - Non-fossil\",\n",
    "    \"Solar\",\n",
    "    \"Wind\",\n",
    "    \"other renewables\",\n",
    "    \"Transmission and Distribution\",\n",
    "    \"Energy Efficiency\",\n",
    "    \"CCS\",\n",
    "    \"Storage\"\n",
    ")\n",
    "\n",
    "MODELS = (\n",
    "    \"AIM/CGE\",\n",
    "    \"IMAGE\",\n",
    "    \"MESSAGEix-GLOBIOM\",\n",
    "    \"POLES\",\n",
    "    \"REMIND-MAgPIE\",\n",
    "    \"WITCH-GLOBIOM\"\n",
    ")\n",
    "\n",
    "REGIONS = (\n",
    "  \"World\", # Julia thing: we actually need a comma if we have just one item in the tuple\n",
    "#  \"CHN\",\n",
    "# \"IND\",\n",
    "#  \"USA\",\n",
    "#  \"R5OECD90+EU\",\n",
    "#  \"R5REF\",\n",
    "#  \"R5ASIA\",\n",
    "#  \"R5MAF\",\n",
    "#  \"R5LAM\",\n",
    "#  \"EU\"\n",
    ")\n",
    "\n",
    "SCENARIOS = (\n",
    "    \"1.5C\",\n",
    "    \"NDC\",\n",
    "    \"2C\",\n",
    "    \"historic\"\n",
    "  # \"CPol\"\n",
    ")"
   ]
  },
  {
   "cell_type": "markdown",
   "metadata": {},
   "source": [
    "## Filtering runs\n",
    "\n",
    "After defining the valid values, we filter the runs by checking if each attributes is present in the value tuples."
   ]
  },
  {
   "cell_type": "markdown",
   "metadata": {},
   "source": [
    "The `in` function checks if the first parameter is in second parameter."
   ]
  },
  {
   "cell_type": "code",
   "execution_count": 170,
   "metadata": {},
   "outputs": [
    {
     "data": {
      "text/html": [
       "<table class=\"data-frame\"><thead><tr><th></th><th>Model</th><th>Region</th><th>Scenario</th><th>Variable</th><th>Unit</th><th>2015</th><th>2020</th><th>2025</th><th>2030</th><th>2035</th><th>2040</th><th>2045</th><th>2050</th><th>2055</th><th>2060</th><th>2065</th><th>2070</th><th>2075</th><th>2080</th><th>2085</th><th>2090</th><th>2095</th><th>2100</th></tr><tr><th></th><th>String</th><th>String</th><th>String</th><th>String</th><th>String</th><th>String</th><th>String</th><th>String</th><th>String</th><th>String</th><th>String</th><th>String</th><th>String</th><th>String</th><th>String</th><th>String</th><th>String</th><th>String</th><th>String</th><th>String</th><th>String</th><th>String</th><th>String</th></tr></thead><tbody><p>558 rows × 23 columns</p><tr><th>1</th><td>AIM/CGE</td><td>World</td><td>NDC</td><td>Total energy investment</td><td>Billion US$2015/yr</td><td>1498,411185</td><td>1652,791319</td><td>1821,139647</td><td>2153,241344</td><td>2056,680559</td><td>2106,633862</td><td>2197,972365</td><td>2263,306421</td><td>2429,401987</td><td>2420,210658</td><td>2575,54707</td><td>2739,450221</td><td>2821,669361</td><td>2880,549318</td><td>2908,566979</td><td>2922,580382</td><td>3156,677084</td><td>3233,601351</td></tr><tr><th>2</th><td>AIM/CGE</td><td>World</td><td>NDC</td><td>Total energy investment (supply side)</td><td>Billion US$2015/yr</td><td>1277,411185</td><td>1423,544972</td><td>1573,088653</td><td>1877,732552</td><td>1760,601574</td><td>1797,980642</td><td>1880,188604</td><td>1938,937564</td><td>2100,116535</td><td>2087,077997</td><td>2239,013808</td><td>2399,194022</td><td>2477,557425</td><td>2532,722568</td><td>2557,00612</td><td>2567,145944</td><td>2797,563616</td><td>2870,919088</td></tr><tr><th>3</th><td>AIM/CGE</td><td>World</td><td>NDC</td><td>Low carbon investment</td><td>Billion US$2015/yr</td><td>477,2559814</td><td>526,5537738</td><td>726,4860956</td><td>1033,188425</td><td>895,4199211</td><td>990,2421361</td><td>1066,488303</td><td>1124,925082</td><td>1191,499856</td><td>1123,516709</td><td>1158,806657</td><td>1229,665305</td><td>1265,054301</td><td>1287,867201</td><td>1289,1726</td><td>1293,259812</td><td>1407,107443</td><td>1450,80473</td></tr><tr><th>4</th><td>AIM/CGE</td><td>World</td><td>NDC</td><td>Low carbon investment (supply side)</td><td>Billion US$2015/yr</td><td>256,2559814</td><td>297,3074269</td><td>478,4351017</td><td>757,6796324</td><td>599,3409359</td><td>681,5889163</td><td>748,7045418</td><td>800,5562241</td><td>862,2144042</td><td>790,384048</td><td>822,273395</td><td>889,4091065</td><td>920,9423645</td><td>940,0404502</td><td>937,6117404</td><td>937,825374</td><td>1047,993975</td><td>1088,122467</td></tr><tr><th>5</th><td>AIM/CGE</td><td>World</td><td>NDC</td><td>Total_inv/GDP</td><td>--</td><td>2.40%</td><td>2.23%</td><td>2.12%</td><td>2.20%</td><td>1.87%</td><td>1.72%</td><td>1.62%</td><td>1.53%</td><td>1.50%</td><td>1.38%</td><td>1.35%</td><td>1.33%</td><td>1.27%</td><td>1.20%</td><td>1.13%</td><td>1.06%</td><td>1.07%</td><td>1.03%</td></tr><tr><th>6</th><td>AIM/CGE</td><td>World</td><td>NDC</td><td>LC_inv/GDP</td><td>--</td><td>0.77%</td><td>0.71%</td><td>0.85%</td><td>1.06%</td><td>0.81%</td><td>0.81%</td><td>0.79%</td><td>0.76%</td><td>0.74%</td><td>0.64%</td><td>0.61%</td><td>0.59%</td><td>0.57%</td><td>0.54%</td><td>0.50%</td><td>0.47%</td><td>0.48%</td><td>0.46%</td></tr><tr><th>7</th><td>AIM/CGE</td><td>World</td><td>NDC</td><td>Extraction and Conversion - Fossil Fuels</td><td>Billion US$2015/yr</td><td>543,8002838</td><td>631,2278568</td><td>542,5892027</td><td>539,1277599</td><td>728,900894</td><td>709,7650199</td><td>705,5463729</td><td>680,0892677</td><td>684,8836986</td><td>790,4760743</td><td>843,7633144</td><td>892,1862295</td><td>905,1277254</td><td>904,0771399</td><td>899,2732521</td><td>886,9367804</td><td>910,5580513</td><td>920,5686691</td></tr><tr><th>8</th><td>AIM/CGE</td><td>World</td><td>NDC</td><td>Electricity - Fossil Fuels w/o CCS</td><td>Billion US$2015/yr</td><td>207,1841566</td><td>200,2934462</td><td>176,2125917</td><td>149,9228445</td><td>118,4400635</td><td>123,7345144</td><td>127,6001038</td><td>141,1879299</td><td>185,4968761</td><td>165,2879156</td><td>198,4592424</td><td>208,8562887</td><td>224,0770062</td><td>241,4225913</td><td>255,9701297</td><td>263,7754419</td><td>289,0090599</td><td>290,2688929</td></tr><tr><th>9</th><td>AIM/CGE</td><td>World</td><td>NDC</td><td>Hydrogen - Fossil</td><td>Billion US$2015/yr</td><td>0</td><td>0</td><td>0</td><td>0</td><td>0</td><td>0</td><td>0</td><td>0</td><td>0</td><td>0</td><td>0</td><td>0</td><td>0</td><td>0</td><td>0</td><td>0</td><td>0</td><td>0</td></tr><tr><th>10</th><td>AIM/CGE</td><td>World</td><td>NDC</td><td>Electricity - Non-bio Renewables</td><td>Billion US$2015/yr</td><td>125,6180952</td><td>150,6033065</td><td>247,8134991</td><td>392,9482173</td><td>270,9038792</td><td>304,5775087</td><td>329,2322992</td><td>343,4755863</td><td>352,1372371</td><td>309,2807403</td><td>321,5573183</td><td>359,0602314</td><td>369,5510858</td><td>373,376891</td><td>362,6143953</td><td>359,8615678</td><td>403,6686461</td><td>419,8402712</td></tr><tr><th>11</th><td>AIM/CGE</td><td>World</td><td>NDC</td><td>Hydrogen - Non-fossil</td><td>Billion US$2015/yr</td><td>0</td><td>0</td><td>0</td><td>0</td><td>0</td><td>0</td><td>0</td><td>0</td><td>0</td><td>0</td><td>0</td><td>0</td><td>0</td><td>0</td><td>0</td><td>0</td><td>0</td><td>0</td></tr><tr><th>12</th><td>AIM/CGE</td><td>World</td><td>NDC</td><td>Extraction and Conversion - Bioenergy</td><td>Billion US$2015/yr</td><td>15,62019</td><td>16,0530334</td><td>26,9055327</td><td>33,2081761</td><td>36,7974501</td><td>56,8894494</td><td>68,6410064</td><td>76,4882768</td><td>94,2656183</td><td>105,5305254</td><td>104,5758133</td><td>99,9394322</td><td>105,1255092</td><td>109,4597043</td><td>114,6170845</td><td>117,9334128</td><td>129,4261551</td><td>132,6907422</td></tr><tr><th>13</th><td>AIM/CGE</td><td>World</td><td>NDC</td><td>Extraction and Conversion - Nuclear</td><td>Billion US$2015/yr</td><td>75,82021575</td><td>88,72603754</td><td>117,3193381</td><td>124,4689455</td><td>115,2468495</td><td>74,42528957</td><td>79,88072528</td><td>87,96298433</td><td>113,5720765</td><td>112,4972778</td><td>128,5704807</td><td>144,0180582</td><td>151,8135292</td><td>160,5329015</td><td>169,2375693</td><td>176,8172915</td><td>204,3054333</td><td>215,3824359</td></tr><tr><th>14</th><td>AIM/CGE</td><td>World</td><td>NDC</td><td>Electricity - T&amp;D and Storage</td><td>Billion US$2015/yr</td><td>309,3682438</td><td>336,6412912</td><td>461,0622461</td><td>626,0758029</td><td>468,5054786</td><td>516,8151283</td><td>563,3022051</td><td>605,5684609</td><td>665,2985674</td><td>600,6850047</td><td>638,7506577</td><td>692,0553985</td><td>719,0263686</td><td>741,4169381</td><td>753,1521901</td><td>759,8045214</td><td>857,1010218</td><td>886,9022138</td></tr><tr><th>15</th><td>AIM/CGE</td><td>World</td><td>NDC</td><td>CCS</td><td>Billion US$2015/yr</td><td>0</td><td>0</td><td>1,1862431</td><td>11,9808053</td><td>21,8069592</td><td>11,7737318</td><td>5,9858916</td><td>4,1650579</td><td>4,4624611</td><td>3,3204589</td><td>3,3369813</td><td>3,078384</td><td>2,8362004</td><td>2,4364018</td><td>2,1414987</td><td>2,0169285</td><td>3,4952485</td><td>5,2658628</td></tr><tr><th>16</th><td>AIM/CGE</td><td>World</td><td>NDC</td><td>Energy Efficiency</td><td>Billion US$2015/yr</td><td>221</td><td>229,2463469</td><td>248,050994</td><td>275,5087922</td><td>296,0789852</td><td>308,6532198</td><td>317,7837607</td><td>324,3688575</td><td>329,2854519</td><td>333,1326611</td><td>336,5332621</td><td>340,2561981</td><td>344,111936</td><td>347,8267505</td><td>351,5608592</td><td>355,4344378</td><td>359,1134678</td><td>362,6822627</td></tr><tr><th>17</th><td>AIM/CGE</td><td>World</td><td>NDC</td><td>Energy Supply|Electricity|Coal|w/ CCS</td><td>Billion US$2015/yr</td><td>0</td><td>0</td><td>0,3524054</td><td>1,9199681</td><td>4,9516111</td><td>5,0267228</td><td>2,676194</td><td>2,483795</td><td>2,9094642</td><td>2,5716246</td><td>2,8610927</td><td>2,6421709</td><td>2,3790082</td><td>1,9746442</td><td>1,6657188</td><td>1,5218</td><td>2,7244568</td><td>4,144731</td></tr><tr><th>18</th><td>AIM/CGE</td><td>World</td><td>NDC</td><td>Energy Supply|Electricity|Coal|w/o CCS</td><td>Billion US$2015/yr</td><td>83,89088268</td><td>95,7779614</td><td>42,0772265</td><td>41,1089269</td><td>47,3810256</td><td>48,2189939</td><td>49,3227337</td><td>53,0044027</td><td>65,4183775</td><td>70,2508534</td><td>92,9805669</td><td>97,6034692</td><td>111,563158</td><td>125,6012195</td><td>140,5444259</td><td>150,7132022</td><td>163,9910159</td><td>165,2694366</td></tr><tr><th>19</th><td>AIM/CGE</td><td>World</td><td>NDC</td><td>Energy Supply|Electricity|Gas|w/ CCS</td><td>Billion US$2015/yr</td><td>0</td><td>0</td><td>0,4327347</td><td>6,485042</td><td>9,6506034</td><td>4,3451738</td><td>2,3630293</td><td>1,120697</td><td>0,9977573</td><td>0,390233</td><td>0,1926164</td><td>0,1813116</td><td>0,1853335</td><td>0,1919642</td><td>0,190225</td><td>0,1842465</td><td>0,208704</td><td>0,4634968</td></tr><tr><th>20</th><td>AIM/CGE</td><td>World</td><td>NDC</td><td>Energy Supply|Electricity|Gas|w/o CCS</td><td>Billion US$2015/yr</td><td>100,0600892</td><td>84,2289125</td><td>116,8054329</td><td>93,2807963</td><td>54,1225996</td><td>58,309941</td><td>59,9840297</td><td>67,3857388</td><td>93,4954788</td><td>72,7976944</td><td>82,2412243</td><td>86,9756528</td><td>88,5574552</td><td>91,9618305</td><td>91,1321234</td><td>87,4476282</td><td>106,1265275</td><td>106,348819</td></tr><tr><th>21</th><td>AIM/CGE</td><td>World</td><td>NDC</td><td>Energy Supply|Electricity|Oil|w/ CCS</td><td>Billion US$2015/yr</td><td>0</td><td>0</td><td>0,1557671</td><td>1,3005955</td><td>3,3749176</td><td>1,3566847</td><td>0,8330768</td><td>0,4249083</td><td>0,3459921</td><td>0,1348967</td><td>0,0585893</td><td>0,052176</td><td>0,052176</td><td>0,0520673</td><td>0,0527195</td><td>0,0547848</td><td>0,0440235</td><td>0,1157655</td></tr><tr><th>22</th><td>AIM/CGE</td><td>World</td><td>NDC</td><td>Energy Supply|Electricity|Biomass|w/ CCS</td><td>Billion US$2015/yr</td><td>0</td><td>0</td><td>0</td><td>0,0564153</td><td>0,2277265</td><td>0,0854382</td><td>0,1019606</td><td>0,1329401</td><td>0,188051</td><td>0,2190305</td><td>0,201095</td><td>0,1915294</td><td>0,2016385</td><td>0,2090301</td><td>0,2153347</td><td>0,2199001</td><td>0,2569668</td><td>0,2570755</td></tr><tr><th>23</th><td>AIM/CGE</td><td>World</td><td>NDC</td><td>Energy Supply|Electricity|Biomass|w/o CCS</td><td>Billion US$2015/yr</td><td>9,365564825</td><td>7,1944182</td><td>12,4306059</td><td>19,8280757</td><td>23,9454143</td><td>39,3262469</td><td>48,2326901</td><td>57,8803586</td><td>77,2238497</td><td>85,3659145</td><td>84,3954409</td><td>78,9154391</td><td>82,7527665</td><td>85,8864788</td><td>89,9717509</td><td>92,6494667</td><td>104,5787482</td><td>106,3915381</td></tr><tr><th>24</th><td>AIM/CGE</td><td>World</td><td>NDC</td><td>Energy Supply|Electricity|Nuclear</td><td>Billion US$2015/yr</td><td>70,11375553</td><td>81,8089244</td><td>108,8308748</td><td>114,7242627</td><td>104,5777699</td><td>63,7767901</td><td>69,1974417</td><td>77,0784091</td><td>102,1123452</td><td>100,4467351</td><td>115,6952798</td><td>130,0578108</td><td>136,7434043</td><td>144,4237115</td><td>152,0920617</td><td>158,648737</td><td>184,9581589</td><td>194,5693042</td></tr><tr><th>25</th><td>AIM/CGE</td><td>World</td><td>NDC</td><td>Energy Supply|Electricity|Hydro</td><td>Billion US$2015/yr</td><td>95,58553523</td><td>103,6450152</td><td>100,4683664</td><td>104,4203723</td><td>91,7629095</td><td>57,2267455</td><td>60,7255811</td><td>63,8313575</td><td>79,8950435</td><td>77,0286245</td><td>88,9085562</td><td>102,3839865</td><td>107,9487743</td><td>109,968529</td><td>97,3356324</td><td>97,1004056</td><td>100,8178369</td><td>102,2850695</td></tr><tr><th>26</th><td>AIM/CGE</td><td>World</td><td>NDC</td><td>Energy Supply|Electricity|Solar</td><td>Billion US$2015/yr</td><td>13,34254455</td><td>21,9924014</td><td>62,9375174</td><td>108,6810862</td><td>74,1700319</td><td>115,2727629</td><td>126,7473523</td><td>133,8435057</td><td>129,3385429</td><td>110,3639796</td><td>108,954358</td><td>124,0655059</td><td>128,1896926</td><td>131,4097127</td><td>133,5702339</td><td>133,0627136</td><td>153,7348448</td><td>162,7618363</td></tr><tr><th>27</th><td>AIM/CGE</td><td>World</td><td>NDC</td><td>Energy Supply|Electricity|Wind</td><td>Billion US$2015/yr</td><td>14,67564135</td><td>22,9089598</td><td>81,8966453</td><td>176,9565345</td><td>103,5474026</td><td>130,4688055</td><td>140,1548451</td><td>143,99489</td><td>140,5510566</td><td>119,7162015</td><td>121,1721293</td><td>129,9033481</td><td>130,5830492</td><td>129,0434224</td><td>128,644276</td><td>126,5475617</td><td>145,726481</td><td>151,2959429</td></tr><tr><th>28</th><td>AIM/CGE</td><td>World</td><td>NDC</td><td>Energy Supply|Electricity|Geothermal</td><td>Billion US$2015/yr</td><td>1,832817875</td><td>1,8751837</td><td>2,1744348</td><td>2,5365145</td><td>1,0551509</td><td>1,452232</td><td>1,4357096</td><td>1,5973465</td><td>2,0356249</td><td>1,8387692</td><td>2,1721521</td><td>2,3399849</td><td>2,4443369</td><td>2,5508629</td><td>2,640323</td><td>2,7063039</td><td>2,9233778</td><td>3,0087073</td></tr><tr><th>29</th><td>AIM/CGE</td><td>World</td><td>NDC</td><td>Energy Supply|Electricity|Ocean</td><td>Billion US$2015/yr</td><td>0</td><td>0</td><td>0</td><td>0</td><td>0</td><td>0</td><td>0</td><td>0</td><td>0</td><td>0</td><td>0</td><td>0</td><td>0</td><td>0</td><td>0</td><td>0</td><td>0</td><td>0</td></tr><tr><th>30</th><td>AIM/CGE</td><td>World</td><td>NDC</td><td>Energy Supply|Electricity|Transmission and Distribution</td><td>Billion US$2015/yr</td><td>309,3682438</td><td>336,6412912</td><td>461,0622461</td><td>626,0758029</td><td>461,6316167</td><td>506,1195918</td><td>541,7189505</td><td>577,367659</td><td>643,4567155</td><td>581,5476088</td><td>622,1581462</td><td>670,6890004</td><td>697,3753939</td><td>720,3456605</td><td>733,0183413</td><td>741,0987732</td><td>836,9331499</td><td>864,2913094</td></tr><tr><th>&vellip;</th><td>&vellip;</td><td>&vellip;</td><td>&vellip;</td><td>&vellip;</td><td>&vellip;</td><td>&vellip;</td><td>&vellip;</td><td>&vellip;</td><td>&vellip;</td><td>&vellip;</td><td>&vellip;</td><td>&vellip;</td><td>&vellip;</td><td>&vellip;</td><td>&vellip;</td><td>&vellip;</td><td>&vellip;</td><td>&vellip;</td><td>&vellip;</td><td>&vellip;</td><td>&vellip;</td><td>&vellip;</td><td>&vellip;</td></tr></tbody></table>"
      ],
      "text/latex": [
       "\\begin{tabular}{r|ccccccccccccccccccccccc}\n",
       "\t& Model & Region & Scenario & Variable & Unit & 2015 & 2020 & 2025 & 2030 & 2035 & 2040 & 2045 & 2050 & 2055 & 2060 & 2065 & 2070 & 2075 & 2080 & 2085 & 2090 & 2095 & 2100\\\\\n",
       "\t\\hline\n",
       "\t& String & String & String & String & String & String & String & String & String & String & String & String & String & String & String & String & String & String & String & String & String & String & String\\\\\n",
       "\t\\hline\n",
       "\t1 & AIM/CGE & World & NDC & Total energy investment & Billion US\\$2015/yr & 1498,411185 & 1652,791319 & 1821,139647 & 2153,241344 & 2056,680559 & 2106,633862 & 2197,972365 & 2263,306421 & 2429,401987 & 2420,210658 & 2575,54707 & 2739,450221 & 2821,669361 & 2880,549318 & 2908,566979 & 2922,580382 & 3156,677084 & 3233,601351 \\\\\n",
       "\t2 & AIM/CGE & World & NDC & Total energy investment (supply side) & Billion US\\$2015/yr & 1277,411185 & 1423,544972 & 1573,088653 & 1877,732552 & 1760,601574 & 1797,980642 & 1880,188604 & 1938,937564 & 2100,116535 & 2087,077997 & 2239,013808 & 2399,194022 & 2477,557425 & 2532,722568 & 2557,00612 & 2567,145944 & 2797,563616 & 2870,919088 \\\\\n",
       "\t3 & AIM/CGE & World & NDC & Low carbon investment & Billion US\\$2015/yr & 477,2559814 & 526,5537738 & 726,4860956 & 1033,188425 & 895,4199211 & 990,2421361 & 1066,488303 & 1124,925082 & 1191,499856 & 1123,516709 & 1158,806657 & 1229,665305 & 1265,054301 & 1287,867201 & 1289,1726 & 1293,259812 & 1407,107443 & 1450,80473 \\\\\n",
       "\t4 & AIM/CGE & World & NDC & Low carbon investment (supply side) & Billion US\\$2015/yr & 256,2559814 & 297,3074269 & 478,4351017 & 757,6796324 & 599,3409359 & 681,5889163 & 748,7045418 & 800,5562241 & 862,2144042 & 790,384048 & 822,273395 & 889,4091065 & 920,9423645 & 940,0404502 & 937,6117404 & 937,825374 & 1047,993975 & 1088,122467 \\\\\n",
       "\t5 & AIM/CGE & World & NDC & Total\\_inv/GDP & -- & 2.40\\% & 2.23\\% & 2.12\\% & 2.20\\% & 1.87\\% & 1.72\\% & 1.62\\% & 1.53\\% & 1.50\\% & 1.38\\% & 1.35\\% & 1.33\\% & 1.27\\% & 1.20\\% & 1.13\\% & 1.06\\% & 1.07\\% & 1.03\\% \\\\\n",
       "\t6 & AIM/CGE & World & NDC & LC\\_inv/GDP & -- & 0.77\\% & 0.71\\% & 0.85\\% & 1.06\\% & 0.81\\% & 0.81\\% & 0.79\\% & 0.76\\% & 0.74\\% & 0.64\\% & 0.61\\% & 0.59\\% & 0.57\\% & 0.54\\% & 0.50\\% & 0.47\\% & 0.48\\% & 0.46\\% \\\\\n",
       "\t7 & AIM/CGE & World & NDC & Extraction and Conversion - Fossil Fuels & Billion US\\$2015/yr & 543,8002838 & 631,2278568 & 542,5892027 & 539,1277599 & 728,900894 & 709,7650199 & 705,5463729 & 680,0892677 & 684,8836986 & 790,4760743 & 843,7633144 & 892,1862295 & 905,1277254 & 904,0771399 & 899,2732521 & 886,9367804 & 910,5580513 & 920,5686691 \\\\\n",
       "\t8 & AIM/CGE & World & NDC & Electricity - Fossil Fuels w/o CCS & Billion US\\$2015/yr & 207,1841566 & 200,2934462 & 176,2125917 & 149,9228445 & 118,4400635 & 123,7345144 & 127,6001038 & 141,1879299 & 185,4968761 & 165,2879156 & 198,4592424 & 208,8562887 & 224,0770062 & 241,4225913 & 255,9701297 & 263,7754419 & 289,0090599 & 290,2688929 \\\\\n",
       "\t9 & AIM/CGE & World & NDC & Hydrogen - Fossil & Billion US\\$2015/yr & 0 & 0 & 0 & 0 & 0 & 0 & 0 & 0 & 0 & 0 & 0 & 0 & 0 & 0 & 0 & 0 & 0 & 0 \\\\\n",
       "\t10 & AIM/CGE & World & NDC & Electricity - Non-bio Renewables & Billion US\\$2015/yr & 125,6180952 & 150,6033065 & 247,8134991 & 392,9482173 & 270,9038792 & 304,5775087 & 329,2322992 & 343,4755863 & 352,1372371 & 309,2807403 & 321,5573183 & 359,0602314 & 369,5510858 & 373,376891 & 362,6143953 & 359,8615678 & 403,6686461 & 419,8402712 \\\\\n",
       "\t11 & AIM/CGE & World & NDC & Hydrogen - Non-fossil & Billion US\\$2015/yr & 0 & 0 & 0 & 0 & 0 & 0 & 0 & 0 & 0 & 0 & 0 & 0 & 0 & 0 & 0 & 0 & 0 & 0 \\\\\n",
       "\t12 & AIM/CGE & World & NDC & Extraction and Conversion - Bioenergy & Billion US\\$2015/yr & 15,62019 & 16,0530334 & 26,9055327 & 33,2081761 & 36,7974501 & 56,8894494 & 68,6410064 & 76,4882768 & 94,2656183 & 105,5305254 & 104,5758133 & 99,9394322 & 105,1255092 & 109,4597043 & 114,6170845 & 117,9334128 & 129,4261551 & 132,6907422 \\\\\n",
       "\t13 & AIM/CGE & World & NDC & Extraction and Conversion - Nuclear & Billion US\\$2015/yr & 75,82021575 & 88,72603754 & 117,3193381 & 124,4689455 & 115,2468495 & 74,42528957 & 79,88072528 & 87,96298433 & 113,5720765 & 112,4972778 & 128,5704807 & 144,0180582 & 151,8135292 & 160,5329015 & 169,2375693 & 176,8172915 & 204,3054333 & 215,3824359 \\\\\n",
       "\t14 & AIM/CGE & World & NDC & Electricity - T\\&D and Storage & Billion US\\$2015/yr & 309,3682438 & 336,6412912 & 461,0622461 & 626,0758029 & 468,5054786 & 516,8151283 & 563,3022051 & 605,5684609 & 665,2985674 & 600,6850047 & 638,7506577 & 692,0553985 & 719,0263686 & 741,4169381 & 753,1521901 & 759,8045214 & 857,1010218 & 886,9022138 \\\\\n",
       "\t15 & AIM/CGE & World & NDC & CCS & Billion US\\$2015/yr & 0 & 0 & 1,1862431 & 11,9808053 & 21,8069592 & 11,7737318 & 5,9858916 & 4,1650579 & 4,4624611 & 3,3204589 & 3,3369813 & 3,078384 & 2,8362004 & 2,4364018 & 2,1414987 & 2,0169285 & 3,4952485 & 5,2658628 \\\\\n",
       "\t16 & AIM/CGE & World & NDC & Energy Efficiency & Billion US\\$2015/yr & 221 & 229,2463469 & 248,050994 & 275,5087922 & 296,0789852 & 308,6532198 & 317,7837607 & 324,3688575 & 329,2854519 & 333,1326611 & 336,5332621 & 340,2561981 & 344,111936 & 347,8267505 & 351,5608592 & 355,4344378 & 359,1134678 & 362,6822627 \\\\\n",
       "\t17 & AIM/CGE & World & NDC & Energy Supply|Electricity|Coal|w/ CCS & Billion US\\$2015/yr & 0 & 0 & 0,3524054 & 1,9199681 & 4,9516111 & 5,0267228 & 2,676194 & 2,483795 & 2,9094642 & 2,5716246 & 2,8610927 & 2,6421709 & 2,3790082 & 1,9746442 & 1,6657188 & 1,5218 & 2,7244568 & 4,144731 \\\\\n",
       "\t18 & AIM/CGE & World & NDC & Energy Supply|Electricity|Coal|w/o CCS & Billion US\\$2015/yr & 83,89088268 & 95,7779614 & 42,0772265 & 41,1089269 & 47,3810256 & 48,2189939 & 49,3227337 & 53,0044027 & 65,4183775 & 70,2508534 & 92,9805669 & 97,6034692 & 111,563158 & 125,6012195 & 140,5444259 & 150,7132022 & 163,9910159 & 165,2694366 \\\\\n",
       "\t19 & AIM/CGE & World & NDC & Energy Supply|Electricity|Gas|w/ CCS & Billion US\\$2015/yr & 0 & 0 & 0,4327347 & 6,485042 & 9,6506034 & 4,3451738 & 2,3630293 & 1,120697 & 0,9977573 & 0,390233 & 0,1926164 & 0,1813116 & 0,1853335 & 0,1919642 & 0,190225 & 0,1842465 & 0,208704 & 0,4634968 \\\\\n",
       "\t20 & AIM/CGE & World & NDC & Energy Supply|Electricity|Gas|w/o CCS & Billion US\\$2015/yr & 100,0600892 & 84,2289125 & 116,8054329 & 93,2807963 & 54,1225996 & 58,309941 & 59,9840297 & 67,3857388 & 93,4954788 & 72,7976944 & 82,2412243 & 86,9756528 & 88,5574552 & 91,9618305 & 91,1321234 & 87,4476282 & 106,1265275 & 106,348819 \\\\\n",
       "\t21 & AIM/CGE & World & NDC & Energy Supply|Electricity|Oil|w/ CCS & Billion US\\$2015/yr & 0 & 0 & 0,1557671 & 1,3005955 & 3,3749176 & 1,3566847 & 0,8330768 & 0,4249083 & 0,3459921 & 0,1348967 & 0,0585893 & 0,052176 & 0,052176 & 0,0520673 & 0,0527195 & 0,0547848 & 0,0440235 & 0,1157655 \\\\\n",
       "\t22 & AIM/CGE & World & NDC & Energy Supply|Electricity|Biomass|w/ CCS & Billion US\\$2015/yr & 0 & 0 & 0 & 0,0564153 & 0,2277265 & 0,0854382 & 0,1019606 & 0,1329401 & 0,188051 & 0,2190305 & 0,201095 & 0,1915294 & 0,2016385 & 0,2090301 & 0,2153347 & 0,2199001 & 0,2569668 & 0,2570755 \\\\\n",
       "\t23 & AIM/CGE & World & NDC & Energy Supply|Electricity|Biomass|w/o CCS & Billion US\\$2015/yr & 9,365564825 & 7,1944182 & 12,4306059 & 19,8280757 & 23,9454143 & 39,3262469 & 48,2326901 & 57,8803586 & 77,2238497 & 85,3659145 & 84,3954409 & 78,9154391 & 82,7527665 & 85,8864788 & 89,9717509 & 92,6494667 & 104,5787482 & 106,3915381 \\\\\n",
       "\t24 & AIM/CGE & World & NDC & Energy Supply|Electricity|Nuclear & Billion US\\$2015/yr & 70,11375553 & 81,8089244 & 108,8308748 & 114,7242627 & 104,5777699 & 63,7767901 & 69,1974417 & 77,0784091 & 102,1123452 & 100,4467351 & 115,6952798 & 130,0578108 & 136,7434043 & 144,4237115 & 152,0920617 & 158,648737 & 184,9581589 & 194,5693042 \\\\\n",
       "\t25 & AIM/CGE & World & NDC & Energy Supply|Electricity|Hydro & Billion US\\$2015/yr & 95,58553523 & 103,6450152 & 100,4683664 & 104,4203723 & 91,7629095 & 57,2267455 & 60,7255811 & 63,8313575 & 79,8950435 & 77,0286245 & 88,9085562 & 102,3839865 & 107,9487743 & 109,968529 & 97,3356324 & 97,1004056 & 100,8178369 & 102,2850695 \\\\\n",
       "\t26 & AIM/CGE & World & NDC & Energy Supply|Electricity|Solar & Billion US\\$2015/yr & 13,34254455 & 21,9924014 & 62,9375174 & 108,6810862 & 74,1700319 & 115,2727629 & 126,7473523 & 133,8435057 & 129,3385429 & 110,3639796 & 108,954358 & 124,0655059 & 128,1896926 & 131,4097127 & 133,5702339 & 133,0627136 & 153,7348448 & 162,7618363 \\\\\n",
       "\t27 & AIM/CGE & World & NDC & Energy Supply|Electricity|Wind & Billion US\\$2015/yr & 14,67564135 & 22,9089598 & 81,8966453 & 176,9565345 & 103,5474026 & 130,4688055 & 140,1548451 & 143,99489 & 140,5510566 & 119,7162015 & 121,1721293 & 129,9033481 & 130,5830492 & 129,0434224 & 128,644276 & 126,5475617 & 145,726481 & 151,2959429 \\\\\n",
       "\t28 & AIM/CGE & World & NDC & Energy Supply|Electricity|Geothermal & Billion US\\$2015/yr & 1,832817875 & 1,8751837 & 2,1744348 & 2,5365145 & 1,0551509 & 1,452232 & 1,4357096 & 1,5973465 & 2,0356249 & 1,8387692 & 2,1721521 & 2,3399849 & 2,4443369 & 2,5508629 & 2,640323 & 2,7063039 & 2,9233778 & 3,0087073 \\\\\n",
       "\t29 & AIM/CGE & World & NDC & Energy Supply|Electricity|Ocean & Billion US\\$2015/yr & 0 & 0 & 0 & 0 & 0 & 0 & 0 & 0 & 0 & 0 & 0 & 0 & 0 & 0 & 0 & 0 & 0 & 0 \\\\\n",
       "\t30 & AIM/CGE & World & NDC & Energy Supply|Electricity|Transmission and Distribution & Billion US\\$2015/yr & 309,3682438 & 336,6412912 & 461,0622461 & 626,0758029 & 461,6316167 & 506,1195918 & 541,7189505 & 577,367659 & 643,4567155 & 581,5476088 & 622,1581462 & 670,6890004 & 697,3753939 & 720,3456605 & 733,0183413 & 741,0987732 & 836,9331499 & 864,2913094 \\\\\n",
       "\t$\\dots$ & $\\dots$ & $\\dots$ & $\\dots$ & $\\dots$ & $\\dots$ & $\\dots$ & $\\dots$ & $\\dots$ & $\\dots$ & $\\dots$ & $\\dots$ & $\\dots$ & $\\dots$ & $\\dots$ & $\\dots$ & $\\dots$ & $\\dots$ & $\\dots$ & $\\dots$ & $\\dots$ & $\\dots$ & $\\dots$ & $\\dots$ \\\\\n",
       "\\end{tabular}\n"
      ],
      "text/plain": [
       "558×23 DataFrame\n",
       "│ Row │ Model         │ Region │ Scenario │ Variable                                                │ Unit               │ 2015        │ 2020        │ 2025        │ 2030        │ 2035        │ 2040        │ 2045        │ 2050        │ 2055        │ 2060        │ 2065        │ 2070        │ 2075        │ 2080        │ 2085        │ 2090        │ 2095        │ 2100        │\n",
       "│     │ \u001b[90mString\u001b[39m        │ \u001b[90mString\u001b[39m │ \u001b[90mString\u001b[39m   │ \u001b[90mString\u001b[39m                                                  │ \u001b[90mString\u001b[39m             │ \u001b[90mString\u001b[39m      │ \u001b[90mString\u001b[39m      │ \u001b[90mString\u001b[39m      │ \u001b[90mString\u001b[39m      │ \u001b[90mString\u001b[39m      │ \u001b[90mString\u001b[39m      │ \u001b[90mString\u001b[39m      │ \u001b[90mString\u001b[39m      │ \u001b[90mString\u001b[39m      │ \u001b[90mString\u001b[39m      │ \u001b[90mString\u001b[39m      │ \u001b[90mString\u001b[39m      │ \u001b[90mString\u001b[39m      │ \u001b[90mString\u001b[39m      │ \u001b[90mString\u001b[39m      │ \u001b[90mString\u001b[39m      │ \u001b[90mString\u001b[39m      │ \u001b[90mString\u001b[39m      │\n",
       "├─────┼───────────────┼────────┼──────────┼─────────────────────────────────────────────────────────┼────────────────────┼─────────────┼─────────────┼─────────────┼─────────────┼─────────────┼─────────────┼─────────────┼─────────────┼─────────────┼─────────────┼─────────────┼─────────────┼─────────────┼─────────────┼─────────────┼─────────────┼─────────────┼─────────────┤\n",
       "│ 1   │ AIM/CGE       │ World  │ NDC      │ Total energy investment                                 │ Billion US$2015/yr │ 1498,411185 │ 1652,791319 │ 1821,139647 │ 2153,241344 │ 2056,680559 │ 2106,633862 │ 2197,972365 │ 2263,306421 │ 2429,401987 │ 2420,210658 │ 2575,54707  │ 2739,450221 │ 2821,669361 │ 2880,549318 │ 2908,566979 │ 2922,580382 │ 3156,677084 │ 3233,601351 │\n",
       "│ 2   │ AIM/CGE       │ World  │ NDC      │ Total energy investment (supply side)                   │ Billion US$2015/yr │ 1277,411185 │ 1423,544972 │ 1573,088653 │ 1877,732552 │ 1760,601574 │ 1797,980642 │ 1880,188604 │ 1938,937564 │ 2100,116535 │ 2087,077997 │ 2239,013808 │ 2399,194022 │ 2477,557425 │ 2532,722568 │ 2557,00612  │ 2567,145944 │ 2797,563616 │ 2870,919088 │\n",
       "│ 3   │ AIM/CGE       │ World  │ NDC      │ Low carbon investment                                   │ Billion US$2015/yr │ 477,2559814 │ 526,5537738 │ 726,4860956 │ 1033,188425 │ 895,4199211 │ 990,2421361 │ 1066,488303 │ 1124,925082 │ 1191,499856 │ 1123,516709 │ 1158,806657 │ 1229,665305 │ 1265,054301 │ 1287,867201 │ 1289,1726   │ 1293,259812 │ 1407,107443 │ 1450,80473  │\n",
       "│ 4   │ AIM/CGE       │ World  │ NDC      │ Low carbon investment (supply side)                     │ Billion US$2015/yr │ 256,2559814 │ 297,3074269 │ 478,4351017 │ 757,6796324 │ 599,3409359 │ 681,5889163 │ 748,7045418 │ 800,5562241 │ 862,2144042 │ 790,384048  │ 822,273395  │ 889,4091065 │ 920,9423645 │ 940,0404502 │ 937,6117404 │ 937,825374  │ 1047,993975 │ 1088,122467 │\n",
       "│ 5   │ AIM/CGE       │ World  │ NDC      │ Total_inv/GDP                                           │ --                 │ 2.40%       │ 2.23%       │ 2.12%       │ 2.20%       │ 1.87%       │ 1.72%       │ 1.62%       │ 1.53%       │ 1.50%       │ 1.38%       │ 1.35%       │ 1.33%       │ 1.27%       │ 1.20%       │ 1.13%       │ 1.06%       │ 1.07%       │ 1.03%       │\n",
       "│ 6   │ AIM/CGE       │ World  │ NDC      │ LC_inv/GDP                                              │ --                 │ 0.77%       │ 0.71%       │ 0.85%       │ 1.06%       │ 0.81%       │ 0.81%       │ 0.79%       │ 0.76%       │ 0.74%       │ 0.64%       │ 0.61%       │ 0.59%       │ 0.57%       │ 0.54%       │ 0.50%       │ 0.47%       │ 0.48%       │ 0.46%       │\n",
       "│ 7   │ AIM/CGE       │ World  │ NDC      │ Extraction and Conversion - Fossil Fuels                │ Billion US$2015/yr │ 543,8002838 │ 631,2278568 │ 542,5892027 │ 539,1277599 │ 728,900894  │ 709,7650199 │ 705,5463729 │ 680,0892677 │ 684,8836986 │ 790,4760743 │ 843,7633144 │ 892,1862295 │ 905,1277254 │ 904,0771399 │ 899,2732521 │ 886,9367804 │ 910,5580513 │ 920,5686691 │\n",
       "│ 8   │ AIM/CGE       │ World  │ NDC      │ Electricity - Fossil Fuels w/o CCS                      │ Billion US$2015/yr │ 207,1841566 │ 200,2934462 │ 176,2125917 │ 149,9228445 │ 118,4400635 │ 123,7345144 │ 127,6001038 │ 141,1879299 │ 185,4968761 │ 165,2879156 │ 198,4592424 │ 208,8562887 │ 224,0770062 │ 241,4225913 │ 255,9701297 │ 263,7754419 │ 289,0090599 │ 290,2688929 │\n",
       "│ 9   │ AIM/CGE       │ World  │ NDC      │ Hydrogen - Fossil                                       │ Billion US$2015/yr │ 0           │ 0           │ 0           │ 0           │ 0           │ 0           │ 0           │ 0           │ 0           │ 0           │ 0           │ 0           │ 0           │ 0           │ 0           │ 0           │ 0           │ 0           │\n",
       "│ 10  │ AIM/CGE       │ World  │ NDC      │ Electricity - Non-bio Renewables                        │ Billion US$2015/yr │ 125,6180952 │ 150,6033065 │ 247,8134991 │ 392,9482173 │ 270,9038792 │ 304,5775087 │ 329,2322992 │ 343,4755863 │ 352,1372371 │ 309,2807403 │ 321,5573183 │ 359,0602314 │ 369,5510858 │ 373,376891  │ 362,6143953 │ 359,8615678 │ 403,6686461 │ 419,8402712 │\n",
       "⋮\n",
       "│ 548 │ WITCH-GLOBIOM │ World  │ 1.5C     │ Energy Supply|Electricity|Oil|w/ CCS                    │ Billion US$2015/yr │ 0           │ 0           │ 0           │ 0           │ 0           │ 0           │ 0           │ 0           │ 0           │ 0           │ 0           │ 0           │ 0           │ 0           │ 0           │ 0           │ 0           │ 0           │\n",
       "│ 549 │ WITCH-GLOBIOM │ World  │ 1.5C     │ Energy Supply|Electricity|Biomass|w/ CCS                │ Billion US$2015/yr │ 0,032279431 │ 21,37689306 │ 45,95426467 │ 76,72825993 │ 110,9938582 │ 135,9691198 │ 154,2850847 │ 179,5389787 │ 219,7572453 │ 259,9755118 │ 279,6791132 │ 299,3827147 │ 371,1223768 │ 442,862039  │ 357,2014129 │ 271,5407868 │ 349,7483572 │ 427,9559276 │\n",
       "│ 550 │ WITCH-GLOBIOM │ World  │ 1.5C     │ Energy Supply|Electricity|Biomass|w/o CCS               │ Billion US$2015/yr │ 15,57309633 │ 52,52107277 │ 0,851722889 │ 0,001565347 │ 0,001565347 │ 0,001565347 │ 0,001565347 │ 0,098589888 │ 0,148384345 │ 0,198178801 │ 0,099872074 │ 0,001565347 │ 0,001565347 │ 0,001565347 │ 0,001565347 │ 0,001565347 │ 0,001565347 │ 0,001565347 │\n",
       "│ 551 │ WITCH-GLOBIOM │ World  │ 1.5C     │ Energy Supply|Electricity|Nuclear                       │ Billion US$2015/yr │ 127,7688534 │ 274,7779598 │ 424,1162757 │ 18,14949482 │ 1,308855619 │ 2,906489905 │ 8,962105002 │ 19,9299998  │ 42,06342861 │ 64,19685741 │ 84,58771962 │ 104,9785818 │ 120,8321897 │ 136,6857976 │ 155,5308837 │ 174,3759698 │ 185,50639   │ 196,6368103 │\n",
       "│ 552 │ WITCH-GLOBIOM │ World  │ 1.5C     │ Energy Supply|Electricity|Hydro                         │ Billion US$2015/yr │ 174,6536044 │ 132,1127636 │ 132,1127636 │ 132,1127636 │ 132,1127636 │ 132,1127636 │ 132,1127636 │ 132,1127636 │ 132,1127636 │ 132,1127636 │ 132,1127636 │ 132,1127636 │ 132,1127636 │ 132,1127636 │ 132,1127636 │ 132,1127636 │ 132,1127636 │ 132,1127636 │\n",
       "│ 553 │ WITCH-GLOBIOM │ World  │ 1.5C     │ Energy Supply|Electricity|Solar                         │ Billion US$2015/yr │ 109,8837468 │ 192,9579318 │ 216,1610727 │ 367,1512375 │ 389,3630896 │ 393,1300847 │ 374,8117577 │ 451,2932318 │ 458,6231534 │ 465,953075  │ 493,0279977 │ 520,1029205 │ 532,8971128 │ 545,6913052 │ 562,1915037 │ 578,6917022 │ 589,4651515 │ 600,2386009 │\n",
       "│ 554 │ WITCH-GLOBIOM │ World  │ 1.5C     │ Energy Supply|Electricity|Wind                          │ Billion US$2015/yr │ 93,51146332 │ 106,7999912 │ 125,8227642 │ 166,2786161 │ 277,4579275 │ 434,8799396 │ 603,0594494 │ 564,6344476 │ 541,3444739 │ 518,0545002 │ 543,986001  │ 569,9175018 │ 604,6733215 │ 639,4291413 │ 674,65481   │ 709,8804787 │ 715,3889242 │ 720,8973697 │\n",
       "│ 555 │ WITCH-GLOBIOM │ World  │ 1.5C     │ Energy Supply|Electricity|Geothermal                    │ Billion US$2015/yr │ 0           │ 0           │ 0           │ 0           │ 0           │ 0           │ 0           │ 0           │ 0           │ 0           │ 0           │ 0           │ 0           │ 0           │ 0           │ 0           │ 0           │ 0           │\n",
       "│ 556 │ WITCH-GLOBIOM │ World  │ 1.5C     │ Energy Supply|Electricity|Ocean                         │ Billion US$2015/yr │ 0           │ 0           │ 0           │ 0           │ 0           │ 0           │ 0           │ 0           │ 0           │ 0           │ 0           │ 0           │ 0           │ 0           │ 0           │ 0           │ 0           │ 0           │\n",
       "│ 557 │ WITCH-GLOBIOM │ World  │ 1.5C     │ Energy Supply|Electricity|Transmission and Distribution │ Billion US$2015/yr │ 190,344942  │ 199,2271589 │ 232,3401381 │ 287,8418635 │ 362,9300652 │ 500,7769698 │ 675,2662568 │ 729,4685915 │ 762,5155633 │ 795,562535  │ 874,0930421 │ 952,6235493 │ 1003,002378 │ 1053,381206 │ 1137,895257 │ 1222,409307 │ 1272,004904 │ 1321,6005   │\n",
       "│ 558 │ WITCH-GLOBIOM │ World  │ 1.5C     │ Energy Supply|Electricity|Electricity Storage           │ Billion US$2015/yr │ 0,001565347 │ 0,001565347 │ 8,064937858 │ 24,58241453 │ 96,84285981 │ 212,9947303 │ 387,7481456 │ 424,4472577 │ 420,3876344 │ 416,3280111 │ 427,3040863 │ 438,2801615 │ 452,5051961 │ 466,7302307 │ 460,4543732 │ 454,1785158 │ 499,0321249 │ 543,885734  │"
      ]
     },
     "execution_count": 170,
     "metadata": {},
     "output_type": "execute_result"
    }
   ],
   "source": [
    "function included(d)\n",
    "    return in(d[:Model], MODELS) && in(d[:Region], REGIONS) && in(d[:Scenario], SCENARIOS)\n",
    "end\n",
    "\n",
    "datum = filter(included, scenarioRuns)"
   ]
  },
  {
   "cell_type": "code",
   "execution_count": 97,
   "metadata": {},
   "outputs": [
    {
     "data": {
      "text/plain": [
       "31-element Array{String,1}:\n",
       " \"Total energy investment\"                                \n",
       " \"Total energy investment (supply side)\"                  \n",
       " \"Low carbon investment\"                                  \n",
       " \"Low carbon investment (supply side)\"                    \n",
       " \"Total_inv/GDP\"                                          \n",
       " \"LC_inv/GDP\"                                             \n",
       " \"Extraction and Conversion - Fossil Fuels\"               \n",
       " \"Electricity - Fossil Fuels w/o CCS\"                     \n",
       " \"Hydrogen - Fossil\"                                      \n",
       " \"Electricity - Non-bio Renewables\"                       \n",
       " \"Hydrogen - Non-fossil\"                                  \n",
       " \"Extraction and Conversion - Bioenergy\"                  \n",
       " \"Extraction and Conversion - Nuclear\"                    \n",
       " ⋮                                                        \n",
       " \"Energy Supply|Electricity|Gas|w/o CCS\"                  \n",
       " \"Energy Supply|Electricity|Oil|w/ CCS\"                   \n",
       " \"Energy Supply|Electricity|Biomass|w/ CCS\"               \n",
       " \"Energy Supply|Electricity|Biomass|w/o CCS\"              \n",
       " \"Energy Supply|Electricity|Nuclear\"                      \n",
       " \"Energy Supply|Electricity|Hydro\"                        \n",
       " \"Energy Supply|Electricity|Solar\"                        \n",
       " \"Energy Supply|Electricity|Wind\"                         \n",
       " \"Energy Supply|Electricity|Geothermal\"                   \n",
       " \"Energy Supply|Electricity|Ocean\"                        \n",
       " \"Energy Supply|Electricity|Transmission and Distribution\"\n",
       " \"Energy Supply|Electricity|Electricity Storage\"          "
      ]
     },
     "execution_count": 97,
     "metadata": {},
     "output_type": "execute_result"
    }
   ],
   "source": [
    "unique(datum[!,:Variable])"
   ]
  },
  {
   "cell_type": "markdown",
   "metadata": {},
   "source": [
    "## Prepare functions\n",
    "\n",
    "### Summing up values\n",
    "\n",
    "Each year has it own column in the source data and we want to sum it up as one value.\n",
    "Additionally, we need to parse the value and convert it from German notation to English."
   ]
  },
  {
   "cell_type": "code",
   "execution_count": 140,
   "metadata": {},
   "outputs": [
    {
     "data": {
      "text/plain": [
       "(2025, 2030, 2035, 2040, 2045, 2050)"
      ]
     },
     "execution_count": 140,
     "metadata": {},
     "output_type": "execute_result"
    }
   ],
   "source": [
    "NEAR_TERM_YEARS = (2025, 2030)\n",
    "MEDIUM_TERM_YEARS = (2025, 2030, 2035, 2040, 2045, 2050)"
   ]
  },
  {
   "cell_type": "markdown",
   "metadata": {},
   "source": [
    "To get a value in a DataFrame we use [x, y], where `x` is the row number and `y` the cell id. This would usually look something like `[1, :Region]`, but in this special case the id of the column is a `Symbol` with the name of the year. So we use `Symbol(year)`."
   ]
  },
  {
   "cell_type": "code",
   "execution_count": null,
   "metadata": {},
   "outputs": [],
   "source": []
  },
  {
   "cell_type": "markdown",
   "metadata": {},
   "source": [
    "### GetValues\n",
    "This function finds the rows in the DataFrame, gets every value and calculates the average.\n",
    "\n",
    "First, we create an empty Dictionary with `Strings` as keys and `Float64` as numbers.\n",
    "We loop over the `MODELS` and search for each row with the current model.\n",
    "If we found one, we summarise the years and add the result to the Dictionary\n",
    "\n",
    "After the loop, we get the values of the dictionary and calculate the mean value."
   ]
  },
  {
   "cell_type": "code",
   "execution_count": 176,
   "metadata": {},
   "outputs": [
    {
     "data": {
      "text/plain": [
       "getValues (generic function with 1 method)"
      ]
     },
     "execution_count": 176,
     "metadata": {},
     "output_type": "execute_result"
    }
   ],
   "source": [
    "function getValues(scenario, variable, region)\n",
    "    dict = Dict{String, Float64}()\n",
    "    \n",
    "    for model in MODELS\n",
    "        if (haskey(SCENARIO_VARIABLE_MAPPING, variable)) # Some variables have different names in the scenario data so we map the keys to the corresponding ones.\n",
    "            dict[model] = findScenarioData(scenario, SCENARIO_VARIABLE_MAPPING[variable], region, model)\n",
    "#        elseif (variable === \"Oil and Gas\") # Some variables need to be specificly calculated\n",
    "#            oil = findScenarioData(scenario, \"Extraction and Conversion - Fossil Fuels\", region, model)\n",
    "#            gas1 = findScenarioData(scenario, \"Energy Supply|Electricity|Gas|w/ CCS\", region, model)\n",
    "#            gas2 = findScenarioData(scenario, \"Energy Supply|Electricity|Gas|w/o CCS\", region, model)\n",
    "#            dict[model] = oil + gas1 + gas2\n",
    "        elseif (variable === \"Oil and Gas extraction\") # Some variables need to be specificly calculated\n",
    "            dict[model] = findScenarioData(scenario, \"Extraction and Conversion - Fossil Fuels\", region, model) * 0.9\n",
    "        elseif (variable === \"Coal extraction\") # Some variables need to be specificly calculated\n",
    "            dict[model] = findScenarioData(scenario, \"Extraction and Conversion - Fossil Fuels\", region, model) * 0.1\n",
    "        elseif (variable === \"other renewables\") # Some variables need to be specificly calculated\n",
    "            hydro = findScenarioData(scenario, \"Energy Supply|Electricity|Hydro\", region, model)\n",
    "            ocean = findScenarioData(scenario, \"Energy Supply|Electricity|Ocean\", region, model)\n",
    "            geo = findScenarioData(scenario, \"Energy Supply|Electricity|Geothermal\", region, model)\n",
    "            dict[model] = hydro + ocean + geo\n",
    "        else # Some variables are the same as in the historic data set\n",
    "            dict[model] = findScenarioData(scenario, variable, region, model)\n",
    "        end\n",
    "        dict[model] = round(dict[model], digits=3)\n",
    "    end\n",
    "    \n",
    "    dict[\"average\"] = round(median(values(dict)), digits=3) # We calculate the average by simply getting the median of all values\n",
    "    dict[\"max\"] = maximum(values(dict)) # We calculate the maximum value from all values\n",
    "    return dict\n",
    "end"
   ]
  },
  {
   "cell_type": "code",
   "execution_count": 131,
   "metadata": {},
   "outputs": [
    {
     "data": {
      "text/plain": [
       "Dict{String,Float64} with 7 entries:\n",
       "  \"average\"           => 0.248\n",
       "  \"POLES\"             => 0.0\n",
       "  \"max\"               => 1.241\n",
       "  \"REMIND-MAgPIE\"     => 0.0\n",
       "  \"AIM/CGE\"           => 1.241\n",
       "  \"IMAGE\"             => 0.001\n",
       "  \"MESSAGEix-GLOBIOM\" => 0.0"
      ]
     },
     "execution_count": 131,
     "metadata": {},
     "output_type": "execute_result"
    }
   ],
   "source": [
    "getValues(\"NDC\", \"Energy Supply|Electricity|Oil|w/ CCS\", \"World\")"
   ]
  },
  {
   "cell_type": "code",
   "execution_count": 124,
   "metadata": {},
   "outputs": [
    {
     "data": {
      "text/plain": [
       "1000"
      ]
     },
     "execution_count": 124,
     "metadata": {},
     "output_type": "execute_result"
    }
   ],
   "source": [
    "ENV[\"COLUMNS\"] = 1000"
   ]
  },
  {
   "cell_type": "code",
   "execution_count": 125,
   "metadata": {},
   "outputs": [
    {
     "data": {
      "text/html": [
       "<table class=\"data-frame\"><thead><tr><th></th><th>Model</th><th>Region</th><th>Scenario</th><th>Variable</th><th>Unit</th><th>2015</th><th>2020</th><th>2025</th><th>2030</th><th>2035</th><th>2040</th><th>2045</th><th>2050</th><th>2055</th><th>2060</th><th>2065</th><th>2070</th><th>2075</th><th>2080</th><th>2085</th><th>2090</th><th>2095</th><th>2100</th></tr><tr><th></th><th>String</th><th>String</th><th>String</th><th>String</th><th>String</th><th>String</th><th>String</th><th>String</th><th>String</th><th>String</th><th>String</th><th>String</th><th>String</th><th>String</th><th>String</th><th>String</th><th>String</th><th>String</th><th>String</th><th>String</th><th>String</th><th>String</th><th>String</th></tr></thead><tbody><p>5 rows × 23 columns</p><tr><th>1</th><td>AIM/CGE</td><td>World</td><td>NDC</td><td>Energy Supply|Electricity|Oil|w/ CCS</td><td>Billion US$2015/yr</td><td>0</td><td>0</td><td>0,1557671</td><td>1,3005955</td><td>3,3749176</td><td>1,3566847</td><td>0,8330768</td><td>0,4249083</td><td>0,3459921</td><td>0,1348967</td><td>0,0585893</td><td>0,052176</td><td>0,052176</td><td>0,0520673</td><td>0,0527195</td><td>0,0547848</td><td>0,0440235</td><td>0,1157655</td></tr><tr><th>2</th><td>IMAGE</td><td>World</td><td>NDC</td><td>Energy Supply|Electricity|Oil|w/ CCS</td><td>Billion US$2015/yr</td><td>0,002757331</td><td>0,014806188</td><td>0,003778691</td><td>1,83294E-06</td><td>1,83294E-06</td><td>0</td><td>0</td><td>0</td><td>0</td><td>0</td><td>0</td><td>0</td><td>0</td><td>0</td><td>0</td><td>0</td><td>0</td><td>0</td></tr><tr><th>3</th><td>MESSAGEix-GLOBIOM</td><td>World</td><td>NDC</td><td>Energy Supply|Electricity|Oil|w/ CCS</td><td>Billion US$2015/yr</td><td>0</td><td>0</td><td>0</td><td>0</td><td>0</td><td>0</td><td>0</td><td>0</td><td>0</td><td>0</td><td>0</td><td>0</td><td>0</td><td>0</td><td>0</td><td>0</td><td>0</td><td>0</td></tr><tr><th>4</th><td>POLES</td><td>World</td><td>NDC</td><td>Energy Supply|Electricity|Oil|w/ CCS</td><td>Billion US$2015/yr</td><td>0</td><td>0</td><td>0</td><td>0</td><td>0</td><td>0</td><td>0</td><td>0</td><td>0</td><td>0</td><td>0</td><td>0</td><td>0</td><td>0</td><td>0</td><td>0</td><td>0</td><td>0</td></tr><tr><th>5</th><td>REMIND-MAgPIE</td><td>World</td><td>NDC</td><td>Energy Supply|Electricity|Oil|w/ CCS</td><td>Billion US$2015/yr</td><td>0</td><td>0</td><td>0</td><td>0</td><td>0</td><td>0</td><td>0</td><td>0</td><td>0</td><td>0</td><td>0</td><td>0</td><td>0</td><td>0</td><td>0</td><td>0</td><td>0</td><td>0</td></tr></tbody></table>"
      ],
      "text/latex": [
       "\\begin{tabular}{r|ccccccccccccccccccccccc}\n",
       "\t& Model & Region & Scenario & Variable & Unit & 2015 & 2020 & 2025 & 2030 & 2035 & 2040 & 2045 & 2050 & 2055 & 2060 & 2065 & 2070 & 2075 & 2080 & 2085 & 2090 & 2095 & 2100\\\\\n",
       "\t\\hline\n",
       "\t& String & String & String & String & String & String & String & String & String & String & String & String & String & String & String & String & String & String & String & String & String & String & String\\\\\n",
       "\t\\hline\n",
       "\t1 & AIM/CGE & World & NDC & Energy Supply|Electricity|Oil|w/ CCS & Billion US\\$2015/yr & 0 & 0 & 0,1557671 & 1,3005955 & 3,3749176 & 1,3566847 & 0,8330768 & 0,4249083 & 0,3459921 & 0,1348967 & 0,0585893 & 0,052176 & 0,052176 & 0,0520673 & 0,0527195 & 0,0547848 & 0,0440235 & 0,1157655 \\\\\n",
       "\t2 & IMAGE & World & NDC & Energy Supply|Electricity|Oil|w/ CCS & Billion US\\$2015/yr & 0,002757331 & 0,014806188 & 0,003778691 & 1,83294E-06 & 1,83294E-06 & 0 & 0 & 0 & 0 & 0 & 0 & 0 & 0 & 0 & 0 & 0 & 0 & 0 \\\\\n",
       "\t3 & MESSAGEix-GLOBIOM & World & NDC & Energy Supply|Electricity|Oil|w/ CCS & Billion US\\$2015/yr & 0 & 0 & 0 & 0 & 0 & 0 & 0 & 0 & 0 & 0 & 0 & 0 & 0 & 0 & 0 & 0 & 0 & 0 \\\\\n",
       "\t4 & POLES & World & NDC & Energy Supply|Electricity|Oil|w/ CCS & Billion US\\$2015/yr & 0 & 0 & 0 & 0 & 0 & 0 & 0 & 0 & 0 & 0 & 0 & 0 & 0 & 0 & 0 & 0 & 0 & 0 \\\\\n",
       "\t5 & REMIND-MAgPIE & World & NDC & Energy Supply|Electricity|Oil|w/ CCS & Billion US\\$2015/yr & 0 & 0 & 0 & 0 & 0 & 0 & 0 & 0 & 0 & 0 & 0 & 0 & 0 & 0 & 0 & 0 & 0 & 0 \\\\\n",
       "\\end{tabular}\n"
      ],
      "text/plain": [
       "5×23 DataFrame\n",
       "│ Row │ Model             │ Region │ Scenario │ Variable                             │ Unit               │ 2015        │ 2020        │ 2025        │ 2030        │ 2035        │ 2040      │ 2045      │ 2050      │ 2055      │ 2060      │ 2065      │ 2070     │ 2075     │ 2080      │ 2085      │ 2090      │ 2095      │ 2100      │\n",
       "│     │ \u001b[90mString\u001b[39m            │ \u001b[90mString\u001b[39m │ \u001b[90mString\u001b[39m   │ \u001b[90mString\u001b[39m                               │ \u001b[90mString\u001b[39m             │ \u001b[90mString\u001b[39m      │ \u001b[90mString\u001b[39m      │ \u001b[90mString\u001b[39m      │ \u001b[90mString\u001b[39m      │ \u001b[90mString\u001b[39m      │ \u001b[90mString\u001b[39m    │ \u001b[90mString\u001b[39m    │ \u001b[90mString\u001b[39m    │ \u001b[90mString\u001b[39m    │ \u001b[90mString\u001b[39m    │ \u001b[90mString\u001b[39m    │ \u001b[90mString\u001b[39m   │ \u001b[90mString\u001b[39m   │ \u001b[90mString\u001b[39m    │ \u001b[90mString\u001b[39m    │ \u001b[90mString\u001b[39m    │ \u001b[90mString\u001b[39m    │ \u001b[90mString\u001b[39m    │\n",
       "├─────┼───────────────────┼────────┼──────────┼──────────────────────────────────────┼────────────────────┼─────────────┼─────────────┼─────────────┼─────────────┼─────────────┼───────────┼───────────┼───────────┼───────────┼───────────┼───────────┼──────────┼──────────┼───────────┼───────────┼───────────┼───────────┼───────────┤\n",
       "│ 1   │ AIM/CGE           │ World  │ NDC      │ Energy Supply|Electricity|Oil|w/ CCS │ Billion US$2015/yr │ 0           │ 0           │ 0,1557671   │ 1,3005955   │ 3,3749176   │ 1,3566847 │ 0,8330768 │ 0,4249083 │ 0,3459921 │ 0,1348967 │ 0,0585893 │ 0,052176 │ 0,052176 │ 0,0520673 │ 0,0527195 │ 0,0547848 │ 0,0440235 │ 0,1157655 │\n",
       "│ 2   │ IMAGE             │ World  │ NDC      │ Energy Supply|Electricity|Oil|w/ CCS │ Billion US$2015/yr │ 0,002757331 │ 0,014806188 │ 0,003778691 │ 1,83294E-06 │ 1,83294E-06 │ 0         │ 0         │ 0         │ 0         │ 0         │ 0         │ 0        │ 0        │ 0         │ 0         │ 0         │ 0         │ 0         │\n",
       "│ 3   │ MESSAGEix-GLOBIOM │ World  │ NDC      │ Energy Supply|Electricity|Oil|w/ CCS │ Billion US$2015/yr │ 0           │ 0           │ 0           │ 0           │ 0           │ 0         │ 0         │ 0         │ 0         │ 0         │ 0         │ 0        │ 0        │ 0         │ 0         │ 0         │ 0         │ 0         │\n",
       "│ 4   │ POLES             │ World  │ NDC      │ Energy Supply|Electricity|Oil|w/ CCS │ Billion US$2015/yr │ 0           │ 0           │ 0           │ 0           │ 0           │ 0         │ 0         │ 0         │ 0         │ 0         │ 0         │ 0        │ 0        │ 0         │ 0         │ 0         │ 0         │ 0         │\n",
       "│ 5   │ REMIND-MAgPIE     │ World  │ NDC      │ Energy Supply|Electricity|Oil|w/ CCS │ Billion US$2015/yr │ 0           │ 0           │ 0           │ 0           │ 0           │ 0         │ 0         │ 0         │ 0         │ 0         │ 0         │ 0        │ 0        │ 0         │ 0         │ 0         │ 0         │ 0         │"
      ]
     },
     "execution_count": 125,
     "metadata": {},
     "output_type": "execute_result"
    }
   ],
   "source": [
    "row = filter(row -> row[:Scenario] == \"NDC\" && row[:Region] == \"World\" && row[:Variable] == \"Energy Supply|Electricity|Oil|w/ CCS\", datum)"
   ]
  },
  {
   "cell_type": "markdown",
   "metadata": {},
   "source": [
    "### Filter function\n",
    "The filter function takes two parameter: a function returning true or false for each item; and a list of items."
   ]
  },
  {
   "cell_type": "code",
   "execution_count": 153,
   "metadata": {},
   "outputs": [
    {
     "data": {
      "text/plain": [
       "findScenarioData (generic function with 1 method)"
      ]
     },
     "execution_count": 153,
     "metadata": {},
     "output_type": "execute_result"
    }
   ],
   "source": [
    "function findScenarioData(scenario, variable, region, model)\n",
    "    row = filter(row -> row[:Scenario] == scenario && row[:Region] == region && row[:Variable] == variable && row[:Model] == model, datum)\n",
    "    if (size(row, 1) > 0)\n",
    "        return averageYears(row, MEDIUM_TERM_YEARS)\n",
    "    else\n",
    "        println(\"$variable in $region for $model and $scenario was not found in scenario data. Maybe variable name or region is spelled differently in the data set. Will use 0 as value.\")\n",
    "        return 0\n",
    "    end\n",
    "end"
   ]
  },
  {
   "cell_type": "code",
   "execution_count": 118,
   "metadata": {},
   "outputs": [
    {
     "data": {
      "text/plain": [
       "1.241"
      ]
     },
     "execution_count": 118,
     "metadata": {},
     "output_type": "execute_result"
    }
   ],
   "source": [
    "begin\n",
    "    findScenarioData(\"NDC\", \"Energy Supply|Electricity|Oil|w/ CCS\", \"World\", \"AIM/CGE\")\n",
    "end"
   ]
  },
  {
   "cell_type": "markdown",
   "metadata": {},
   "source": [
    "### Calculating the change\n",
    "\n",
    "Function to calculate the change between two values.\n",
    "We calculate the absolute change and if its positive or negative. This makes it easier to process later."
   ]
  },
  {
   "cell_type": "code",
   "execution_count": 179,
   "metadata": {},
   "outputs": [
    {
     "data": {
      "text/plain": [
       "calcChange (generic function with 1 method)"
      ]
     },
     "execution_count": 179,
     "metadata": {},
     "output_type": "execute_result"
    }
   ],
   "source": [
    "function calcChange(reference, value)\n",
    "    if (reference === value)\n",
    "       return (0, true) \n",
    "    end\n",
    "    ref = reference === 0.0 ? 1 : reference # In order to prevent the value from being Infinity, we change the value to 1 if it is 0\n",
    "    change = round(abs(ref - value) / ref, digits = 3)\n",
    "    # change = round(abs(reference - value) / max(reference, value), digits=3)\n",
    "    isPositive = ref <= value\n",
    "\n",
    "    return (change, isPositive) # We limit the change to 200 percent\n",
    "end"
   ]
  },
  {
   "cell_type": "markdown",
   "metadata": {},
   "source": [
    "### Calculating the changes\n",
    "\n",
    "This function iterates over all values, gets its refeference value and saves the change in the dictionary."
   ]
  },
  {
   "cell_type": "code",
   "execution_count": 103,
   "metadata": {},
   "outputs": [
    {
     "data": {
      "text/plain": [
       "calcChanges (generic function with 1 method)"
      ]
     },
     "execution_count": 103,
     "metadata": {},
     "output_type": "execute_result"
    }
   ],
   "source": [
    "function calcChanges(vals, refs)\n",
    "    changes = Dict{String, Any}()\n",
    "    ref = refs[\"average\"]\n",
    "    for (key, val) in vals\n",
    "        changes[key] = calcChange(ref, val)\n",
    "    end\n",
    "    changes\n",
    "end"
   ]
  },
  {
   "cell_type": "markdown",
   "metadata": {},
   "source": [
    "## Build the final data set\n",
    "\n",
    "Finally, we loop over all scenarios, variables and regions and calculate everything."
   ]
  },
  {
   "cell_type": "code",
   "execution_count": 180,
   "metadata": {},
   "outputs": [
    {
     "name": "stdout",
     "output_type": "stream",
     "text": [
      "Hydrogen - Fossil in World was not found in historic data. Maybe variable name or region is spelled differently in the data set. Will use 0 as value.\n",
      "Hydrogen - Non-fossil in World was not found in historic data. Maybe variable name or region is spelled differently in the data set. Will use 0 as value.\n",
      "CCS in World was not found in historic data. Maybe variable name or region is spelled differently in the data set. Will use 0 as value.\n",
      "Hydrogen - Fossil in World was not found in historic data. Maybe variable name or region is spelled differently in the data set. Will use 0 as value.\n",
      "Hydrogen - Non-fossil in World was not found in historic data. Maybe variable name or region is spelled differently in the data set. Will use 0 as value.\n",
      "CCS in World was not found in historic data. Maybe variable name or region is spelled differently in the data set. Will use 0 as value.\n",
      "Hydrogen - Fossil in World was not found in historic data. Maybe variable name or region is spelled differently in the data set. Will use 0 as value.\n",
      "Hydrogen - Non-fossil in World was not found in historic data. Maybe variable name or region is spelled differently in the data set. Will use 0 as value.\n",
      "CCS in World was not found in historic data. Maybe variable name or region is spelled differently in the data set. Will use 0 as value.\n",
      "Hydrogen - Fossil in World was not found in historic data. Maybe variable name or region is spelled differently in the data set. Will use 0 as value.\n",
      "Hydrogen - Non-fossil in World was not found in historic data. Maybe variable name or region is spelled differently in the data set. Will use 0 as value.\n",
      "CCS in World was not found in historic data. Maybe variable name or region is spelled differently in the data set. Will use 0 as value.\n"
     ]
    }
   ],
   "source": [
    "runs = []\n",
    "\n",
    "for scenario in SCENARIOS\n",
    "    for variable in VARIABLES\n",
    "        for region in REGIONS\n",
    "            if (scenario == \"historic\")\n",
    "                vals = getHistoricData(variable, region)\n",
    "                refs = vals\n",
    "                changes = calcChanges(vals, refs)\n",
    "            else\n",
    "                vals = getValues(scenario, variable, region)\n",
    "                refs = getHistoricData(variable, region)\n",
    "                changes = calcChanges(vals, refs)\n",
    "            end\n",
    "            push!(runs, (scenario = scenario, variable = variable, region = region, values = vals, reference = refs, changes = changes))\n",
    "        end\n",
    "    end\n",
    "end"
   ]
  },
  {
   "cell_type": "markdown",
   "metadata": {},
   "source": [
    "## Export the dataset\n",
    "\n",
    "`JSON.json` takes two arguments: a Dict and the indent."
   ]
  },
  {
   "cell_type": "code",
   "execution_count": 181,
   "metadata": {},
   "outputs": [],
   "source": [
    "open(\"../static/data/investments.json\", \"w\") do io\n",
    "   write(io, JSON.json(runs, 2));\n",
    "end;"
   ]
  },
  {
   "cell_type": "code",
   "execution_count": null,
   "metadata": {},
   "outputs": [],
   "source": []
  },
  {
   "cell_type": "code",
   "execution_count": null,
   "metadata": {},
   "outputs": [],
   "source": []
  }
 ],
 "metadata": {
  "kernelspec": {
   "display_name": "Julia 1.1.0",
   "language": "julia",
   "name": "julia-1.1"
  },
  "language_info": {
   "file_extension": ".jl",
   "mimetype": "application/julia",
   "name": "julia",
   "version": "1.1.0"
  }
 },
 "nbformat": 4,
 "nbformat_minor": 4
}
