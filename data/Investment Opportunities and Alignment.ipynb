{
 "cells": [
  {
   "cell_type": "markdown",
   "metadata": {},
   "source": [
    "# Investment Opportunities and Alignment"
   ]
  },
  {
   "cell_type": "markdown",
   "metadata": {},
   "source": [
    "- how investments consistent with the Paris Agreement Long-term target look like\n",
    "- the investments of today determine to a large extent the emissions of tomorrow"
   ]
  },
  {
   "cell_type": "code",
   "execution_count": 33,
   "metadata": {},
   "outputs": [
    {
     "data": {
      "text/html": [
       "<table class=\"data-frame\"><thead><tr><th></th><th>Model</th><th>Region</th><th>Scenario</th><th>Variable</th></tr><tr><th></th><th>String</th><th>String</th><th>String</th><th>String</th></tr></thead><tbody><p>7,432 rows × 23 columns (omitted printing of 19 columns)</p><tr><th>1</th><td>AIM/CGE</td><td>World</td><td>CPol</td><td>Total energy investment</td></tr><tr><th>2</th><td>AIM/CGE</td><td>World</td><td>CPol</td><td>Total energy investment (supply side)</td></tr><tr><th>3</th><td>AIM/CGE</td><td>World</td><td>CPol</td><td>Low carbon investment</td></tr><tr><th>4</th><td>AIM/CGE</td><td>World</td><td>CPol</td><td>Low carbon investment (supply side)</td></tr><tr><th>5</th><td>AIM/CGE</td><td>World</td><td>CPol</td><td>Total_inv/GDP</td></tr><tr><th>6</th><td>AIM/CGE</td><td>World</td><td>CPol</td><td>LC_inv/GDP</td></tr><tr><th>7</th><td>AIM/CGE</td><td>World</td><td>CPol</td><td>Extraction and Conversion - Fossil Fuels</td></tr><tr><th>8</th><td>AIM/CGE</td><td>World</td><td>CPol</td><td>Electricity - Fossil Fuels w/o CCS</td></tr><tr><th>9</th><td>AIM/CGE</td><td>World</td><td>CPol</td><td>Hydrogen - Fossil</td></tr><tr><th>10</th><td>AIM/CGE</td><td>World</td><td>CPol</td><td>Electricity - Non-bio Renewables</td></tr><tr><th>11</th><td>AIM/CGE</td><td>World</td><td>CPol</td><td>Hydrogen - Non-fossil</td></tr><tr><th>12</th><td>AIM/CGE</td><td>World</td><td>CPol</td><td>Extraction and Conversion - Bioenergy</td></tr><tr><th>13</th><td>AIM/CGE</td><td>World</td><td>CPol</td><td>Extraction and Conversion - Nuclear</td></tr><tr><th>14</th><td>AIM/CGE</td><td>World</td><td>CPol</td><td>Electricity - T&amp;D and Storage</td></tr><tr><th>15</th><td>AIM/CGE</td><td>World</td><td>CPol</td><td>CCS</td></tr><tr><th>16</th><td>AIM/CGE</td><td>World</td><td>CPol</td><td>Energy Efficiency</td></tr><tr><th>17</th><td>AIM/CGE</td><td>World</td><td>CPol</td><td>Energy Supply|Electricity|Coal|w/ CCS</td></tr><tr><th>18</th><td>AIM/CGE</td><td>World</td><td>CPol</td><td>Energy Supply|Electricity|Coal|w/o CCS</td></tr><tr><th>19</th><td>AIM/CGE</td><td>World</td><td>CPol</td><td>Energy Supply|Electricity|Gas|w/ CCS</td></tr><tr><th>20</th><td>AIM/CGE</td><td>World</td><td>CPol</td><td>Energy Supply|Electricity|Gas|w/o CCS</td></tr><tr><th>21</th><td>AIM/CGE</td><td>World</td><td>CPol</td><td>Energy Supply|Electricity|Oil|w/ CCS</td></tr><tr><th>22</th><td>AIM/CGE</td><td>World</td><td>CPol</td><td>Energy Supply|Electricity|Biomass|w/ CCS</td></tr><tr><th>23</th><td>AIM/CGE</td><td>World</td><td>CPol</td><td>Energy Supply|Electricity|Biomass|w/o CCS</td></tr><tr><th>24</th><td>AIM/CGE</td><td>World</td><td>CPol</td><td>Energy Supply|Electricity|Nuclear</td></tr><tr><th>25</th><td>AIM/CGE</td><td>World</td><td>CPol</td><td>Energy Supply|Electricity|Hydro</td></tr><tr><th>26</th><td>AIM/CGE</td><td>World</td><td>CPol</td><td>Energy Supply|Electricity|Solar</td></tr><tr><th>27</th><td>AIM/CGE</td><td>World</td><td>CPol</td><td>Energy Supply|Electricity|Wind</td></tr><tr><th>28</th><td>AIM/CGE</td><td>World</td><td>CPol</td><td>Energy Supply|Electricity|Geothermal</td></tr><tr><th>29</th><td>AIM/CGE</td><td>World</td><td>CPol</td><td>Energy Supply|Electricity|Ocean</td></tr><tr><th>30</th><td>AIM/CGE</td><td>World</td><td>CPol</td><td>Energy Supply|Electricity|Transmission and Distribution</td></tr><tr><th>&vellip;</th><td>&vellip;</td><td>&vellip;</td><td>&vellip;</td><td>&vellip;</td></tr></tbody></table>"
      ],
      "text/latex": [
       "\\begin{tabular}{r|ccccc}\n",
       "\t& Model & Region & Scenario & Variable & \\\\\n",
       "\t\\hline\n",
       "\t& String & String & String & String & \\\\\n",
       "\t\\hline\n",
       "\t1 & AIM/CGE & World & CPol & Total energy investment & $\\dots$ \\\\\n",
       "\t2 & AIM/CGE & World & CPol & Total energy investment (supply side) & $\\dots$ \\\\\n",
       "\t3 & AIM/CGE & World & CPol & Low carbon investment & $\\dots$ \\\\\n",
       "\t4 & AIM/CGE & World & CPol & Low carbon investment (supply side) & $\\dots$ \\\\\n",
       "\t5 & AIM/CGE & World & CPol & Total\\_inv/GDP & $\\dots$ \\\\\n",
       "\t6 & AIM/CGE & World & CPol & LC\\_inv/GDP & $\\dots$ \\\\\n",
       "\t7 & AIM/CGE & World & CPol & Extraction and Conversion - Fossil Fuels & $\\dots$ \\\\\n",
       "\t8 & AIM/CGE & World & CPol & Electricity - Fossil Fuels w/o CCS & $\\dots$ \\\\\n",
       "\t9 & AIM/CGE & World & CPol & Hydrogen - Fossil & $\\dots$ \\\\\n",
       "\t10 & AIM/CGE & World & CPol & Electricity - Non-bio Renewables & $\\dots$ \\\\\n",
       "\t11 & AIM/CGE & World & CPol & Hydrogen - Non-fossil & $\\dots$ \\\\\n",
       "\t12 & AIM/CGE & World & CPol & Extraction and Conversion - Bioenergy & $\\dots$ \\\\\n",
       "\t13 & AIM/CGE & World & CPol & Extraction and Conversion - Nuclear & $\\dots$ \\\\\n",
       "\t14 & AIM/CGE & World & CPol & Electricity - T\\&D and Storage & $\\dots$ \\\\\n",
       "\t15 & AIM/CGE & World & CPol & CCS & $\\dots$ \\\\\n",
       "\t16 & AIM/CGE & World & CPol & Energy Efficiency & $\\dots$ \\\\\n",
       "\t17 & AIM/CGE & World & CPol & Energy Supply|Electricity|Coal|w/ CCS & $\\dots$ \\\\\n",
       "\t18 & AIM/CGE & World & CPol & Energy Supply|Electricity|Coal|w/o CCS & $\\dots$ \\\\\n",
       "\t19 & AIM/CGE & World & CPol & Energy Supply|Electricity|Gas|w/ CCS & $\\dots$ \\\\\n",
       "\t20 & AIM/CGE & World & CPol & Energy Supply|Electricity|Gas|w/o CCS & $\\dots$ \\\\\n",
       "\t21 & AIM/CGE & World & CPol & Energy Supply|Electricity|Oil|w/ CCS & $\\dots$ \\\\\n",
       "\t22 & AIM/CGE & World & CPol & Energy Supply|Electricity|Biomass|w/ CCS & $\\dots$ \\\\\n",
       "\t23 & AIM/CGE & World & CPol & Energy Supply|Electricity|Biomass|w/o CCS & $\\dots$ \\\\\n",
       "\t24 & AIM/CGE & World & CPol & Energy Supply|Electricity|Nuclear & $\\dots$ \\\\\n",
       "\t25 & AIM/CGE & World & CPol & Energy Supply|Electricity|Hydro & $\\dots$ \\\\\n",
       "\t26 & AIM/CGE & World & CPol & Energy Supply|Electricity|Solar & $\\dots$ \\\\\n",
       "\t27 & AIM/CGE & World & CPol & Energy Supply|Electricity|Wind & $\\dots$ \\\\\n",
       "\t28 & AIM/CGE & World & CPol & Energy Supply|Electricity|Geothermal & $\\dots$ \\\\\n",
       "\t29 & AIM/CGE & World & CPol & Energy Supply|Electricity|Ocean & $\\dots$ \\\\\n",
       "\t30 & AIM/CGE & World & CPol & Energy Supply|Electricity|Transmission and Distribution & $\\dots$ \\\\\n",
       "\t$\\dots$ & $\\dots$ & $\\dots$ & $\\dots$ & $\\dots$ &  \\\\\n",
       "\\end{tabular}\n"
      ],
      "text/plain": [
       "7432×23 DataFrames.DataFrame. Omitted printing of 20 columns\n",
       "│ Row  │ Model         │ Region │ Scenario │\n",
       "│      │ \u001b[90mString\u001b[39m        │ \u001b[90mString\u001b[39m │ \u001b[90mString\u001b[39m   │\n",
       "├──────┼───────────────┼────────┼──────────┤\n",
       "│ 1    │ AIM/CGE       │ World  │ CPol     │\n",
       "│ 2    │ AIM/CGE       │ World  │ CPol     │\n",
       "│ 3    │ AIM/CGE       │ World  │ CPol     │\n",
       "│ 4    │ AIM/CGE       │ World  │ CPol     │\n",
       "│ 5    │ AIM/CGE       │ World  │ CPol     │\n",
       "│ 6    │ AIM/CGE       │ World  │ CPol     │\n",
       "│ 7    │ AIM/CGE       │ World  │ CPol     │\n",
       "│ 8    │ AIM/CGE       │ World  │ CPol     │\n",
       "│ 9    │ AIM/CGE       │ World  │ CPol     │\n",
       "│ 10   │ AIM/CGE       │ World  │ CPol     │\n",
       "⋮\n",
       "│ 7422 │ WITCH-GLOBIOM │ R5LAM  │ 1.5C     │\n",
       "│ 7423 │ WITCH-GLOBIOM │ R5LAM  │ 1.5C     │\n",
       "│ 7424 │ WITCH-GLOBIOM │ R5LAM  │ 1.5C     │\n",
       "│ 7425 │ WITCH-GLOBIOM │ R5LAM  │ 1.5C     │\n",
       "│ 7426 │ WITCH-GLOBIOM │ R5LAM  │ 1.5C     │\n",
       "│ 7427 │ WITCH-GLOBIOM │ R5LAM  │ 1.5C     │\n",
       "│ 7428 │ WITCH-GLOBIOM │ R5LAM  │ 1.5C     │\n",
       "│ 7429 │ WITCH-GLOBIOM │ R5LAM  │ 1.5C     │\n",
       "│ 7430 │ WITCH-GLOBIOM │ R5LAM  │ 1.5C     │\n",
       "│ 7431 │ WITCH-GLOBIOM │ R5LAM  │ 1.5C     │\n",
       "│ 7432 │ WITCH-GLOBIOM │ R5LAM  │ 1.5C     │"
      ]
     },
     "execution_count": 33,
     "metadata": {},
     "output_type": "execute_result"
    }
   ],
   "source": [
    "using CSV\n",
    "using Statistics\n",
    "using JSON\n",
    "\n",
    "data = CSV.read(\"41560_2018_179_MOESM2_ESM-1.csv\")"
   ]
  },
  {
   "cell_type": "code",
   "execution_count": 3,
   "metadata": {},
   "outputs": [
    {
     "data": {
      "text/plain": [
       "(\"Energy Efficiency\", \"CCS\", \"Electricity - T&D and Storage\", \"Extraction and Conversion - Nuclear\", \"Extraction and Conversion - Bioenergy\", \"Hydrogen - Non-fossil\", \"Electricity - Non-bio Renewables\", \"Hydrogen - Fossil\", \"Electricity - Fossil Fuels w/o CCS\", \"Extraction and Conversion - Fossil Fuels\")"
      ]
     },
     "execution_count": 3,
     "metadata": {},
     "output_type": "execute_result"
    }
   ],
   "source": [
    "VARIABLES = (\n",
    "  \"Energy Efficiency\",\n",
    "  \"CCS\",\n",
    "  \"Electricity - T&D and Storage\",\n",
    "  \"Extraction and Conversion - Nuclear\",\n",
    "  \"Extraction and Conversion - Bioenergy\",\n",
    "  \"Hydrogen - Non-fossil\",\n",
    "  \"Electricity - Non-bio Renewables\",\n",
    "  \"Hydrogen - Fossil\",\n",
    "  \"Electricity - Fossil Fuels w/o CCS\",\n",
    "  \"Extraction and Conversion - Fossil Fuels\"\n",
    ")"
   ]
  },
  {
   "cell_type": "code",
   "execution_count": 4,
   "metadata": {},
   "outputs": [
    {
     "data": {
      "text/plain": [
       "(\"AIM/CGE\", \"IMAGE\", \"MESSAGEix-GLOBIOM\", \"POLES\", \"REMIND-MAgPIE\")"
      ]
     },
     "execution_count": 4,
     "metadata": {},
     "output_type": "execute_result"
    }
   ],
   "source": [
    "MODELS = (\n",
    "  \"AIM/CGE\",\n",
    "  \"IMAGE\",\n",
    "  \"MESSAGEix-GLOBIOM\",\n",
    "  \"POLES\",\n",
    "  \"REMIND-MAgPIE\"\n",
    ")"
   ]
  },
  {
   "cell_type": "code",
   "execution_count": 5,
   "metadata": {},
   "outputs": [
    {
     "data": {
      "text/plain": [
       "(\"World\", \"CHN\", \"IND\", \"USA\", \"R5OECD90+EU\", \"R5REF\", \"R5ASIA\", \"R5MAF\", \"R5LAM\", \"EU\", \"Region\")"
      ]
     },
     "execution_count": 5,
     "metadata": {},
     "output_type": "execute_result"
    }
   ],
   "source": [
    "REGIONS = (\n",
    "  \"World\",\n",
    "  \"CHN\",\n",
    "  \"IND\",\n",
    "  \"USA\",\n",
    "  \"R5OECD90+EU\",\n",
    "  \"R5REF\",\n",
    "  \"R5ASIA\",\n",
    "  \"R5MAF\",\n",
    "  \"R5LAM\",\n",
    "  \"EU\",\n",
    "  \"Region\"\n",
    ")"
   ]
  },
  {
   "cell_type": "code",
   "execution_count": 6,
   "metadata": {},
   "outputs": [
    {
     "data": {
      "text/plain": [
       "(\"1.5C\", \"CPol\", \"NDC\", \"2C\")"
      ]
     },
     "execution_count": 6,
     "metadata": {},
     "output_type": "execute_result"
    }
   ],
   "source": [
    "SCENARIOS = (\n",
    "  \"1.5C\",\n",
    "  \"CPol\",\n",
    "  \"NDC\",\n",
    "  \"2C\"\n",
    ")"
   ]
  },
  {
   "cell_type": "markdown",
   "metadata": {},
   "source": [
    "The `in` function checks if the first parameter is in second parameter."
   ]
  },
  {
   "cell_type": "code",
   "execution_count": 7,
   "metadata": {},
   "outputs": [
    {
     "data": {
      "text/plain": [
       "included (generic function with 1 method)"
      ]
     },
     "execution_count": 7,
     "metadata": {},
     "output_type": "execute_result"
    }
   ],
   "source": [
    "function included(d)\n",
    "    return in(d[:Variable], VARIABLES) && in(d[:Model], MODELS) && in(d[:Region], REGIONS) && in(d[:Scenario], SCENARIOS)\n",
    "end"
   ]
  },
  {
   "cell_type": "code",
   "execution_count": 8,
   "metadata": {
    "collapsed": true,
    "jupyter": {
     "outputs_hidden": true
    }
   },
   "outputs": [
    {
     "data": {
      "text/html": [
       "<table class=\"data-frame\"><thead><tr><th></th><th>Model</th><th>Region</th><th>Scenario</th><th>Variable</th><th>Unit</th></tr><tr><th></th><th>String</th><th>String</th><th>String</th><th>String</th><th>String</th></tr></thead><tbody><p>2,000 rows × 23 columns (omitted printing of 18 columns)</p><tr><th>1</th><td>AIM/CGE</td><td>World</td><td>CPol</td><td>Extraction and Conversion - Fossil Fuels</td><td>Billion US$2015/yr</td></tr><tr><th>2</th><td>AIM/CGE</td><td>World</td><td>CPol</td><td>Electricity - Fossil Fuels w/o CCS</td><td>Billion US$2015/yr</td></tr><tr><th>3</th><td>AIM/CGE</td><td>World</td><td>CPol</td><td>Hydrogen - Fossil</td><td>Billion US$2015/yr</td></tr><tr><th>4</th><td>AIM/CGE</td><td>World</td><td>CPol</td><td>Electricity - Non-bio Renewables</td><td>Billion US$2015/yr</td></tr><tr><th>5</th><td>AIM/CGE</td><td>World</td><td>CPol</td><td>Hydrogen - Non-fossil</td><td>Billion US$2015/yr</td></tr><tr><th>6</th><td>AIM/CGE</td><td>World</td><td>CPol</td><td>Extraction and Conversion - Bioenergy</td><td>Billion US$2015/yr</td></tr><tr><th>7</th><td>AIM/CGE</td><td>World</td><td>CPol</td><td>Extraction and Conversion - Nuclear</td><td>Billion US$2015/yr</td></tr><tr><th>8</th><td>AIM/CGE</td><td>World</td><td>CPol</td><td>Electricity - T&amp;D and Storage</td><td>Billion US$2015/yr</td></tr><tr><th>9</th><td>AIM/CGE</td><td>World</td><td>CPol</td><td>CCS</td><td>Billion US$2015/yr</td></tr><tr><th>10</th><td>AIM/CGE</td><td>World</td><td>CPol</td><td>Energy Efficiency</td><td>Billion US$2015/yr</td></tr><tr><th>11</th><td>AIM/CGE</td><td>World</td><td>NDC</td><td>Extraction and Conversion - Fossil Fuels</td><td>Billion US$2015/yr</td></tr><tr><th>12</th><td>AIM/CGE</td><td>World</td><td>NDC</td><td>Electricity - Fossil Fuels w/o CCS</td><td>Billion US$2015/yr</td></tr><tr><th>13</th><td>AIM/CGE</td><td>World</td><td>NDC</td><td>Hydrogen - Fossil</td><td>Billion US$2015/yr</td></tr><tr><th>14</th><td>AIM/CGE</td><td>World</td><td>NDC</td><td>Electricity - Non-bio Renewables</td><td>Billion US$2015/yr</td></tr><tr><th>15</th><td>AIM/CGE</td><td>World</td><td>NDC</td><td>Hydrogen - Non-fossil</td><td>Billion US$2015/yr</td></tr><tr><th>16</th><td>AIM/CGE</td><td>World</td><td>NDC</td><td>Extraction and Conversion - Bioenergy</td><td>Billion US$2015/yr</td></tr><tr><th>17</th><td>AIM/CGE</td><td>World</td><td>NDC</td><td>Extraction and Conversion - Nuclear</td><td>Billion US$2015/yr</td></tr><tr><th>18</th><td>AIM/CGE</td><td>World</td><td>NDC</td><td>Electricity - T&amp;D and Storage</td><td>Billion US$2015/yr</td></tr><tr><th>19</th><td>AIM/CGE</td><td>World</td><td>NDC</td><td>CCS</td><td>Billion US$2015/yr</td></tr><tr><th>20</th><td>AIM/CGE</td><td>World</td><td>NDC</td><td>Energy Efficiency</td><td>Billion US$2015/yr</td></tr><tr><th>21</th><td>AIM/CGE</td><td>World</td><td>2C</td><td>Extraction and Conversion - Fossil Fuels</td><td>Billion US$2015/yr</td></tr><tr><th>22</th><td>AIM/CGE</td><td>World</td><td>2C</td><td>Electricity - Fossil Fuels w/o CCS</td><td>Billion US$2015/yr</td></tr><tr><th>23</th><td>AIM/CGE</td><td>World</td><td>2C</td><td>Hydrogen - Fossil</td><td>Billion US$2015/yr</td></tr><tr><th>24</th><td>AIM/CGE</td><td>World</td><td>2C</td><td>Electricity - Non-bio Renewables</td><td>Billion US$2015/yr</td></tr><tr><th>25</th><td>AIM/CGE</td><td>World</td><td>2C</td><td>Hydrogen - Non-fossil</td><td>Billion US$2015/yr</td></tr><tr><th>26</th><td>AIM/CGE</td><td>World</td><td>2C</td><td>Extraction and Conversion - Bioenergy</td><td>Billion US$2015/yr</td></tr><tr><th>27</th><td>AIM/CGE</td><td>World</td><td>2C</td><td>Extraction and Conversion - Nuclear</td><td>Billion US$2015/yr</td></tr><tr><th>28</th><td>AIM/CGE</td><td>World</td><td>2C</td><td>Electricity - T&amp;D and Storage</td><td>Billion US$2015/yr</td></tr><tr><th>29</th><td>AIM/CGE</td><td>World</td><td>2C</td><td>CCS</td><td>Billion US$2015/yr</td></tr><tr><th>30</th><td>AIM/CGE</td><td>World</td><td>2C</td><td>Energy Efficiency</td><td>Billion US$2015/yr</td></tr><tr><th>&vellip;</th><td>&vellip;</td><td>&vellip;</td><td>&vellip;</td><td>&vellip;</td><td>&vellip;</td></tr></tbody></table>"
      ],
      "text/latex": [
       "\\begin{tabular}{r|cccccc}\n",
       "\t& Model & Region & Scenario & Variable & Unit & \\\\\n",
       "\t\\hline\n",
       "\t& String & String & String & String & String & \\\\\n",
       "\t\\hline\n",
       "\t1 & AIM/CGE & World & CPol & Extraction and Conversion - Fossil Fuels & Billion US\\$2015/yr & $\\dots$ \\\\\n",
       "\t2 & AIM/CGE & World & CPol & Electricity - Fossil Fuels w/o CCS & Billion US\\$2015/yr & $\\dots$ \\\\\n",
       "\t3 & AIM/CGE & World & CPol & Hydrogen - Fossil & Billion US\\$2015/yr & $\\dots$ \\\\\n",
       "\t4 & AIM/CGE & World & CPol & Electricity - Non-bio Renewables & Billion US\\$2015/yr & $\\dots$ \\\\\n",
       "\t5 & AIM/CGE & World & CPol & Hydrogen - Non-fossil & Billion US\\$2015/yr & $\\dots$ \\\\\n",
       "\t6 & AIM/CGE & World & CPol & Extraction and Conversion - Bioenergy & Billion US\\$2015/yr & $\\dots$ \\\\\n",
       "\t7 & AIM/CGE & World & CPol & Extraction and Conversion - Nuclear & Billion US\\$2015/yr & $\\dots$ \\\\\n",
       "\t8 & AIM/CGE & World & CPol & Electricity - T\\&D and Storage & Billion US\\$2015/yr & $\\dots$ \\\\\n",
       "\t9 & AIM/CGE & World & CPol & CCS & Billion US\\$2015/yr & $\\dots$ \\\\\n",
       "\t10 & AIM/CGE & World & CPol & Energy Efficiency & Billion US\\$2015/yr & $\\dots$ \\\\\n",
       "\t11 & AIM/CGE & World & NDC & Extraction and Conversion - Fossil Fuels & Billion US\\$2015/yr & $\\dots$ \\\\\n",
       "\t12 & AIM/CGE & World & NDC & Electricity - Fossil Fuels w/o CCS & Billion US\\$2015/yr & $\\dots$ \\\\\n",
       "\t13 & AIM/CGE & World & NDC & Hydrogen - Fossil & Billion US\\$2015/yr & $\\dots$ \\\\\n",
       "\t14 & AIM/CGE & World & NDC & Electricity - Non-bio Renewables & Billion US\\$2015/yr & $\\dots$ \\\\\n",
       "\t15 & AIM/CGE & World & NDC & Hydrogen - Non-fossil & Billion US\\$2015/yr & $\\dots$ \\\\\n",
       "\t16 & AIM/CGE & World & NDC & Extraction and Conversion - Bioenergy & Billion US\\$2015/yr & $\\dots$ \\\\\n",
       "\t17 & AIM/CGE & World & NDC & Extraction and Conversion - Nuclear & Billion US\\$2015/yr & $\\dots$ \\\\\n",
       "\t18 & AIM/CGE & World & NDC & Electricity - T\\&D and Storage & Billion US\\$2015/yr & $\\dots$ \\\\\n",
       "\t19 & AIM/CGE & World & NDC & CCS & Billion US\\$2015/yr & $\\dots$ \\\\\n",
       "\t20 & AIM/CGE & World & NDC & Energy Efficiency & Billion US\\$2015/yr & $\\dots$ \\\\\n",
       "\t21 & AIM/CGE & World & 2C & Extraction and Conversion - Fossil Fuels & Billion US\\$2015/yr & $\\dots$ \\\\\n",
       "\t22 & AIM/CGE & World & 2C & Electricity - Fossil Fuels w/o CCS & Billion US\\$2015/yr & $\\dots$ \\\\\n",
       "\t23 & AIM/CGE & World & 2C & Hydrogen - Fossil & Billion US\\$2015/yr & $\\dots$ \\\\\n",
       "\t24 & AIM/CGE & World & 2C & Electricity - Non-bio Renewables & Billion US\\$2015/yr & $\\dots$ \\\\\n",
       "\t25 & AIM/CGE & World & 2C & Hydrogen - Non-fossil & Billion US\\$2015/yr & $\\dots$ \\\\\n",
       "\t26 & AIM/CGE & World & 2C & Extraction and Conversion - Bioenergy & Billion US\\$2015/yr & $\\dots$ \\\\\n",
       "\t27 & AIM/CGE & World & 2C & Extraction and Conversion - Nuclear & Billion US\\$2015/yr & $\\dots$ \\\\\n",
       "\t28 & AIM/CGE & World & 2C & Electricity - T\\&D and Storage & Billion US\\$2015/yr & $\\dots$ \\\\\n",
       "\t29 & AIM/CGE & World & 2C & CCS & Billion US\\$2015/yr & $\\dots$ \\\\\n",
       "\t30 & AIM/CGE & World & 2C & Energy Efficiency & Billion US\\$2015/yr & $\\dots$ \\\\\n",
       "\t$\\dots$ & $\\dots$ & $\\dots$ & $\\dots$ & $\\dots$ & $\\dots$ &  \\\\\n",
       "\\end{tabular}\n"
      ],
      "text/plain": [
       "2000×23 DataFrames.DataFrame. Omitted printing of 20 columns\n",
       "│ Row  │ Model         │ Region │ Scenario │\n",
       "│      │ \u001b[90mString\u001b[39m        │ \u001b[90mString\u001b[39m │ \u001b[90mString\u001b[39m   │\n",
       "├──────┼───────────────┼────────┼──────────┤\n",
       "│ 1    │ AIM/CGE       │ World  │ CPol     │\n",
       "│ 2    │ AIM/CGE       │ World  │ CPol     │\n",
       "│ 3    │ AIM/CGE       │ World  │ CPol     │\n",
       "│ 4    │ AIM/CGE       │ World  │ CPol     │\n",
       "│ 5    │ AIM/CGE       │ World  │ CPol     │\n",
       "│ 6    │ AIM/CGE       │ World  │ CPol     │\n",
       "│ 7    │ AIM/CGE       │ World  │ CPol     │\n",
       "│ 8    │ AIM/CGE       │ World  │ CPol     │\n",
       "│ 9    │ AIM/CGE       │ World  │ CPol     │\n",
       "│ 10   │ AIM/CGE       │ World  │ CPol     │\n",
       "⋮\n",
       "│ 1990 │ REMIND-MAgPIE │ R5LAM  │ 2C       │\n",
       "│ 1991 │ REMIND-MAgPIE │ R5LAM  │ 1.5C     │\n",
       "│ 1992 │ REMIND-MAgPIE │ R5LAM  │ 1.5C     │\n",
       "│ 1993 │ REMIND-MAgPIE │ R5LAM  │ 1.5C     │\n",
       "│ 1994 │ REMIND-MAgPIE │ R5LAM  │ 1.5C     │\n",
       "│ 1995 │ REMIND-MAgPIE │ R5LAM  │ 1.5C     │\n",
       "│ 1996 │ REMIND-MAgPIE │ R5LAM  │ 1.5C     │\n",
       "│ 1997 │ REMIND-MAgPIE │ R5LAM  │ 1.5C     │\n",
       "│ 1998 │ REMIND-MAgPIE │ R5LAM  │ 1.5C     │\n",
       "│ 1999 │ REMIND-MAgPIE │ R5LAM  │ 1.5C     │\n",
       "│ 2000 │ REMIND-MAgPIE │ R5LAM  │ 1.5C     │"
      ]
     },
     "execution_count": 8,
     "metadata": {},
     "output_type": "execute_result"
    }
   ],
   "source": [
    "datum = filter(included, data)"
   ]
  },
  {
   "cell_type": "code",
   "execution_count": 9,
   "metadata": {},
   "outputs": [
    {
     "data": {
      "text/plain": [
       "(2015, 2020, 2025, 2030, 2035, 2040, 2045, 2050, 2055, 2060, 2065, 2070, 2075, 2080, 2085, 2090, 2095, 2100)"
      ]
     },
     "execution_count": 9,
     "metadata": {},
     "output_type": "execute_result"
    }
   ],
   "source": [
    "YEARS = (2015, 2020, 2025, 2030, 2035, 2040, 2045, 2050, 2055, 2060, 2065, 2070, 2075, 2080, 2085, 2090, 2095, 2100)"
   ]
  },
  {
   "cell_type": "markdown",
   "metadata": {},
   "source": [
    "To get a value in a DataFrame we use [x, y], where `x` is the row number and `y` the cell id. This would usually look something like `[1, :Region]`, but in this special case the id of the column is a `Symbol` with the name of the year. So we use `Symbol(year)`."
   ]
  },
  {
   "cell_type": "code",
   "execution_count": 10,
   "metadata": {},
   "outputs": [
    {
     "data": {
      "text/plain": [
       "sumYears (generic function with 1 method)"
      ]
     },
     "execution_count": 10,
     "metadata": {},
     "output_type": "execute_result"
    }
   ],
   "source": [
    "function sumYears(row)\n",
    "    sum = 0\n",
    "    for year in YEARS\n",
    "        raw = row[1, Symbol(year)]\n",
    "        value = parse(Float64, replace(raw, \",\" => \".\"))\n",
    "        sum += value\n",
    "    end\n",
    "    return sum\n",
    "end"
   ]
  },
  {
   "cell_type": "markdown",
   "metadata": {},
   "source": [
    "## GetValues\n",
    "This function finds the rows in the DataFrame, gets every value and calculates the average.\n",
    "\n",
    "First, we create an empty Dictionary with `Strings` as keys and `Float64` as numbers.\n",
    "We loop over the `MODELS` and search for each row with the current model.\n",
    "If we found one, we summarise the years and add the result to the Dictionary\n",
    "\n",
    "After the loop, we get the values of the dictionary and calculate the mean value."
   ]
  },
  {
   "cell_type": "code",
   "execution_count": 41,
   "metadata": {},
   "outputs": [
    {
     "data": {
      "text/plain": [
       "getValues (generic function with 1 method)"
      ]
     },
     "execution_count": 41,
     "metadata": {},
     "output_type": "execute_result"
    }
   ],
   "source": [
    "function getValues(scenario, variable, region)\n",
    "    dict = Dict{String, Float64}()\n",
    "    for model in MODELS\n",
    "        row = findRow(scenario, variable, region, model)\n",
    "        if (size(row, 1) > 0)\n",
    "            dict[model] = sumYears(row)\n",
    "        end\n",
    "    end\n",
    "    dict[\"average\"] = mean(values(dict))\n",
    "    return dict\n",
    "end"
   ]
  },
  {
   "cell_type": "markdown",
   "metadata": {},
   "source": [
    "### Filter function\n",
    "The filter function takes two parameter: a function returning true or false for each item; and a list of items."
   ]
  },
  {
   "cell_type": "code",
   "execution_count": 16,
   "metadata": {},
   "outputs": [
    {
     "data": {
      "text/plain": [
       "findRow (generic function with 1 method)"
      ]
     },
     "execution_count": 16,
     "metadata": {},
     "output_type": "execute_result"
    }
   ],
   "source": [
    "function findRow(scenario, variable, region, model)\n",
    "    return filter(row -> row[:Scenario] == scenario && row[:Region] == region && row[:Variable] == variable && row[:Model] == model, datum)\n",
    "end"
   ]
  },
  {
   "cell_type": "code",
   "execution_count": 42,
   "metadata": {},
   "outputs": [],
   "source": [
    "runs = []\n",
    "\n",
    "for scenario in SCENARIOS\n",
    "    for variable in VARIABLES\n",
    "        for region in REGIONS\n",
    "            vals = getValues(scenario, variable, region)\n",
    "            push!(runs, (scenario = scenario, variable = variable, region = region, values = vals))\n",
    "        end\n",
    "    end\n",
    "end"
   ]
  },
  {
   "cell_type": "code",
   "execution_count": 38,
   "metadata": {},
   "outputs": [],
   "source": [
    "open(\"invest.json\", \"w\") do io\n",
    "   write(io, JSON.json(runs));\n",
    "end;"
   ]
  }
 ],
 "metadata": {
  "kernelspec": {
   "display_name": "Julia 1.1.0",
   "language": "julia",
   "name": "julia-1.1"
  },
  "language_info": {
   "file_extension": ".jl",
   "mimetype": "application/julia",
   "name": "julia",
   "version": "1.1.0"
  }
 },
 "nbformat": 4,
 "nbformat_minor": 4
}
